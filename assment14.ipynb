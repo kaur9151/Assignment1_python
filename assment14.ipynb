{
 "cells": [
  {
   "cell_type": "code",
   "execution_count": 3,
   "id": "8c8712c1-7a99-4006-aea4-906a4b73766e",
   "metadata": {},
   "outputs": [
    {
     "name": "stdin",
     "output_type": "stream",
     "text": [
      "Enter n: 100\n"
     ]
    },
    {
     "name": "stdout",
     "output_type": "stream",
     "text": [
      "0\n",
      "7\n",
      "14\n",
      "21\n",
      "28\n",
      "35\n",
      "42\n",
      "49\n",
      "56\n",
      "63\n",
      "70\n",
      "77\n",
      "84\n",
      "91\n",
      "98\n"
     ]
    }
   ],
   "source": [
    "\"\"\"Define a class with a generator which can iterate the numbers, which are divisible by\n",
    "7, between a given range 0 and n.\"\"\"\n",
    "class my_gen():\n",
    "    def __init__(self, num):\n",
    "        self.num=num\n",
    "    def generator(num):\n",
    "        for i in range(num):\n",
    "            if i%7==0:\n",
    "                yield i\n",
    "n=int(input(\"Enter n:\"))\n",
    "a=my_gen.generator(n)\n",
    "for j in my_gen.generator(n):\n",
    "    print(j)"
   ]
  },
  {
   "cell_type": "code",
   "execution_count": 18,
   "id": "1a1e818b-b95f-4878-8be9-6fa7449cc2ec",
   "metadata": {},
   "outputs": [
    {
     "name": "stdin",
     "output_type": "stream",
     "text": [
      " New to Python or choosing between Python 2 and Python 3? Read Python 2 or Python 3.\n"
     ]
    },
    {
     "name": "stdout",
     "output_type": "stream",
     "text": [
      "2:2\n",
      "3.:1\n",
      "3?:1\n",
      "New:1\n",
      "Python:5\n",
      "Read:1\n",
      "and:1\n",
      "between:1\n",
      "choosing:1\n",
      "or:2\n",
      "to:1\n"
     ]
    }
   ],
   "source": [
    "\"\"\"Write a program to compute the frequency of the words from the input. The output\n",
    "should output after sorting the key alphanumerically.\n",
    "Suppose the following input is supplied to the program:\n",
    "New to Python or choosing between Python 2 and Python 3? Read Python 2 or\n",
    "Python 3.\"\"\"\n",
    "from collections import Counter\n",
    "string=input().split()\n",
    "#print(string)\n",
    "string.sort()\n",
    "count=dict(Counter(string))\n",
    "#print(count)\n",
    "for i in count:\n",
    "    print(f\"{i}:{count[i]}\")\n"
   ]
  },
  {
   "cell_type": "code",
   "execution_count": 13,
   "id": "0f0e9810-02d4-4550-a9de-e20ce0dd647a",
   "metadata": {},
   "outputs": [
    {
     "name": "stdout",
     "output_type": "stream",
     "text": [
      "Male\n",
      "Female\n"
     ]
    }
   ],
   "source": [
    "#Define a class Person and its two child classes: Male and Female. All classes have a\n",
    "#method &quot;getGender&quot; which can print &quot;Male&quot; for Male class and &quot;Female&quot; for Female\n",
    "#class.\n",
    "class Person:\n",
    "    def getGender(self):\n",
    "        return unknown\n",
    "class Male(Person):\n",
    "    def getGender(self):\n",
    "        return \"Male\"\n",
    "class Female(Person):\n",
    "    def getGender(self):\n",
    "        return \"Female\"\n",
    "m1=Male()\n",
    "f1=Female()\n",
    "a=m1.getGender()\n",
    "print(a)\n",
    "b=f1.getGender()\n",
    "print(b)"
   ]
  },
  {
   "cell_type": "code",
   "execution_count": 15,
   "id": "b3864d53-b1ee-4fba-8ebc-1ce013252965",
   "metadata": {},
   "outputs": [
    {
     "name": "stdout",
     "output_type": "stream",
     "text": [
      "I Play Hockey\n",
      "I Play Football\n",
      "I Love Hockey\n",
      "I Love Football\n",
      "You Play Hockey\n",
      "You Play Football\n",
      "You Love Hockey\n",
      "You Love Football\n"
     ]
    }
   ],
   "source": [
    "#Please write a program to generate all sentences where subject is in [&quot;I&quot;, &quot;You&quot;] and\n",
    "#verb is in [&quot;Play&quot;, &quot;Love&quot;] and the object is in [&quot;Hockey&quot;,&quot;Football&quot;].\n",
    "subject=[\"I\",\"You\"]\n",
    "verb=[\"Play\",\"Love\"]\n",
    "object1=[\"Hockey\",\"Football\"]\n",
    "for i in subject:\n",
    "    for j in verb:\n",
    "        for k in object1:\n",
    "            print(i+\" \"+j+\" \"+k)"
   ]
  },
  {
   "cell_type": "code",
   "execution_count": 20,
   "id": "12e88c07-9339-4232-958c-b80bdaee2630",
   "metadata": {},
   "outputs": [
    {
     "name": "stdout",
     "output_type": "stream",
     "text": [
      "b'x\\x9c\\xcbH\\xcd\\xc9\\xc9W(\\xcf/\\xcaIQ\\xcc \\x82\\r\\x00\\xbd[\\x11\\xf5'\n",
      "hello world!hello world!hello world!hello world!\n"
     ]
    }
   ],
   "source": [
    "#Please write a program to compress and decompress the string &quot;hello world!hello\n",
    "#world!hello world!hello world!&quot;.\n",
    "import zlib\n",
    "string = \"hello world!hello world!hello world!hello world!\"\n",
    "string = zlib.compress(string.encode())\n",
    "print(string)\n",
    "print(zlib.decompress(string).decode())"
   ]
  },
  {
   "cell_type": "code",
   "execution_count": 4,
   "id": "164a77df-17a9-4edd-9c3c-8d7746421d89",
   "metadata": {},
   "outputs": [
    {
     "name": "stdout",
     "output_type": "stream",
     "text": [
      "10\n"
     ]
    }
   ],
   "source": [
    "#Please write a binary search function which searches an item in a sorted list. The\n",
    "#function should return the index of element to be searched in the list.\n",
    "def find_item(list1,item):\n",
    "    low=0\n",
    "    high=len(list1)-1\n",
    "    while low<=high:\n",
    "        middle=(high+low)//2\n",
    "        if list1[middle]<item:\n",
    "            low=middle+1\n",
    "        elif list1[middle]>item:\n",
    "            high=middle-1\n",
    "        else:\n",
    "            return middle\n",
    "list2=[0,1,2,3,4,5,6,7,8,9,10]\n",
    "print(find_item(list2,10))\n",
    "        "
   ]
  },
  {
   "cell_type": "code",
   "execution_count": null,
   "id": "737ab29d-ec55-4674-b616-5f24b762c647",
   "metadata": {},
   "outputs": [],
   "source": []
  }
 ],
 "metadata": {
  "kernelspec": {
   "display_name": "Python 3 (ipykernel)",
   "language": "python",
   "name": "python3"
  },
  "language_info": {
   "codemirror_mode": {
    "name": "ipython",
    "version": 3
   },
   "file_extension": ".py",
   "mimetype": "text/x-python",
   "name": "python",
   "nbconvert_exporter": "python",
   "pygments_lexer": "ipython3",
   "version": "3.10.6"
  }
 },
 "nbformat": 4,
 "nbformat_minor": 5
}
