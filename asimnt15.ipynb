{
 "cells": [
  {
   "cell_type": "code",
   "execution_count": 6,
   "id": "e0e17d05-4cd9-47af-b062-bbcbb6873643",
   "metadata": {},
   "outputs": [
    {
     "name": "stdin",
     "output_type": "stream",
     "text": [
      " 100\n"
     ]
    },
    {
     "name": "stdout",
     "output_type": "stream",
     "text": [
      "0,35,70\n"
     ]
    }
   ],
   "source": [
    "'''Please write a program using generator to print the numbers which can be divisible by 5 and\n",
    "7 between 0 and n in comma separated form while n is input by console.\n",
    "Example:\n",
    "If the following n is given as input to the program:\n",
    "100\n",
    "Then, the output of the program should be:\n",
    "0,35,70'''\n",
    "def gen(num):\n",
    "    for j in range(num):\n",
    "        if j%5==0 and j%7==0:\n",
    "            yield j\n",
    "n=int(input())\n",
    "list1=[]\n",
    "for i in gen(n):\n",
    "    list1.append(i)\n",
    "#print(list1)\n",
    "length=len(list1)\n",
    "stri=''\n",
    "for j in list1:\n",
    "    stri+=str(j)\n",
    "    length-=1\n",
    "    if length>0:\n",
    "        stri+=\",\"\n",
    "print(stri)"
   ]
  },
  {
   "cell_type": "code",
   "execution_count": 7,
   "id": "ac922a5e-a3da-4ce5-a515-3f8d507c0bd4",
   "metadata": {},
   "outputs": [
    {
     "name": "stdin",
     "output_type": "stream",
     "text": [
      " 10\n"
     ]
    },
    {
     "name": "stdout",
     "output_type": "stream",
     "text": [
      "0,2,4,6,8,10\n"
     ]
    }
   ],
   "source": [
    "'''Please write a program using generator to print the even numbers between 0 and n in comma\n",
    "separated form while n is input by console.\n",
    "Example:\n",
    "If the following n is given as input to the program:\n",
    "10\n",
    "Then, the output of the program should be:\n",
    "0,2,4,6,8,10'''\n",
    "\n",
    "def gen(num):\n",
    "    num=num+1\n",
    "    for j in range(num):\n",
    "        if j%2==0:\n",
    "            yield j\n",
    "n=int(input())\n",
    "list1=[]\n",
    "for i in gen(n):\n",
    "    list1.append(i)\n",
    "#print(list1)\n",
    "length=len(list1)\n",
    "stri=''\n",
    "for j in list1:\n",
    "    stri+=str(j)\n",
    "    length-=1\n",
    "    if length>0:\n",
    "        stri+=\",\"\n",
    "print(stri)"
   ]
  },
  {
   "cell_type": "code",
   "execution_count": 20,
   "id": "6d6d133e-4161-4492-ab10-64bde49b9019",
   "metadata": {},
   "outputs": [
    {
     "name": "stdin",
     "output_type": "stream",
     "text": [
      " 7\n"
     ]
    },
    {
     "name": "stdout",
     "output_type": "stream",
     "text": [
      "[0, 1, 1, 2, 3, 5, 8, 13]\n"
     ]
    }
   ],
   "source": [
    "'''\n",
    "The Fibonacci Sequence is computed based on the following formula:\n",
    "f(n)=0 if n=0\n",
    "f(n)=1 if n=1\n",
    "f(n)=f(n-1)+f(n-2) if n>1\n",
    "Please write a program using list comprehension to print the Fibonacci Sequence in comma\n",
    "separated form with a given n input by console.\n",
    "Example:\n",
    "If the following n is given as input to the program:\n",
    "7\n",
    "\n",
    "Then, the output of the program should be:\n",
    "0,1,1,2,3,5,8,13\n",
    "'''\n",
    "n=int(input())\n",
    "mylist=[0,1]  \n",
    "[mylist.append(mylist[-2]+mylist[-1]) for n in range(n-1)]\n",
    "print(mylist) "
   ]
  },
  {
   "cell_type": "code",
   "execution_count": 12,
   "id": "e7184871-c480-45cc-ab15-b65bfb0f54df",
   "metadata": {},
   "outputs": [
    {
     "name": "stdin",
     "output_type": "stream",
     "text": [
      " jaskirat_kaur99@google.com\n"
     ]
    },
    {
     "name": "stdout",
     "output_type": "stream",
     "text": [
      "jaskirat_kaur99\n"
     ]
    }
   ],
   "source": [
    "'''\n",
    "Assuming that we have some email addresses in the 'username@companyname.com' format,\n",
    "please write program to print the user name of a given email address. Both user names and\n",
    "company names are composed of letters only.\n",
    "Example:\n",
    "If the following email address is given as input to the program:\n",
    "john@google.com\n",
    "Then, the output of the program should be:\n",
    "john'''\n",
    "import re\n",
    "email=input()\n",
    "x=re.findall(\"(^.*)@\",email)\n",
    "print(x[0])"
   ]
  },
  {
   "cell_type": "code",
   "execution_count": 26,
   "id": "3940537c-3fb0-425b-a117-92cdbdff7ec1",
   "metadata": {},
   "outputs": [
    {
     "name": "stdout",
     "output_type": "stream",
     "text": [
      "0\n",
      "16\n"
     ]
    }
   ],
   "source": [
    "'''\n",
    "Define a class named Shape and its subclass Square. The Square class has an init function\n",
    "which takes a length as argument. Both classes have a area function which can print the area\n",
    "of the shape where Shape's area is 0 by default.\n",
    "'''\n",
    "class Shape:\n",
    "    def area(self):\n",
    "        print(0)\n",
    "        #return 0\n",
    "class Square(Shape):\n",
    "    def __init__(self,length):\n",
    "        self.length=length\n",
    "    def area(self):\n",
    "        print(4*self.length)\n",
    "        #return 4*(self.length)\n",
    "x=Square(4)\n",
    "y=Shape()\n",
    "y.area()\n",
    "x.area()"
   ]
  },
  {
   "cell_type": "code",
   "execution_count": null,
   "id": "3bfe4a49-9e06-44b1-87d5-330c52bd960b",
   "metadata": {},
   "outputs": [],
   "source": []
  }
 ],
 "metadata": {
  "kernelspec": {
   "display_name": "Python 3 (ipykernel)",
   "language": "python",
   "name": "python3"
  },
  "language_info": {
   "codemirror_mode": {
    "name": "ipython",
    "version": 3
   },
   "file_extension": ".py",
   "mimetype": "text/x-python",
   "name": "python",
   "nbconvert_exporter": "python",
   "pygments_lexer": "ipython3",
   "version": "3.10.6"
  }
 },
 "nbformat": 4,
 "nbformat_minor": 5
}
