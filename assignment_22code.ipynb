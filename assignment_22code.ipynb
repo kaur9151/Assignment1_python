{
 "cells": [
  {
   "cell_type": "code",
   "execution_count": 4,
   "id": "6f937a61-0b6c-42ca-88d9-09502dd5f25a",
   "metadata": {},
   "outputs": [
    {
     "name": "stdout",
     "output_type": "stream",
     "text": [
      "[3, 6, 9]\n",
      "[8]\n",
      "[]\n"
     ]
    }
   ],
   "source": [
    "'''\n",
    "Question1\n",
    "Create a function that takes three parameters where:\n",
    " x is the start of the range (inclusive).\n",
    " y is the end of the range (inclusive).\n",
    " n is the divisor to be checked against.\n",
    "Return an ordered list with numbers in the range that are divisible by the third parameter n.\n",
    "Return an empty list if there are no numbers that are divisible by n.\n",
    "Examples\n",
    "list_operation(1, 10, 3) ➞ [3, 6, 9]\n",
    "list_operation(7, 9, 2) ➞ [8]\n",
    "list_operation(15, 20, 7) ➞ []\n",
    "'''\n",
    "def list_operation(x,y,n):\n",
    "    list1=[]\n",
    "    for i in range(x,y+1):\n",
    "        if i%n==0:\n",
    "            list1.append(i)\n",
    "    return list1\n",
    "print(list_operation(1, 10, 3))\n",
    "print(list_operation(7,9,2))\n",
    "print(list_operation(15, 20, 7))"
   ]
  },
  {
   "cell_type": "code",
   "execution_count": 11,
   "id": "1a8adcbc-a844-4056-b313-ed37f8b49e7e",
   "metadata": {},
   "outputs": [
    {
     "name": "stdout",
     "output_type": "stream",
     "text": [
      "True\n",
      "False\n",
      "True\n",
      "False\n"
     ]
    }
   ],
   "source": [
    "'''\n",
    "Create a function that takes in two lists and returns True if the second list follows the first list\n",
    "by one element, and False otherwise. In other words, determine if the second list is the first\n",
    "list shifted to the right by 1.\n",
    "Examples\n",
    "simon_says([1, 2], [5, 1]) ➞ True\n",
    "simon_says([1, 2], [5, 5]) ➞ False\n",
    "simon_says([1, 2, 3, 4, 5], [0, 1, 2, 3, 4]) ➞ True\n",
    "simon_says([1, 2, 3, 4, 5], [5, 5, 1, 2, 3]) ➞ False\n",
    "Notes\n",
    " Both input lists will be of the same length, and will have a minimum length of 2.\n",
    " The values of the 0-indexed element in the second list and the n-1th indexed element\n",
    "in the first list do not matter.\n",
    "'''\n",
    "def simon_says(list1,list2):\n",
    "    for i in range(0,len(list1)-1):\n",
    "        for j in range(0,len(list2)):\n",
    "            if list1[i]!=list2[i+1]:\n",
    "                return False\n",
    "    return True\n",
    "print(simon_says([1, 2], [5, 1]))\n",
    "print(simon_says([1, 2], [5, 5]))\n",
    "print(simon_says([1, 2, 3, 4, 5], [0, 1, 2, 3, 4]))\n",
    "print(simon_says([1, 2, 3, 4, 5], [5, 5, 1, 2, 3]))"
   ]
  },
  {
   "cell_type": "code",
   "execution_count": 14,
   "id": "e7e955c2-f9ad-4fe4-8bd5-2816aaca6efd",
   "metadata": {},
   "outputs": [
    {
     "name": "stdout",
     "output_type": "stream",
     "text": [
      "AMS\n",
      "CHLN\n",
      "CJMPRR\n"
     ]
    }
   ],
   "source": [
    "'''\n",
    "A group of friends have decided to start a secret society. The name will be the first letter of \n",
    "\n",
    "each of their names, sorted in alphabetical order. \n",
    "\n",
    "Create a function that takes in a list of names and returns the name of the secret society. \n",
    "\n",
    "  \n",
    "\n",
    "Examples \n",
    "\n",
    "society_name([\"Adam\", \"Sarah\", \"Malcolm\"]) ➞ \"AMS\" \n",
    "\n",
    "society_name([\"Harry\", \"Newt\", \"Luna\", \"Cho\"]) ➞ \"CHLN\" \n",
    "\n",
    "society_name([\"Phoebe\", \"Chandler\", \"Rachel\", \"Ross\", \"Monica\", \"Joey\"]) \n",
    "'''\n",
    "def society_name(list1):\n",
    "    list1.sort()\n",
    "    str1=''\n",
    "    for i in list1:\n",
    "        str1+=i[0]\n",
    "    return str1\n",
    "print(society_name([\"Adam\", \"Sarah\", \"Malcolm\"]))\n",
    "print(society_name([\"Harry\", \"Newt\", \"Luna\", \"Cho\"]))\n",
    "print(society_name([\"Phoebe\", \"Chandler\", \"Rachel\", \"Ross\", \"Monica\", \"Joey\"]))"
   ]
  },
  {
   "cell_type": "code",
   "execution_count": 23,
   "id": "447fd460-ea7b-4d78-a95f-3d9fdc086efe",
   "metadata": {},
   "outputs": [
    {
     "name": "stdout",
     "output_type": "stream",
     "text": [
      "True\n",
      "False\n",
      "False\n"
     ]
    }
   ],
   "source": [
    "'''\n",
    "An isogram is a word that has no duplicate letters. Create a function that takes a string and \n",
    "\n",
    "returns either True or False depending on whether or not its an \"isogram\". \n",
    "\n",
    "Examples \n",
    "\n",
    "is_isogram(\"Algorism\") ➞ True \n",
    "\n",
    "is_isogram(\"PasSword\") ➞ False \n",
    "\n",
    "# Not case sensitive. \n",
    "\n",
    "is_isogram(\"Consecutive\") ➞ False \n",
    "\n",
    "Notes \n",
    "\n",
    " Ignore letter case (should not be case sensitive). \n",
    "\n",
    " All test cases contain valid one word strings. \n",
    "'''\n",
    "def is_isogram(str1):\n",
    "    str1=str1.lower()\n",
    "    list1=[i for i in str1]\n",
    "    for i in list1:\n",
    "        if list1.count(i)>1:\n",
    "            return False\n",
    "    return True\n",
    "print(is_isogram(\"Algorism\"))\n",
    "print(is_isogram(\"PasSword\"))\n",
    "print(is_isogram(\"Consecutive\"))"
   ]
  },
  {
   "cell_type": "code",
   "execution_count": 27,
   "id": "40a35a88-1c33-4a91-972f-b02d678235b1",
   "metadata": {},
   "outputs": [
    {
     "name": "stdout",
     "output_type": "stream",
     "text": [
      "True\n",
      "False\n",
      "True\n",
      "True\n"
     ]
    }
   ],
   "source": [
    "'''\n",
    "Create a function that takes a string and returns True or False, depending on whether the \n",
    "\n",
    "characters are in order or not. \n",
    "\n",
    "Examples \n",
    "\n",
    "is_in_order(\"abc\") ➞ True \n",
    "\n",
    "is_in_order(\"edabit\") ➞ False \n",
    "\n",
    "is_in_order(\"123\") ➞ True \n",
    "\n",
    "is_in_order(\"xyzz\") ➞ True \n",
    "\n",
    "Notes \n",
    "\n",
    "You don't have to handle empty strings. \n",
    "'''\n",
    "def is_in_order(str1):\n",
    "    list1=[i for i in str1]\n",
    "    list1.sort()\n",
    "    str2=''.join(list1)\n",
    "    if str1==str2:\n",
    "        return True\n",
    "    else:\n",
    "        return False\n",
    "print(is_in_order(\"abc\"))\n",
    "print(is_in_order(\"edabit\"))\n",
    "print(is_in_order(\"123\"))\n",
    "print(is_in_order(\"xyzz\"))"
   ]
  },
  {
   "cell_type": "code",
   "execution_count": null,
   "id": "658c6701-19eb-478d-9d02-1c2061404453",
   "metadata": {},
   "outputs": [],
   "source": []
  }
 ],
 "metadata": {
  "kernelspec": {
   "display_name": "Python 3 (ipykernel)",
   "language": "python",
   "name": "python3"
  },
  "language_info": {
   "codemirror_mode": {
    "name": "ipython",
    "version": 3
   },
   "file_extension": ".py",
   "mimetype": "text/x-python",
   "name": "python",
   "nbconvert_exporter": "python",
   "pygments_lexer": "ipython3",
   "version": "3.10.6"
  }
 },
 "nbformat": 4,
 "nbformat_minor": 5
}
