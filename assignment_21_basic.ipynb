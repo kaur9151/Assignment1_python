{
 "cells": [
  {
   "cell_type": "code",
   "execution_count": 16,
   "id": "d9e510ab-98d9-46af-93a0-1213914c0172",
   "metadata": {},
   "outputs": [],
   "source": [
    "'''\n",
    "Add the current date to the text file today.txt as a string.\n",
    "'''\n",
    "import datetime\n",
    "f=open('today.txt','w')\n",
    "todays_date=datetime.date.today()\n",
    "f.write(str(todays_date))\n",
    "f.close()"
   ]
  },
  {
   "cell_type": "code",
   "execution_count": 11,
   "id": "f52962d5-f482-4168-abd6-21b7c33cf586",
   "metadata": {},
   "outputs": [
    {
     "name": "stdout",
     "output_type": "stream",
     "text": [
      "2022-12-14\n"
     ]
    }
   ],
   "source": [
    "'''\n",
    "Read the text file today.txt into the string today_string\n",
    "'''\n",
    "f=open('today.txt','r')\n",
    "today_string=f.read()\n",
    "print(today_string)"
   ]
  },
  {
   "cell_type": "code",
   "execution_count": 20,
   "id": "acb2708a-5a09-4e7c-bddf-91b24fc35e65",
   "metadata": {},
   "outputs": [
    {
     "name": "stdout",
     "output_type": "stream",
     "text": [
      "2022-12-14 00:00:00\n"
     ]
    }
   ],
   "source": [
    "'''\n",
    "Parse the date from today_string.\n",
    "'''\n",
    "import datetime\n",
    "date_time_obj = datetime.datetime.strptime(today_string, '%Y-%m-%d')\n",
    "print(date_time_obj)"
   ]
  },
  {
   "cell_type": "code",
   "execution_count": 29,
   "id": "487ba6bf-4923-40d0-8576-6127304375a0",
   "metadata": {},
   "outputs": [
    {
     "name": "stdout",
     "output_type": "stream",
     "text": [
      "['assignment15.ipynb', 'assignment_21.ipynb', 'assignment_20_basic.ipynb', 'transparentImage.png', 'README.md', 'part 1 solutions.ipynb', 'part 2 solutions.ipynb', 'test.txt', 'assignment17.ipynb', 'Untitled Folder', 'sample-code.ipynb', 'zoo.py', 'Untitled8.ipynb', 'assignment_17_1.ipynb', 'questions.ipynb', 'today1.txt', 'purpleImage.png', 'docx.docx', 'cropped.png', '.git', 'hey.txt', 'Untitled5.ipynb', 'logging_dec10.ipynb', 'Untitled7.ipynb', 'Untitled6.ipynb', 'assignment_19_basic.ipynb', 'Untitled9.ipynb', 'assignment16_theory.ipynb', 'Untitled3.ipynb', 'classandobject.ipynb', 'Untitled1.ipynb', 'asimnt15.ipynb', 'Untitled4.ipynb', '__pycache__', 'books.db', 'Untitled11.ipynb', 'assignment16.ipynb', 'logging_handler.ipynb', 'assignment18.ipynb', 'Untitled.ipynb', '.ipynb_checkpoints', 'task questions part 2.ipynb', 'today.txt', 'questions2.ipynb', 'text.txt', 'abc.log', 'books.csv', 'assignment_22code.ipynb', 'Untitled2.ipynb', 'Untitled10.ipynb', 'assment14.ipynb']\n"
     ]
    }
   ],
   "source": [
    "'''\n",
    "List the files in your current directory\n",
    "'''\n",
    "import os\n",
    "path=os.getcwd()\n",
    "print(os.listdir(path))"
   ]
  },
  {
   "cell_type": "code",
   "execution_count": 31,
   "id": "0d6d9daa-22b1-4a57-9f96-1818ec5f6587",
   "metadata": {},
   "outputs": [
    {
     "name": "stdout",
     "output_type": "stream",
     "text": [
      "['assignment15.ipynb', 'assignment_21.ipynb', 'assignment_20_basic.ipynb', 'transparentImage.png', 'README.md', 'part 1 solutions.ipynb', 'part 2 solutions.ipynb', 'test.txt', 'assignment17.ipynb', 'Untitled Folder', 'sample-code.ipynb', 'zoo.py', 'Untitled8.ipynb', 'assignment_17_1.ipynb', 'questions.ipynb', 'today1.txt', 'purpleImage.png', 'docx.docx', 'cropped.png', '.git', 'hey.txt', 'Untitled5.ipynb', 'logging_dec10.ipynb', 'Untitled7.ipynb', 'Untitled6.ipynb', 'assignment_19_basic.ipynb', 'Untitled9.ipynb', 'assignment16_theory.ipynb', 'Untitled3.ipynb', 'classandobject.ipynb', 'Untitled1.ipynb', 'asimnt15.ipynb', 'Untitled4.ipynb', '__pycache__', 'books.db', 'Untitled11.ipynb', 'assignment16.ipynb', 'logging_handler.ipynb', 'assignment18.ipynb', 'Untitled.ipynb', '.ipynb_checkpoints', 'task questions part 2.ipynb', 'today.txt', 'questions2.ipynb', 'text.txt', 'abc.log', 'books.csv', 'assignment_22code.ipynb', 'Untitled2.ipynb', 'Untitled10.ipynb', 'assment14.ipynb']\n"
     ]
    }
   ],
   "source": [
    "'''\n",
    "Create a list of all of the files in your parent directory (minimum five files should be available).\n",
    "'''\n",
    "listfiles=[]\n",
    "for f in os.listdir(path):\n",
    "    listfiles.append(f)\n",
    "print(listfiles)"
   ]
  },
  {
   "cell_type": "code",
   "execution_count": 10,
   "id": "9133442a-e222-43e3-918f-a8375a1ad594",
   "metadata": {},
   "outputs": [
    {
     "name": "stdout",
     "output_type": "stream",
     "text": [
      "266799.812301222\n"
     ]
    }
   ],
   "source": [
    "'''\n",
    "Use multiprocessing to create three separate processes. Make each one wait a random number of\n",
    "seconds between one and five, print the current time, and then exit.\n",
    "'''\n",
    "import random\n",
    "import time\n",
    "import multiprocessing\n",
    "def wait():\n",
    "    rantime=random.randint(0,5)\n",
    "    print(rantime)\n",
    "    time.sleep(rantime)\n",
    "    print(time)\n",
    "\n",
    "start=time.perf_counter()\n",
    "p1=multiprocessing.Process(target=wait)\n",
    "p2=multiprocessing.Process(target=wait)\n",
    "p3=multiprocessing.Process(target=wait)\n",
    "finish=time.perf_counter()\n",
    "print(finish)"
   ]
  },
  {
   "cell_type": "code",
   "execution_count": 11,
   "id": "5f6c96fe-8661-4c38-9de7-22276843bce7",
   "metadata": {},
   "outputs": [
    {
     "name": "stdout",
     "output_type": "stream",
     "text": [
      "2002-05-16\n"
     ]
    }
   ],
   "source": [
    "'''\n",
    "Create a date object of your day of birth.\n",
    "'''\n",
    "from datetime import date\n",
    "my_birthdate=date(2002,5,16)\n",
    "print(my_birthdate)"
   ]
  },
  {
   "cell_type": "code",
   "execution_count": 15,
   "id": "e580e88c-b8b7-4ad0-8ba2-c1b62d054315",
   "metadata": {},
   "outputs": [
    {
     "name": "stdout",
     "output_type": "stream",
     "text": [
      "Thursday\n"
     ]
    }
   ],
   "source": [
    "'''\n",
    "What day of the week was your day of birth?\n",
    "'''\n",
    "#import datetime\n",
    "n=date.weekday(my_birthdate)\n",
    "if n==0:\n",
    "    print('Monday')\n",
    "elif n==1:\n",
    "    print('Tuesday')\n",
    "elif n==2:\n",
    "    print('Wednesday')\n",
    "elif n==3:\n",
    "    print('Thursday')\n",
    "elif n==4:\n",
    "    print('Friday')\n",
    "elif n==5:\n",
    "    print('saturday')\n",
    "elif n==6:\n",
    "    print('Sunday')"
   ]
  },
  {
   "cell_type": "code",
   "execution_count": 17,
   "id": "ed3cbedc-4d9e-4f26-a0b6-53b4297b6dbe",
   "metadata": {},
   "outputs": [
    {
     "data": {
      "text/plain": [
       "datetime.date(2029, 10, 1)"
      ]
     },
     "execution_count": 17,
     "metadata": {},
     "output_type": "execute_result"
    }
   ],
   "source": [
    "'''\n",
    "When will you be (or when were you) 10,000 days old?\n",
    "'''\n",
    "from datetime import timedelta,date\n",
    "my_birthdate+timedelta(days=10000)"
   ]
  },
  {
   "cell_type": "code",
   "execution_count": null,
   "id": "d29cab9c-862f-4883-82ad-f8c403280e66",
   "metadata": {},
   "outputs": [],
   "source": []
  }
 ],
 "metadata": {
  "kernelspec": {
   "display_name": "Python 3 (ipykernel)",
   "language": "python",
   "name": "python3"
  },
  "language_info": {
   "codemirror_mode": {
    "name": "ipython",
    "version": 3
   },
   "file_extension": ".py",
   "mimetype": "text/x-python",
   "name": "python",
   "nbconvert_exporter": "python",
   "pygments_lexer": "ipython3",
   "version": "3.10.6"
  }
 },
 "nbformat": 4,
 "nbformat_minor": 5
}
