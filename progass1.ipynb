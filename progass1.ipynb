{
  "nbformat": 4,
  "nbformat_minor": 0,
  "metadata": {
    "colab": {
      "provenance": [],
      "collapsed_sections": [],
      "authorship_tag": "ABX9TyP5N+rlj2hAaRcVullvbvgl",
      "include_colab_link": true
    },
    "kernelspec": {
      "name": "python3",
      "display_name": "Python 3"
    },
    "language_info": {
      "name": "python"
    }
  },
  "cells": [
    {
      "cell_type": "markdown",
      "metadata": {
        "id": "view-in-github",
        "colab_type": "text"
      },
      "source": [
        "<a href=\"https://colab.research.google.com/github/kaur9151/Assignment1_python/blob/main/progass1.ipynb\" target=\"_parent\"><img src=\"https://colab.research.google.com/assets/colab-badge.svg\" alt=\"Open In Colab\"/></a>"
      ]
    },
    {
      "cell_type": "code",
      "execution_count": 1,
      "metadata": {
        "colab": {
          "base_uri": "https://localhost:8080/"
        },
        "id": "gxrLyVgsjrIH",
        "outputId": "e9a69cce-82dc-462f-b1fc-75a0b52d4290"
      },
      "outputs": [
        {
          "output_type": "stream",
          "name": "stdout",
          "text": [
            "Hello Python\n"
          ]
        }
      ],
      "source": []
    },
    {
      "cell_type": "markdown",
      "source": [
        "1. Write a Python program to print &quot;Hello Python&quot;?\n",
        "2. Write a Python program to do arithmetical operations addition and division.?\n",
        "3. Write a Python program to find the area of a triangle?\n",
        "4. Write a Python program to swap two variables?\n",
        "5. Write a Python program to generate a random number?"
      ],
      "metadata": {
        "id": "disdKZL5jy3E"
      }
    },
    {
      "cell_type": "code",
      "source": [
        "print(\"Hello Python\")"
      ],
      "metadata": {
        "id": "PHiWBW_8j06s"
      },
      "execution_count": null,
      "outputs": []
    },
    {
      "cell_type": "code",
      "source": [
        "a=45\n",
        "b=5\n",
        "c=a+b\n",
        "d=a/b\n",
        "print(f\"Sum of the numbers is: {c}, Division of the numbers is:{d}\")"
      ],
      "metadata": {
        "colab": {
          "base_uri": "https://localhost:8080/"
        },
        "id": "u38mWiVJj3v_",
        "outputId": "b424508d-7477-4c48-e4aa-7060d1c2b045"
      },
      "execution_count": 2,
      "outputs": [
        {
          "output_type": "stream",
          "name": "stdout",
          "text": [
            "Sum of the numbers is: 50, Division of the numbers is:9.0\n"
          ]
        }
      ]
    },
    {
      "cell_type": "code",
      "source": [
        "base=2\n",
        "height=5.75\n",
        "area=(1/2)*(base*height)\n",
        "print(f\"Area of the triangle is:{area}\")"
      ],
      "metadata": {
        "colab": {
          "base_uri": "https://localhost:8080/"
        },
        "id": "8KdTie4akQ9N",
        "outputId": "e2c46d6f-2eab-499a-d36e-c9dbae26bafa"
      },
      "execution_count": 5,
      "outputs": [
        {
          "output_type": "stream",
          "name": "stdout",
          "text": [
            "Area of the triangle is:5.75\n"
          ]
        }
      ]
    },
    {
      "cell_type": "code",
      "source": [
        "num1=12\n",
        "num2=89\n",
        "temp=num1\n",
        "num1=num2\n",
        "num2=temp\n",
        "print(f\"num1={num1}, num2={num2}\")"
      ],
      "metadata": {
        "colab": {
          "base_uri": "https://localhost:8080/"
        },
        "id": "d323B92vlGZA",
        "outputId": "b98a4a9b-93c8-430a-fbeb-937772cfedc7"
      },
      "execution_count": 6,
      "outputs": [
        {
          "output_type": "stream",
          "name": "stdout",
          "text": [
            "num1=89, num2=12\n"
          ]
        }
      ]
    },
    {
      "cell_type": "code",
      "source": [
        "print(random.randint(0,10090))"
      ],
      "metadata": {
        "colab": {
          "base_uri": "https://localhost:8080/"
        },
        "id": "ukua3ecBmm2j",
        "outputId": "ab47d5dc-01ba-4af4-9ebb-5b6c22eff588"
      },
      "execution_count": 15,
      "outputs": [
        {
          "output_type": "stream",
          "name": "stdout",
          "text": [
            "5640\n"
          ]
        }
      ]
    }
  ]
}