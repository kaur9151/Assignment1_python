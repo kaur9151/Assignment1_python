{
 "cells": [
  {
   "cell_type": "code",
   "execution_count": 3,
   "id": "230cc4f2-ecfa-4940-8b32-1dbbfd18a6d6",
   "metadata": {},
   "outputs": [
    {
     "name": "stdout",
     "output_type": "stream",
     "text": [
      "in... in... incredible?\n",
      "en... en... enthusiastic?\n",
      "ou... ou... outstanding?\n"
     ]
    }
   ],
   "source": [
    "'''\n",
    "Question1. Write a function that stutters a word as if someone is struggling to read it. The\n",
    "first two letters are repeated twice with an ellipsis ... and space after each, and then the\n",
    "word is pronounced with a question mark ?.\n",
    "Examples\n",
    "stutter(&quot;incredible&quot;) ➞ &quot;in... in... incredible?&quot;\n",
    "stutter(&quot;enthusiastic&quot;) ➞ &quot;en... en... enthusiastic?&quot;\n",
    "stutter(&quot;outstanding&quot;) ➞ &quot;ou... ou... outstanding?&quot;\n",
    "\n",
    "Hint :- Assume all input is in lower case and at least two characters long.\n",
    "'''\n",
    "def stutters(word):\n",
    "    stri=word[0:2]+\"... \"+word[0:2]+\"... \"+word+\"?\"\n",
    "    print(stri)\n",
    "stutters(\"incredible\")\n",
    "stutters(\"enthusiastic\")\n",
    "stutters(\"outstanding\")"
   ]
  },
  {
   "cell_type": "code",
   "execution_count": 10,
   "id": "0659ff63-b1e2-40a7-a519-8b8a053046cb",
   "metadata": {},
   "outputs": [
    {
     "name": "stdout",
     "output_type": "stream",
     "text": [
      "57.3\n",
      "1145.5\n",
      "2863.6\n"
     ]
    }
   ],
   "source": [
    "'''\n",
    "Question 2.Create a function that takes an angle in radians and returns the corresponding\n",
    "angle in degrees rounded to one decimal place.\n",
    "Examples\n",
    "radians_to_degrees(1) ➞ 57.3\n",
    "radians_to_degrees(20) ➞ 1145.9\n",
    "radians_to_degrees(50) ➞ 2864.8\n",
    "'''\n",
    "def radians_to_degrees(angle_rad):\n",
    "    deg=angle_rad/(22/7)\n",
    "    deg=deg*180\n",
    "    result=round(deg,1)\n",
    "    #print(result)\n",
    "    return result\n",
    "x=radians_to_degrees(1)\n",
    "print(x)\n",
    "y=radians_to_degrees(20)\n",
    "print(y)\n",
    "z=radians_to_degrees(50)\n",
    "print(z)"
   ]
  },
  {
   "cell_type": "code",
   "execution_count": 14,
   "id": "fa8f403d-47c6-43fa-9b43-a9b3ca926088",
   "metadata": {},
   "outputs": [
    {
     "data": {
      "text/plain": [
       "True"
      ]
     },
     "execution_count": 14,
     "metadata": {},
     "output_type": "execute_result"
    }
   ],
   "source": [
    "'''\n",
    "Question 3. In this challenge, establish if a given integer num is a Curzon number. If 1 plus\n",
    "2 elevated to num is exactly divisible by 1 plus 2 multiplied by num, then num is a Curzon\n",
    "number.\n",
    "Given a non-negative integer num, implement a function that returns True if num is a Curzon\n",
    "number, or False otherwise.\n",
    "Examples\n",
    "is_curzon(5) ➞ True\n",
    "# 2 ** 5 + 1 = 33\n",
    "# 2 * 5 + 1 = 11\n",
    "# 33 is a multiple of 11\n",
    "is_curzon(10) ➞ False\n",
    "# 2 ** 10 + 1 = 1025\n",
    "# 2 * 10 + 1 = 21\n",
    "# 1025 is not a multiple of 21\n",
    "is_curzon(14) ➞ True\n",
    "# 2 ** 14 + 1 = 16385\n",
    "# 2 * 14 + 1 = 29\n",
    "# 16385 is a multiple of 29\n",
    "'''\n",
    "def is_curzon(num):\n",
    "    if (2**num+1)%(2*num+1)==0:\n",
    "        return True\n",
    "    else:\n",
    "       return False \n",
    "is_curzon(5)\n",
    "is_curzon(10)\n",
    "is_curzon(14)"
   ]
  },
  {
   "cell_type": "code",
   "execution_count": 20,
   "id": "f5aa8251-7188-45a7-b4c5-b7dabae770fb",
   "metadata": {},
   "outputs": [
    {
     "name": "stdout",
     "output_type": "stream",
     "text": [
      "23.4\n"
     ]
    }
   ],
   "source": [
    "'''\n",
    "4.Given the side length x find the area of a hexagon.\n",
    "'''\n",
    "def area_of_hexagon(num):\n",
    "    x=(3*(3**(1/2))/2)*num*num\n",
    "    x=round(x,1)\n",
    "    print(x)\n",
    "area_of_hexagon(3)"
   ]
  },
  {
   "cell_type": "code",
   "execution_count": 30,
   "id": "33d6c640-6c14-47fd-8df8-4e41ac9b50b2",
   "metadata": {},
   "outputs": [
    {
     "name": "stdout",
     "output_type": "stream",
     "text": [
      "1010\n"
     ]
    }
   ],
   "source": [
    "'''\n",
    "Create a function that returns a base-2 (binary) representation of a base-10\n",
    "(decimal) string number. To convert is simple: ((2) means base-2 and (10) means base-10)\n",
    "010101001(2) = 1 + 8 + 32 + 128.\n",
    "Going from right to left, the value of the most right bit is 1, now from that every bit to the left\n",
    "will be x2 the value, value of an 8 bit binary numbers are (256, 128, 64, 32, 16, 8, 4, 2, 1).\n",
    "Examples\n",
    "binary(1) ➞ &quot;1&quot;\n",
    "# 1*1 = 1\n",
    "binary(5) ➞ &quot;101&quot;\n",
    "# 1*1 + 1*4 = 5\n",
    "binary(10) ➞ &quot;1010&quot;\n",
    "# 1*2 + 1*8 = 10\n",
    "'''\n",
    "def binary(decimal):\n",
    "    stri=''\n",
    "    while decimal!=0:\n",
    "        stri+=str(decimal%2)\n",
    "        decimal=decimal//2\n",
    "    stri=stri[::-1]\n",
    "    print(stri)\n",
    "binary(10)"
   ]
  },
  {
   "cell_type": "code",
   "execution_count": null,
   "id": "7b72006f-13e7-4ae0-9e22-121afa1e832b",
   "metadata": {},
   "outputs": [],
   "source": []
  }
 ],
 "metadata": {
  "kernelspec": {
   "display_name": "Python 3 (ipykernel)",
   "language": "python",
   "name": "python3"
  },
  "language_info": {
   "codemirror_mode": {
    "name": "ipython",
    "version": 3
   },
   "file_extension": ".py",
   "mimetype": "text/x-python",
   "name": "python",
   "nbconvert_exporter": "python",
   "pygments_lexer": "ipython3",
   "version": "3.10.6"
  }
 },
 "nbformat": 4,
 "nbformat_minor": 5
}
