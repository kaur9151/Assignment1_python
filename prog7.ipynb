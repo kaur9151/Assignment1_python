{
  "nbformat": 4,
  "nbformat_minor": 0,
  "metadata": {
    "colab": {
      "provenance": [],
      "collapsed_sections": [],
      "authorship_tag": "ABX9TyN9NcWFZji0qQeQ03T8rdQ7",
      "include_colab_link": true
    },
    "kernelspec": {
      "name": "python3",
      "display_name": "Python 3"
    },
    "language_info": {
      "name": "python"
    }
  },
  "cells": [
    {
      "cell_type": "markdown",
      "metadata": {
        "id": "view-in-github",
        "colab_type": "text"
      },
      "source": [
        "<a href=\"https://colab.research.google.com/github/kaur9151/Assignment1_python/blob/main/prog7.ipynb\" target=\"_parent\"><img src=\"https://colab.research.google.com/assets/colab-badge.svg\" alt=\"Open In Colab\"/></a>"
      ]
    },
    {
      "cell_type": "markdown",
      "source": [
        "1. Write a Python Program to Add Two Matrices?\n",
        "2. Write a Python Program to Multiply Two Matrices?\n",
        "3. Write a Python Program to Transpose a Matrix?\n",
        "4. Write a Python Program to Sort Words in Alphabetic Order?\n",
        "5. Write a Python Program to Remove Punctuation From a String?"
      ],
      "metadata": {
        "id": "hboJvkS-P4oA"
      }
    },
    {
      "cell_type": "code",
      "source": [
        "m1=[[1,2,3],\n",
        "    [3,4,5],\n",
        "    [5,6,7]]\n",
        "\n",
        "m2=[[7,8,9],\n",
        "    [1,5,6],\n",
        "    [4,8,9]]\n",
        "\n",
        "res=[[0,0,0],\n",
        "     [0,0,0],\n",
        "     [0,0,0]]\n",
        "for i in range(len(m1)):\n",
        "  for j in range(len(m2)):\n",
        "    res[i][j]=m1[i][j]+m2[i][j]\n",
        "print(res)"
      ],
      "metadata": {
        "colab": {
          "base_uri": "https://localhost:8080/"
        },
        "id": "r4okCmm6P-W8",
        "outputId": "fa734b58-c3b3-431f-d312-23952fcf9544"
      },
      "execution_count": 2,
      "outputs": [
        {
          "output_type": "stream",
          "name": "stdout",
          "text": [
            "[[8, 10, 12], [4, 9, 11], [9, 14, 16]]\n"
          ]
        }
      ]
    },
    {
      "cell_type": "code",
      "source": [
        "m1=[[1,2,3],                  \n",
        "    [3,4,5],\n",
        "    [5,6,7]]\n",
        "\n",
        "m2=[[7,8,9],\n",
        "    [1,5,6],\n",
        "    [4,8,9]]\n",
        "\n",
        "res=[[0,0,0],\n",
        "     [0,0,0],\n",
        "     [0,0,0]]\n",
        "for i in range(len(m1)):\n",
        "  for j in range(len(m2[0])):\n",
        "    for l in range(len(m2)):\n",
        "      res[i][j]+=m1[i][j]*m2[i][j]\n",
        "print(res)"
      ],
      "metadata": {
        "colab": {
          "base_uri": "https://localhost:8080/"
        },
        "id": "0IjDYmZQR4LE",
        "outputId": "a4f05665-33ab-4b55-ffeb-f45672cde42c"
      },
      "execution_count": 5,
      "outputs": [
        {
          "output_type": "stream",
          "name": "stdout",
          "text": [
            "[[21, 48, 81], [9, 60, 90], [60, 144, 189]]\n"
          ]
        }
      ]
    },
    {
      "cell_type": "code",
      "source": [
        "m1=[[1,2,3],                  \n",
        "    [3,4,5],\n",
        "    [5,6,7]]\n",
        "\n",
        "res=[[0,0,0],\n",
        "     [0,0,0],\n",
        "     [0,0,0]]\n",
        "\n",
        "for i in range(len(m1)):\n",
        "  for j in range(len(m1)):\n",
        "    res[i][j]=m1[j][i]\n",
        "\n",
        "for r in res:\n",
        "  print(r)"
      ],
      "metadata": {
        "colab": {
          "base_uri": "https://localhost:8080/"
        },
        "id": "PiGSOb8BUVW6",
        "outputId": "263be063-f3ae-4e6a-df50-65dbe8e58cf0"
      },
      "execution_count": 7,
      "outputs": [
        {
          "output_type": "stream",
          "name": "stdout",
          "text": [
            "[[1, 3, 5], [2, 4, 6], [3, 5, 7]]\n",
            "[1, 3, 5]\n",
            "[2, 4, 6]\n",
            "[3, 5, 7]\n"
          ]
        }
      ]
    },
    {
      "cell_type": "code",
      "source": [
        "words=[\"i\",\"am\",\"python\"]\n",
        "words.sort()\n",
        "print(words)\n",
        "for i in words:\n",
        "  print(i)"
      ],
      "metadata": {
        "colab": {
          "base_uri": "https://localhost:8080/"
        },
        "id": "IXT4hX9nVcft",
        "outputId": "bb5a511f-ba77-4e5d-f102-e80525e77c00"
      },
      "execution_count": 15,
      "outputs": [
        {
          "output_type": "stream",
          "name": "stdout",
          "text": [
            "['am', 'i', 'python']\n",
            "am\n",
            "i\n",
            "python\n"
          ]
        }
      ]
    },
    {
      "cell_type": "code",
      "source": [
        "stri=\"Hey there, how are you?\"\n",
        "punctuation = '''!()-[]{};:'\"\\,<>./?@#$%^&*_~'''\n",
        "new=\"\"\n",
        "for i in stri:\n",
        "  if i not in punctuation:\n",
        "    new=new+i\n",
        "print(new)"
      ],
      "metadata": {
        "colab": {
          "base_uri": "https://localhost:8080/"
        },
        "id": "qhVLqKn_Whn9",
        "outputId": "a3cc0bbc-a0d4-412a-aa24-0fe30eda839c"
      },
      "execution_count": 17,
      "outputs": [
        {
          "output_type": "stream",
          "name": "stdout",
          "text": [
            "Hey there how are you\n"
          ]
        }
      ]
    }
  ]
}