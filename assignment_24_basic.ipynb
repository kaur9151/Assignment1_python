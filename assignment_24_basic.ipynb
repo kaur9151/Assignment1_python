{
 "cells": [
  {
   "cell_type": "code",
   "execution_count": 10,
   "id": "1a139995-3fff-466d-a848-a1e1bc0df5ce",
   "metadata": {},
   "outputs": [
    {
     "data": {
      "text/plain": [
       "[1,\n",
       " 2,\n",
       " 3,\n",
       " 40,\n",
       " 5,\n",
       " 6,\n",
       " 7,\n",
       " 80,\n",
       " 9,\n",
       " 10,\n",
       " 11,\n",
       " 120,\n",
       " 13,\n",
       " 14,\n",
       " 15,\n",
       " 160,\n",
       " 17,\n",
       " 18,\n",
       " 19,\n",
       " 200,\n",
       " 21,\n",
       " 22,\n",
       " 23,\n",
       " 240,\n",
       " 25]"
      ]
     },
     "execution_count": 10,
     "metadata": {},
     "output_type": "execute_result"
    }
   ],
   "source": [
    "'''\n",
    "Create a function that takes an integer and returns a list from 1 to the given number, where:\n",
    "1. If the number can be divided evenly by 4, amplify it by 10 (i.e. return 10 times the\n",
    "number).\n",
    "2. If the number cannot be divided evenly by 4, simply return the number.\n",
    "Examples\n",
    "amplify(4) ➞ [1, 2, 3, 40]\n",
    "amplify(3) ➞ [1, 2, 3]\n",
    "amplify(25) ➞ [1, 2, 3, 40, 5, 6, 7, 80, 9, 10, 11, 120, 13, 14, 15, 160,\n",
    "17, 18, 19, 200, 21, 22, 23, 240, 25]\n",
    "Notes\n",
    " The given integer will always be equal to or greater than 1.\n",
    " Include the number (see example above).\n",
    " To perform this problem with its intended purpose, try doing it with list\n",
    "comprehensions. If that&#39;s too difficult, just solve the challenge any way you can.\n",
    "'''\n",
    "def amplify(num):\n",
    "    list1=[i+1 for i in range(num)]\n",
    "    list2=[i*10 if i%4==0 else i for i in list1]\n",
    "    return list2\n",
    "amplify(4)\n",
    "amplify(3)\n",
    "amplify(25)"
   ]
  },
  {
   "cell_type": "code",
   "execution_count": 14,
   "id": "d49ccde8-fb75-4239-aa4d-a642c45759eb",
   "metadata": {},
   "outputs": [
    {
     "data": {
      "text/plain": [
       "0"
      ]
     },
     "execution_count": 14,
     "metadata": {},
     "output_type": "execute_result"
    }
   ],
   "source": [
    "'''\n",
    "Create a function that takes a list of numbers and return the number that&#39;s unique.\n",
    "Examples\n",
    "unique([3, 3, 3, 7, 3, 3]) ➞ 7\n",
    "unique([0, 0, 0.77, 0, 0]) ➞ 0.77\n",
    "unique([0, 1, 1, 1, 1, 1, 1, 1]) ➞ 0\n",
    "Notes\n",
    "Test cases will always have exactly one unique number while all others are the same.\n",
    "'''\n",
    "def unique(list1):\n",
    "    for i in list1:\n",
    "        if list1.count(i)==1:\n",
    "            return i\n",
    "unique([3, 3, 3, 7, 3, 3])\n",
    "unique([0, 0, 0.77, 0, 0])\n",
    "unique([0, 1, 1, 1, 1, 1, 1, 1]) "
   ]
  },
  {
   "cell_type": "code",
   "execution_count": 19,
   "id": "02cf124b-226d-4f31-ac78-85f99d64b53b",
   "metadata": {},
   "outputs": [
    {
     "data": {
      "text/plain": [
       "28"
      ]
     },
     "execution_count": 19,
     "metadata": {},
     "output_type": "execute_result"
    }
   ],
   "source": [
    "'''\n",
    "Your task is to create a Circle constructor that creates a circle with a radius provided by an\n",
    "argument. The circles constructed must have two getters getArea() (PIr^2) and\n",
    "getPerimeter() (2PI*r) which give both respective areas and perimeter (circumference).\n",
    "\n",
    "For help with this class, I have provided you with a Rectangle constructor which you can use\n",
    "as a base example.\n",
    "Examples\n",
    "circy = Circle(11)\n",
    "circy.getArea()\n",
    "# Should return 380.132711084365\n",
    "circy = Circle(4.44)\n",
    "circy.getPerimeter()\n",
    "# Should return 27.897342763877365\n",
    "Notes\n",
    "Round results up to the nearest integer.\n",
    "'''\n",
    "class Circle:\n",
    "    def __init__(self,radius):\n",
    "        self.radius=radius\n",
    "    def getArea(self):\n",
    "        area=3.14*self.radius**2\n",
    "        return round(area)\n",
    "    def getPerimeter(self):\n",
    "        peri=2*3.14*self.radius\n",
    "        return round(peri)\n",
    "circy=Circle(11)\n",
    "circy.getArea()\n",
    "circy=Circle(4.44)\n",
    "circy.getPerimeter()"
   ]
  },
  {
   "cell_type": "code",
   "execution_count": 29,
   "id": "1acc1135-dc1d-40a5-8302-11f6c8d2111f",
   "metadata": {},
   "outputs": [
    {
     "name": "stdout",
     "output_type": "stream",
     "text": [
      "['Apple', 'Google', 'Microsoft']\n",
      "['Raphael', 'Leonardo', 'Donatello', 'Michelangelo']\n",
      "['Jung', 'Turing', 'Einstein']\n"
     ]
    }
   ],
   "source": [
    "'''\n",
    "Create a function that takes a list of strings and return a list, sorted from shortest to longest. \n",
    "\n",
    "Examples \n",
    "\n",
    "sort_by_length([\"Google\", \"Apple\", \"Microsoft\"]) \n",
    "\n",
    "➞ [\"Apple\", \"Google\", \"Microsoft\"] \n",
    "\n",
    "sort_by_length([\"Leonardo\", \"Michelangelo\", \"Raphael\", \"Donatello\"]) \n",
    "\n",
    "➞ [\"Raphael\", \"Leonardo\", \"Donatello\", \"Michelangelo\"] \n",
    "\n",
    "sort_by_length([\"Turing\", \"Einstein\", \"Jung\"]) \n",
    "\n",
    "➞ [\"Jung\", \"Turing\", \"Einstein\"] \n",
    "\n",
    "Notes \n",
    "\n",
    "All test cases contain lists with strings of different lengths, so you won&#39;t have to deal with \n",
    "\n",
    "multiple strings of the same length. \n",
    "'''\n",
    "def sort_by_length(original_list):\n",
    "    list2=[len(i) for i in original_list]\n",
    "    mini=min(list2)\n",
    "    copy_list=[]\n",
    "    for j in range(len(original_list)):\n",
    "        for i in original_list:\n",
    "                if len(i)==mini:\n",
    "                    copy_list.append(i)\n",
    "                    if len(list2)>1:\n",
    "                        list2.remove(mini)\n",
    "                        mini=min(list2)\n",
    "    copy_list.pop()\n",
    "    return copy_list\n",
    "print(sort_by_length([\"Google\", \"Apple\", \"Microsoft\"]))   \n",
    "print(sort_by_length([\"Leonardo\", \"Michelangelo\", \"Raphael\", \"Donatello\"]))\n",
    "print(sort_by_length([\"Turing\", \"Einstein\", \"Jung\"])) "
   ]
  },
  {
   "cell_type": "code",
   "execution_count": 32,
   "id": "9f0ab605-186f-4f50-94ea-8542bcf3878e",
   "metadata": {},
   "outputs": [
    {
     "data": {
      "text/plain": [
       "False"
      ]
     },
     "execution_count": 32,
     "metadata": {},
     "output_type": "execute_result"
    }
   ],
   "source": [
    "'''\n",
    "Create a function that validates whether three given integers form a Pythagorean triplet. The\n",
    "sum of the squares of the two smallest integers must equal the square of the largest number to\n",
    "be validated.\n",
    "\n",
    "Examples\n",
    "is_triplet(3, 4, 5) ➞ True\n",
    "# 3² + 4² = 25\n",
    "# 5² = 25\n",
    "is_triplet(13, 5, 12) ➞ True\n",
    "# 5² + 12² = 169\n",
    "# 13² = 169\n",
    "is_triplet(1, 2, 3) ➞ False\n",
    "# 1² + 2² = 5\n",
    "# 3² = 9\n",
    "Notes\n",
    "Numbers may not be given in a sorted order.\n",
    "'''\n",
    "def is_triplet(num1,num2,num3):\n",
    "    list1=[]\n",
    "    list1.append(num1)\n",
    "    list1.append(num2)\n",
    "    list1.append(num3)\n",
    "    list1.sort()\n",
    "    if (list1[0]**2)+(list1[1]**2)==(list1[2]**2):\n",
    "        return True\n",
    "    else:\n",
    "        return False\n",
    "is_triplet(3, 4, 5)\n",
    "is_triplet(13, 5, 12)\n",
    "is_triplet(1, 2, 3)"
   ]
  },
  {
   "cell_type": "code",
   "execution_count": null,
   "id": "9a1879b8-a382-431d-8330-02477bd16a91",
   "metadata": {},
   "outputs": [],
   "source": []
  }
 ],
 "metadata": {
  "kernelspec": {
   "display_name": "Python 3 (ipykernel)",
   "language": "python",
   "name": "python3"
  },
  "language_info": {
   "codemirror_mode": {
    "name": "ipython",
    "version": 3
   },
   "file_extension": ".py",
   "mimetype": "text/x-python",
   "name": "python",
   "nbconvert_exporter": "python",
   "pygments_lexer": "ipython3",
   "version": "3.10.6"
  }
 },
 "nbformat": 4,
 "nbformat_minor": 5
}
