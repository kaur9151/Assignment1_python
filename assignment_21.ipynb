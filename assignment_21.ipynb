{
 "cells": [
  {
   "cell_type": "code",
   "execution_count": 5,
   "id": "4e7a4c99-de83-4a6a-a76a-20e4e1044a59",
   "metadata": {},
   "outputs": [
    {
     "name": "stdout",
     "output_type": "stream",
     "text": [
      "[6, 7, 8, 9, 1]\n",
      "[6, 3, 23, 17, 10]\n",
      "[10, 20, 42, 6]\n",
      "No list has been selected\n"
     ]
    }
   ],
   "source": [
    "'''\n",
    "Write a function that takes a list and a number as arguments. Add the number to the end of\n",
    "the list, then remove the first element of the list. The function should then return the updated\n",
    "list.\n",
    "Examples\n",
    "next_in_line([5, 6, 7, 8, 9], 1) ➞ [6, 7, 8, 9, 1]\n",
    "next_in_line([7, 6, 3, 23, 17], 10) ➞ [6, 3, 23, 17, 10]\n",
    "next_in_line([1, 10, 20, 42 ], 6) ➞ [10, 20, 42, 6]\n",
    "next_in_line([], 6) ➞ 'No list has been selected'\n",
    "'''\n",
    "def next_in_line(list1,num):\n",
    "    if len(list1)>0:\n",
    "        list1.append(num)\n",
    "        list1.remove(list1[0])\n",
    "        return list1\n",
    "    else:\n",
    "        return 'No list has been selected'\n",
    "print(next_in_line([5, 6, 7, 8, 9], 1))\n",
    "print(next_in_line([7, 6, 3, 23, 17], 10))\n",
    "print(next_in_line([1, 10, 20, 42 ], 6))\n",
    "print(next_in_line([], 6))"
   ]
  },
  {
   "cell_type": "code",
   "execution_count": 10,
   "id": "c566c1b0-9762-4dbc-8cc5-49744b119801",
   "metadata": {},
   "outputs": [
    {
     "name": "stdout",
     "output_type": "stream",
     "text": [
      "65700\n",
      "62600\n"
     ]
    }
   ],
   "source": [
    "'''\n",
    "Create the function that takes a list of dictionaries and returns the sum of people&#39;s budgets. \n",
    "\n",
    "Examples \n",
    "\n",
    "get_budgets([ \n",
    "\n",
    "{ \"name\": \"John\", \"age\": 21, \"budget\": 23000 }, \n",
    "\n",
    "{ \"name\": \"Steve\", \"age\": 32, \"budget\": 40000 }, \n",
    "\n",
    "{ \"name\": \"Martin\", \"age\": 16, \"budget\": 2700 } \n",
    "\n",
    "]) ➞ 65700 \n",
    "\n",
    "get_budgets([ \n",
    "\n",
    "{ \"name\": \"John\", \"age\": 21, \"budget\": 29000 }, \n",
    "\n",
    "{ \"name\": \"Steve\", \"age\": 32, \"budget\": 32000 }, \n",
    "\n",
    "{ \"name\": \"Martin\", \"age\": 16, \"budget\": 1600 } \n",
    "\n",
    "]) ➞ 62600 \n",
    "'''\n",
    "def get_budgets(listdict1):\n",
    "    sum=0\n",
    "    for dic in listdict1:\n",
    "        sum+=dic[\"budget\"]\n",
    "    return sum\n",
    "print(get_budgets([ \n",
    "\n",
    "{ \"name\": \"John\", \"age\": 21, \"budget\": 23000 }, \n",
    "\n",
    "{ \"name\": \"Steve\", \"age\": 32, \"budget\": 40000 }, \n",
    "\n",
    "{ \"name\": \"Martin\", \"age\": 16, \"budget\": 2700 } \n",
    "\n",
    "]))\n",
    "print(get_budgets([ \n",
    "\n",
    "{ \"name\": \"John\", \"age\": 21, \"budget\": 29000 }, \n",
    "\n",
    "{ \"name\": \"Steve\", \"age\": 32, \"budget\": 32000 }, \n",
    "\n",
    "{ \"name\": \"Martin\", \"age\": 16, \"budget\": 1600 } \n",
    "\n",
    "]))"
   ]
  },
  {
   "cell_type": "code",
   "execution_count": 20,
   "id": "6b3be7cf-d487-4bd2-bc39-ea520001fafa",
   "metadata": {},
   "outputs": [
    {
     "name": "stdout",
     "output_type": "stream",
     "text": [
      "ehllo\n",
      "abdeit\n",
      "acehkr\n",
      "eegk\n",
      "aacijprstv\n"
     ]
    }
   ],
   "source": [
    "'''\n",
    "Create a function that takes a string and returns a string with its letters in alphabetical order. \n",
    "\n",
    "Examples \n",
    "\n",
    "alphabet_soup(\"hello\") ➞ \"ehllo\" \n",
    "\n",
    "alphabet_soup(\"edabit\") ➞ \"abdeit\" \n",
    "\n",
    "alphabet_soup(\"hacker\") ➞ \"acehkr\" \n",
    "\n",
    "alphabet_soup(\"geek\") ➞ \"eegk\" \n",
    "\n",
    "alphabet_soup(\"javascript\") ➞ \"aacijprstv\" \n",
    "'''\n",
    "def alphabet_soup(stri):\n",
    "    list1=[i for i in stri]\n",
    "    list1.sort()\n",
    "    stri=''.join(list1)\n",
    "    return stri\n",
    "print(alphabet_soup(\"hello\"))\n",
    "print(alphabet_soup(\"edabit\"))\n",
    "print(alphabet_soup(\"hacker\"))\n",
    "print(alphabet_soup(\"geek\"))\n",
    "print(alphabet_soup(\"javascript\"))"
   ]
  },
  {
   "cell_type": "code",
   "execution_count": 24,
   "id": "fe3989d0-e7bf-49e7-8846-32dda86024cb",
   "metadata": {},
   "outputs": [
    {
     "name": "stdout",
     "output_type": "stream",
     "text": [
      "18193.97\n",
      "105.0\n",
      "15399.26\n",
      "2007316.26\n"
     ]
    }
   ],
   "source": [
    "'''\n",
    "Suppose that you invest $10,000 for 10 years at an interest rate of 6% compounded monthly.\n",
    "What will be the value of your investment at the end of the 10 year period?\n",
    "Create a function that accepts the principal p, the term in years t, the interest rate r, and the\n",
    "number of compounding periods per year n. The function returns the value at the end of term\n",
    "rounded to the nearest cent.\n",
    "For the example above:\n",
    "compound_interest(10000, 10, 0.06, 12) ➞ 18193.97\n",
    "Note that the interest rate is given as a decimal and n=12 because with monthly compounding\n",
    "there are 12 periods per year. Compounding can also be done annually, quarterly, weekly, or\n",
    "daily.\n",
    "Examples\n",
    "compound_interest(100, 1, 0.05, 1) ➞ 105.0\n",
    "compound_interest(3500, 15, 0.1, 4) ➞ 15399.26\n",
    "compound_interest(100000, 20, 0.15, 365) ➞ 2007316.26\n",
    "'''\n",
    "def compound_interest(p,t,r,n):\n",
    "    com=p*(1+r/n)**(n*t)\n",
    "    return round(com,2)\n",
    "print(compound_interest(10000,10,0.06,12))\n",
    "print(compound_interest(100, 1, 0.05, 1))\n",
    "print(compound_interest(3500, 15, 0.1, 4))\n",
    "print(compound_interest(100000, 20, 0.15, 365))"
   ]
  },
  {
   "cell_type": "code",
   "execution_count": 28,
   "id": "de1ce584-969d-49bd-978e-17966989197b",
   "metadata": {},
   "outputs": [
    {
     "name": "stdout",
     "output_type": "stream",
     "text": [
      "[9, 2, 16]\n",
      "[81, 123]\n",
      "[10, 56, 20, 3]\n",
      "[1]\n"
     ]
    }
   ],
   "source": [
    "'''\n",
    "Write a function that takes a list of elements and returns only the integers. \n",
    "\n",
    "Examples \n",
    "\n",
    "return_only_integer([9, 2, \"space\", \"car\", \"lion\", 16]) ➞ [9, 2, 16] \n",
    "\n",
    "return_only_integer([\"hello\", 81, \"basketball\", 123, \"fox\"]) ➞ [81, 123] \n",
    "\n",
    "return_only_integer([10, \"121\", 56, 20, \"car\", 3, \"lion\"]) ➞ [10, 56, 20, \n",
    "\n",
    "3] \n",
    "\n",
    "return_only_integer([\"String\", True, 3.3, 1]) ➞ [1] \n",
    "'''\n",
    "def return_only_integer(list1):\n",
    "    list2=[]\n",
    "    for i in list1:\n",
    "        if type(i)==int:\n",
    "            list2.append(i)\n",
    "    return list2\n",
    "print(return_only_integer([9, 2, \"space\", \"car\", \"lion\", 16]))\n",
    "print(return_only_integer([\"hello\", 81, \"basketball\", 123, \"fox\"]))\n",
    "print(return_only_integer([10, \"121\", 56, 20, \"car\", 3, \"lion\"]))\n",
    "print(return_only_integer([\"String\", True, 3.3, 1]))"
   ]
  },
  {
   "cell_type": "code",
   "execution_count": null,
   "id": "96e1b5ac-6ea6-42a9-962c-0b822d1acda3",
   "metadata": {},
   "outputs": [],
   "source": []
  }
 ],
 "metadata": {
  "kernelspec": {
   "display_name": "Python 3 (ipykernel)",
   "language": "python",
   "name": "python3"
  },
  "language_info": {
   "codemirror_mode": {
    "name": "ipython",
    "version": 3
   },
   "file_extension": ".py",
   "mimetype": "text/x-python",
   "name": "python",
   "nbconvert_exporter": "python",
   "pygments_lexer": "ipython3",
   "version": "3.10.6"
  }
 },
 "nbformat": 4,
 "nbformat_minor": 5
}
