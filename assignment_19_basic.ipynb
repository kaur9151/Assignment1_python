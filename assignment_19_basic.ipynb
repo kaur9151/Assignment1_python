{
 "cells": [
  {
   "cell_type": "code",
   "execution_count": 4,
   "id": "89e25e30-3069-4845-8d0e-0f94f4354202",
   "metadata": {},
   "outputs": [
    {
     "name": "stdout",
     "output_type": "stream",
     "text": [
      "<class '__main__.Thing'>\n",
      "<__main__.Thing object at 0x7f89efe87820>\n"
     ]
    }
   ],
   "source": [
    "'''\n",
    "Make a class called Thing with no contents and print it. Then, create an object called example\n",
    "from this class and also print it. Are the printed values the same or different?\n",
    "'''\n",
    "class Thing:\n",
    "    pass\n",
    "print(Thing)\n",
    "example=Thing()\n",
    "print(example)\n",
    "#Printed values are different."
   ]
  },
  {
   "cell_type": "code",
   "execution_count": 6,
   "id": "224e9a20-4dbb-44cc-a15d-0b203606bb6c",
   "metadata": {},
   "outputs": [
    {
     "data": {
      "text/plain": [
       "'abc'"
      ]
     },
     "execution_count": 6,
     "metadata": {},
     "output_type": "execute_result"
    }
   ],
   "source": [
    "'''\n",
    "Create a new class called Thing2 and add the value &#39;abc&#39; to the letters class attribute. Letters\n",
    "should be printed.\n",
    "'''\n",
    "class Thing2:\n",
    "    letters='abc'\n",
    "Thing2.letters"
   ]
  },
  {
   "cell_type": "code",
   "execution_count": 13,
   "id": "f8832c5f-8dd9-4016-91be-7893e7df7d50",
   "metadata": {},
   "outputs": [
    {
     "name": "stdout",
     "output_type": "stream",
     "text": [
      "xyz\n"
     ]
    }
   ],
   "source": [
    "'''\n",
    "Make yet another class called, of course, Thing3. This time, assign the value &#39;xyz&#39; to an instance\n",
    "(object) attribute called letters. Print letters. Do you need to make an object from the class to do\n",
    "this?\n",
    "'''\n",
    "class Thing3:\n",
    "    pass\n",
    "Thing3.letters='xyz'\n",
    "print(letters)\n",
    "#No"
   ]
  },
  {
   "cell_type": "code",
   "execution_count": 16,
   "id": "124cfb0b-e1f5-4fee-a748-63465b86c448",
   "metadata": {},
   "outputs": [],
   "source": [
    "'''\n",
    "Create an Element class with the instance attributes name, symbol, and number. Create a class\n",
    "object with the values &#39;Hydrogen,&#39; &#39;H,&#39; and 1.\n",
    "'''\n",
    "class Element:\n",
    "   def __init__(self, name, symbol, number):\n",
    "        self.name=name\n",
    "        self.symbol=symbol\n",
    "        self.number=number\n",
    "object1=Element('Hydrogen','H',1)"
   ]
  },
  {
   "cell_type": "code",
   "execution_count": 20,
   "id": "146eccf8-97c7-4fc0-88f4-65e486ff12d6",
   "metadata": {},
   "outputs": [
    {
     "data": {
      "text/plain": [
       "1"
      ]
     },
     "execution_count": 20,
     "metadata": {},
     "output_type": "execute_result"
    }
   ],
   "source": [
    "'''\n",
    "Make a dictionary with these keys and values: &#39;name&#39;: &#39;Hydrogen&#39;, &#39;symbol&#39;: &#39;H&#39;, &#39;number&#39;: 1. Then,\n",
    "create an object called hydrogen from class Element using this dictionary.\n",
    "'''\n",
    "dict1={'name':'Hydrogen','symbol':'H','number':1}\n",
    "hydrogen=Element(dict1['name'],dict1['symbol'],dict1['number'])\n",
    "hydrogen.number"
   ]
  },
  {
   "cell_type": "code",
   "execution_count": 36,
   "id": "1fa207d4-96bd-428c-aa52-7f51e31e26f3",
   "metadata": {},
   "outputs": [
    {
     "name": "stdout",
     "output_type": "stream",
     "text": [
      "name Hydrogen\n",
      "symbol H\n",
      "number 1\n"
     ]
    }
   ],
   "source": [
    "'''\n",
    "For the Element class, define a method called dump() that prints the values of the object’s\n",
    "attributes (name, symbol, and number). Create the hydrogen object from this new definition and\n",
    "use dump() to print its attributes.\n",
    "'''\n",
    "class Element:\n",
    "    def __init__(self, name, symbol, number):\n",
    "        self.name=name\n",
    "        self.symbol=symbol\n",
    "        self.number=number\n",
    "    def dump(self):\n",
    "        print('name',self.name)\n",
    "        print('symbol',self.symbol)\n",
    "        print('number',self.number)\n",
    "hydrogen=Element('Hydrogen','H',1)\n",
    "hydrogen.dump()"
   ]
  },
  {
   "cell_type": "code",
   "execution_count": 6,
   "id": "807bf442-52c4-40b1-a2a5-e6e0a7dddfad",
   "metadata": {},
   "outputs": [
    {
     "name": "stdout",
     "output_type": "stream",
     "text": [
      "<__main__.Element object at 0x7f47c0716d40>\n",
      "name Hydrogen\n",
      "symbol H\n",
      "number 1\n"
     ]
    },
    {
     "ename": "TypeError",
     "evalue": "__str__ returned non-string (type NoneType)",
     "output_type": "error",
     "traceback": [
      "\u001b[0;31m---------------------------------------------------------------------------\u001b[0m",
      "\u001b[0;31mTypeError\u001b[0m                                 Traceback (most recent call last)",
      "Cell \u001b[0;32mIn [6], line 17\u001b[0m\n\u001b[1;32m     15\u001b[0m         \u001b[38;5;28mprint\u001b[39m(\u001b[38;5;124m'\u001b[39m\u001b[38;5;124mnumber\u001b[39m\u001b[38;5;124m'\u001b[39m,\u001b[38;5;28mself\u001b[39m\u001b[38;5;241m.\u001b[39mnumber)\n\u001b[1;32m     16\u001b[0m hydrogen\u001b[38;5;241m=\u001b[39mElement(\u001b[38;5;124m'\u001b[39m\u001b[38;5;124mHydrogen\u001b[39m\u001b[38;5;124m'\u001b[39m,\u001b[38;5;124m'\u001b[39m\u001b[38;5;124mH\u001b[39m\u001b[38;5;124m'\u001b[39m,\u001b[38;5;241m1\u001b[39m)\n\u001b[0;32m---> 17\u001b[0m \u001b[38;5;28;43mprint\u001b[39;49m\u001b[43m(\u001b[49m\u001b[43mhydrogen\u001b[49m\u001b[43m)\u001b[49m\n",
      "\u001b[0;31mTypeError\u001b[0m: __str__ returned non-string (type NoneType)"
     ]
    }
   ],
   "source": [
    "'''\n",
    "Call print(hydrogen). In the definition of Element, change the name of method dump to __str__,\n",
    "create a new hydrogen object, and call print(hydrogen) again.\n",
    "'''\n",
    "print(hydrogen)\n",
    "class Element:\n",
    "    def __init__(self, name, symbol, number):\n",
    "        self.name=name\n",
    "        self.symbol=symbol\n",
    "        self.number=number\n",
    "    def __str__(self):\n",
    "        #pass\n",
    "        print('name',self.name)\n",
    "        print('symbol',self.symbol)\n",
    "        print('number',self.number)\n",
    "hydrogen=Element('Hydrogen','H',1)\n",
    "print(hydrogen)"
   ]
  },
  {
   "cell_type": "code",
   "execution_count": 5,
   "id": "ea962922-0197-42ef-a41b-6af3c094c217",
   "metadata": {},
   "outputs": [
    {
     "name": "stdout",
     "output_type": "stream",
     "text": [
      "name Hydrogen\n",
      "symbol H\n",
      "number 1\n"
     ]
    }
   ],
   "source": [
    "'''\n",
    "Modify Element to make the attributes name, symbol, and number private. Define a getter\n",
    "property for each to return its value.\n",
    "'''\n",
    "class Element:\n",
    "    def __init__(self, name, symbol, number):\n",
    "        self.__name=name\n",
    "        self.__symbol=symbol\n",
    "        self.__number=number\n",
    "    @property\n",
    "    def dump(self):\n",
    "        print('name',self.__name)\n",
    "        print('symbol',self.__symbol)\n",
    "        print('number',self.__number)\n",
    "hydrogen=Element('Hydrogen','H',1)\n",
    "hydrogen.dump"
   ]
  },
  {
   "cell_type": "code",
   "execution_count": 19,
   "id": "1c65f357-8c83-42a4-bb07-78b2bf149515",
   "metadata": {},
   "outputs": [
    {
     "name": "stdout",
     "output_type": "stream",
     "text": [
      "berries\n",
      "clover\n",
      "campers\n"
     ]
    }
   ],
   "source": [
    "'''\n",
    "Define three classes: Bear, Rabbit, and Octothorpe. For each, define only one method: eats(). This\n",
    "should return &#39;berries&#39; (Bear), &#39;clover&#39; (Rabbit), or &#39;campers&#39; (Octothorpe). Create one object from\n",
    "each and print what it eats.\n",
    "'''\n",
    "class Bear:\n",
    "    def eats(self):\n",
    "        return 'berries'\n",
    "class Rabbit:\n",
    "    def eats(self):\n",
    "        return 'clover'\n",
    "class Octothorpe:\n",
    "    def eats(self):\n",
    "        return 'campers'\n",
    "bear=Bear()\n",
    "print(bear.eats())\n",
    "rabbit=Rabbit()\n",
    "print(rabbit.eats())\n",
    "octothorpe=Octothorpe()\n",
    "print(octothorpe.eats())"
   ]
  },
  {
   "cell_type": "code",
   "execution_count": 30,
   "id": "e792d880-215c-4860-92c2-cefebac5410b",
   "metadata": {},
   "outputs": [
    {
     "name": "stdout",
     "output_type": "stream",
     "text": [
      "disintegrate crush ring\n"
     ]
    }
   ],
   "source": [
    "'''\n",
    "Define these classes: Laser, Claw, and SmartPhone. Each has only one method: does(). This\n",
    "returns &#39;disintegrate&#39; (Laser), &#39;crush&#39; (Claw), or &#39;ring&#39; (SmartPhone). Then, define the class Robot that\n",
    "has one instance (object) of each of these. Define a does() method for the Robot that prints what its\n",
    "component objects do.\n",
    "'''\n",
    "class Laser:\n",
    "    def does(self):\n",
    "        return 'disintegrate'\n",
    "class Claw:\n",
    "    def does(self):\n",
    "        return 'crush'\n",
    "class SmartPhone:\n",
    "    def does(self):\n",
    "        return 'ring'\n",
    "class Robot:\n",
    "    laser=Laser()\n",
    "    claw=Claw()\n",
    "    smartPhone=SmartPhone()\n",
    "    def does(self):\n",
    "        print(self.laser.does(),self.claw.does(),self.smartPhone.does())\n",
    "robot=Robot()\n",
    "robot.does()"
   ]
  },
  {
   "cell_type": "code",
   "execution_count": null,
   "id": "c0b83799-c8c5-434f-88d5-6a9580fda1e3",
   "metadata": {},
   "outputs": [],
   "source": []
  }
 ],
 "metadata": {
  "kernelspec": {
   "display_name": "Python 3 (ipykernel)",
   "language": "python",
   "name": "python3"
  },
  "language_info": {
   "codemirror_mode": {
    "name": "ipython",
    "version": 3
   },
   "file_extension": ".py",
   "mimetype": "text/x-python",
   "name": "python",
   "nbconvert_exporter": "python",
   "pygments_lexer": "ipython3",
   "version": "3.10.6"
  }
 },
 "nbformat": 4,
 "nbformat_minor": 5
}
