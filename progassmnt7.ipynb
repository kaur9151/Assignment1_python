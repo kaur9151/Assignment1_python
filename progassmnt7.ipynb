{
  "nbformat": 4,
  "nbformat_minor": 0,
  "metadata": {
    "colab": {
      "provenance": [],
      "collapsed_sections": [],
      "authorship_tag": "ABX9TyMAvK9jLx5qChGEOzg0s8Jf",
      "include_colab_link": true
    },
    "kernelspec": {
      "name": "python3",
      "display_name": "Python 3"
    },
    "language_info": {
      "name": "python"
    }
  },
  "cells": [
    {
      "cell_type": "markdown",
      "metadata": {
        "id": "view-in-github",
        "colab_type": "text"
      },
      "source": [
        "<a href=\"https://colab.research.google.com/github/kaur9151/Assignment1_python/blob/main/progassmnt7.ipynb\" target=\"_parent\"><img src=\"https://colab.research.google.com/assets/colab-badge.svg\" alt=\"Open In Colab\"/></a>"
      ]
    },
    {
      "cell_type": "markdown",
      "source": [
        "1. Write a Python Program to find sum of array?\n",
        "2. Write a Python Program to find largest element in an array?\n",
        "3. Write a Python Program for array rotation?\n",
        "4. Write a Python Program to Split the array and add the first part to the end?\n",
        "5. Write a Python Program to check if given array is Monotonic?"
      ],
      "metadata": {
        "id": "xXLBU4D9fCp7"
      }
    },
    {
      "cell_type": "code",
      "source": [
        "arr=[]\n",
        "n=10\n",
        "for i in range(0,10):\n",
        "  num=float(input(f\"Enter array element {i}: \"))\n",
        "  arr.append(num)\n",
        "print(arr)\n",
        "sum=0\n",
        "for i in arr:\n",
        "  sum=sum+i\n",
        "print(sum)"
      ],
      "metadata": {
        "colab": {
          "base_uri": "https://localhost:8080/"
        },
        "id": "s4NuItEvfFGB",
        "outputId": "95d0701d-3a8d-466d-c1ab-9b3fc60cb0e1"
      },
      "execution_count": null,
      "outputs": [
        {
          "output_type": "stream",
          "name": "stdout",
          "text": [
            "Enter array element 0: 1\n",
            "Enter array element 1: 2\n",
            "Enter array element 2: 3\n",
            "Enter array element 3: 4\n",
            "Enter array element 4: 5\n",
            "Enter array element 5: 6\n",
            "Enter array element 6: 7\n",
            "Enter array element 7: 8\n",
            "Enter array element 8: 9\n",
            "Enter array element 9: 10\n",
            "[1.0, 2.0, 3.0, 4.0, 5.0, 6.0, 7.0, 8.0, 9.0, 10.0]\n",
            "55.0\n"
          ]
        }
      ]
    },
    {
      "cell_type": "code",
      "source": [
        "arr=[2,34,100,56,78]\n",
        "max(arr)"
      ],
      "metadata": {
        "colab": {
          "base_uri": "https://localhost:8080/"
        },
        "id": "NBb3D81QgEXy",
        "outputId": "d1ea7d97-9e66-436c-b778-63eb3b3fdda5"
      },
      "execution_count": null,
      "outputs": [
        {
          "output_type": "execute_result",
          "data": {
            "text/plain": [
              "100"
            ]
          },
          "metadata": {},
          "execution_count": 4
        }
      ]
    },
    {
      "cell_type": "code",
      "source": [
        "arr=[2,34,100,56,78]\n",
        "#arr=reversed(arr)\n",
        "arr.reverse()\n",
        "print(arr)"
      ],
      "metadata": {
        "colab": {
          "base_uri": "https://localhost:8080/"
        },
        "id": "aICqGvQWgOHc",
        "outputId": "626050d0-1247-4d66-8a2c-a4274f8611d2"
      },
      "execution_count": null,
      "outputs": [
        {
          "output_type": "stream",
          "name": "stdout",
          "text": [
            "[78, 56, 100, 34, 2]\n"
          ]
        }
      ]
    },
    {
      "cell_type": "code",
      "source": [
        "import numpy as n\n",
        "arr1=n.array([23, 45,90])\n",
        "arrnew=n.array_split(arr1, 3)\n",
        "print(arrnew)\n",
        "temp=arrnew[2]\n",
        "arrnew[2]=arrnew[0]\n",
        "arrnew[0]=temp\n",
        "print(arrnew)"
      ],
      "metadata": {
        "colab": {
          "base_uri": "https://localhost:8080/"
        },
        "id": "CDe5El4GxCIi",
        "outputId": "f8c74007-35c7-4254-9f94-e0d43ce47eaf"
      },
      "execution_count": 12,
      "outputs": [
        {
          "output_type": "stream",
          "name": "stdout",
          "text": [
            "[array([23]), array([45]), array([90])]\n",
            "[array([90]), array([45]), array([23])]\n"
          ]
        }
      ]
    },
    {
      "cell_type": "code",
      "source": [
        "arr2=[4,3,2,1]\n",
        "def mono(arr):\n",
        "  if all(arr[i]>=arr[i+1] for i in range(0,len(arr)-1)) or all(arr[i]<=arr[i+1] for i in range(0,len(arr)-1)):\n",
        "    return True\n",
        "  else:\n",
        "    return False\n",
        "result=mono(arr2)\n",
        "print(result)\n"
      ],
      "metadata": {
        "colab": {
          "base_uri": "https://localhost:8080/"
        },
        "id": "WCRzBs7b1kuE",
        "outputId": "d25f4f43-b0f3-4359-eb2a-d46cba972bc4"
      },
      "execution_count": 46,
      "outputs": [
        {
          "output_type": "stream",
          "name": "stdout",
          "text": [
            "True\n"
          ]
        }
      ]
    }
  ]
}