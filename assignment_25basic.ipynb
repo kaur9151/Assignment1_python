{
 "cells": [
  {
   "cell_type": "code",
   "execution_count": 4,
   "id": "70553e19-885b-417f-a66d-d8f89e4a14ed",
   "metadata": {},
   "outputs": [
    {
     "data": {
      "text/plain": [
       "0"
      ]
     },
     "execution_count": 4,
     "metadata": {},
     "output_type": "execute_result"
    }
   ],
   "source": [
    "'''\n",
    "Create a function that takes three integer arguments (a, b, c) and returns the amount of\n",
    "integers which are of equal value.\n",
    "Examples\n",
    "equal(3, 4, 3) ➞ 2\n",
    "equal(1, 1, 1) ➞ 3\n",
    "equal(3, 4, 1) ➞ 0\n",
    "Notes\n",
    "Your function must return 0, 2 or 3.\n",
    "'''\n",
    "def equal(a,b,c):\n",
    "    list1=[]\n",
    "    list1.append(a)\n",
    "    list1.append(b)\n",
    "    list1.append(c)\n",
    "    if list1.count(a)>1:\n",
    "        return list1.count(a)\n",
    "    if list1.count(b)>1:\n",
    "        return list1.count(b)\n",
    "    if list1.count(c)>1:\n",
    "        return list1.count(c)\n",
    "    else:\n",
    "        return 0\n",
    "equal(3, 4, 3)\n",
    "equal(1, 1, 1)\n",
    "equal(3, 4, 1)"
   ]
  },
  {
   "cell_type": "code",
   "execution_count": 10,
   "id": "a9ae923f-eed7-4d28-88ac-4fd2cfd425a4",
   "metadata": {},
   "outputs": [
    {
     "data": {
      "text/plain": [
       "[('likes', 2), ('dislikes', 3), ('followers', 10)]"
      ]
     },
     "execution_count": 10,
     "metadata": {},
     "output_type": "execute_result"
    }
   ],
   "source": [
    "'''\n",
    "Write a function that converts a dictionary into a list of keys-values tuples. \n",
    "Examples \n",
    "dict_to_list({ \n",
    "\"D\": 1, \n",
    "\"B\": 2, \n",
    "\"C\": 3 \n",
    "}) ➞ [(\"B\", 2), (\"C\", 3), (\"D\", 1)] \n",
    "dict_to_list({ \n",
    "\"likes\": 2, \n",
    "\"dislikes\": 3, \n",
    "\"followers\": 10 \n",
    "}) ➞ [(\"dislikes\", 3), (\"followers\", 10), (\"likes\", 2)] \n",
    "Notes \n",
    "Return the elements in the list in alphabetical order. \n",
    "'''\n",
    "def dict_to_list(dict1):\n",
    "    lis=[]\n",
    "    tup=()\n",
    "    for key,value in dict1.items():\n",
    "        tup=[]\n",
    "        tup.append(key)\n",
    "        tup.append(value)\n",
    "        lis.append(tuple(tup))\n",
    "    return lis\n",
    "dict_to_list({ \n",
    "\"D\": 1, \n",
    "\"B\": 2, \n",
    "\"C\": 3 \n",
    "})\n",
    "dict_to_list({ \n",
    "\"likes\": 2, \n",
    "\"dislikes\": 3, \n",
    "\"followers\": 10 \n",
    "})"
   ]
  },
  {
   "cell_type": "code",
   "execution_count": 6,
   "id": "46892736-c6f8-4144-8b20-7534b0907798",
   "metadata": {},
   "outputs": [
    {
     "data": {
      "text/plain": [
       "{'a': 'A', 'v': 'V', 'y': 'Y', 'z': 'Z'}"
      ]
     },
     "execution_count": 6,
     "metadata": {},
     "output_type": "execute_result"
    }
   ],
   "source": [
    "'''\n",
    "Write a function that creates a dictionary with each (key, value) pair being the (lower case, \n",
    "upper case) versions of a letter, respectively. \n",
    "Examples \n",
    "mapping([\"p\", \"s\"]) ➞ { \"p\": \"P\", \"s\": \"S\" } \n",
    "mapping([\"a\", \"b\", \"c\"]) ➞ { \"a\": \"A\", \"b\": \"B\", \"c\": \"C\" } \n",
    "mapping([\"a\", \"v\", \"y\", \"z\"]) ➞ { \"a\": \"A\", \"v\": \"V\", \"y\": \"Y\", \"z\": \"Z\" } \n",
    "Notes \n",
    "All of the letters in the input list will always be lowercase. \n",
    "'''\n",
    "def mapping(list1):\n",
    "    dict1={}\n",
    "    for i in list1:\n",
    "        dict1[i]=i.upper()\n",
    "    return dict1\n",
    "mapping([\"p\", \"s\"])\n",
    "mapping([\"a\", \"b\", \"c\"])\n",
    "mapping([\"a\", \"v\", \"y\", \"z\"])"
   ]
  },
  {
   "cell_type": "code",
   "execution_count": 12,
   "id": "e1f40e45-1c1f-443a-8f05-197519030ed4",
   "metadata": {},
   "outputs": [
    {
     "data": {
      "text/plain": [
       "'steffed jelepene peppers'"
      ]
     },
     "execution_count": 12,
     "metadata": {},
     "output_type": "execute_result"
    }
   ],
   "source": [
    "'''\n",
    "Write a function, that replaces all vowels in a string with a specified vowel. \n",
    "Examples \n",
    "vow_replace(\"apples and bananas\", \"u\") ➞ \"upplus und bununus\" \n",
    "vow_replace(\"cheese casserole\", \"o\") ➞ \"chooso cossorolo\" \n",
    "vow_replace(\"stuffed jalapeno poppers\", \"e\") ➞ \"steffed jelepene peppers\" \n",
    "Notes \n",
    "All words will be lowercase. Y is not considered a vowel. \n",
    "'''\n",
    "def vow_replace(str1,str2):\n",
    "    list1=[i for i in str1]\n",
    "    #print(list1)\n",
    "    for i in range(len(list1)):\n",
    "        if list1[i]=='a' or list1[i]=='e' or list1[i]=='i' or list1[i]=='o' or list1[i]=='u':\n",
    "            #print(i)\n",
    "            list1[i]=str2\n",
    "    return ''.join(list1)\n",
    "vow_replace(\"apples and bananas\", \"u\")\n",
    "vow_replace(\"cheese casserole\", \"o\")\n",
    "vow_replace(\"stuffed jalapeno poppers\", \"e\")"
   ]
  },
  {
   "cell_type": "code",
   "execution_count": 15,
   "id": "319c180c-b7e9-484b-a4c0-51deb6996543",
   "metadata": {},
   "outputs": [
    {
     "data": {
      "text/plain": [
       "'oH wHaT a BeauTiFuL moRNiNg.'"
      ]
     },
     "execution_count": 15,
     "metadata": {},
     "output_type": "execute_result"
    }
   ],
   "source": [
    "'''\n",
    "Create a function that takes a string as input and capitalizes a letter if its ASCII code is even \n",
    "and returns its lower case version if its ASCII code is odd. \n",
    "Examples \n",
    "ascii_capitalize(\"to be or not to be!\") ➞ \"To Be oR NoT To Be!\" \n",
    "ascii_capitalize(\"THE LITTLE MERMAID\") ➞ \"THe LiTTLe meRmaiD\" \n",
    "ascii_capitalize(\"Oh what a beautiful morning.\") ➞ \"oH wHaT a BeauTiFuL \n",
    "moRNiNg.\" \n",
    "'''\n",
    "def ascii_capitalize(str1):\n",
    "    list1=[i for i in str1]\n",
    "    for i in range(len(list1)):\n",
    "        if ord(list1[i])%2==0:\n",
    "            list1[i]=list1[i].upper()\n",
    "        else:\n",
    "            list1[i]=list1[i].lower()\n",
    "    return ''.join(list1)\n",
    "ascii_capitalize(\"to be or not to be!\")\n",
    "ascii_capitalize(\"THE LITTLE MERMAID\") \n",
    "ascii_capitalize(\"Oh what a beautiful morning.\")"
   ]
  },
  {
   "cell_type": "code",
   "execution_count": null,
   "id": "cccbda85-dc2b-4921-9569-0fa0108f72dd",
   "metadata": {},
   "outputs": [],
   "source": []
  }
 ],
 "metadata": {
  "kernelspec": {
   "display_name": "Python 3 (ipykernel)",
   "language": "python",
   "name": "python3"
  },
  "language_info": {
   "codemirror_mode": {
    "name": "ipython",
    "version": 3
   },
   "file_extension": ".py",
   "mimetype": "text/x-python",
   "name": "python",
   "nbconvert_exporter": "python",
   "pygments_lexer": "ipython3",
   "version": "3.10.6"
  }
 },
 "nbformat": 4,
 "nbformat_minor": 5
}
