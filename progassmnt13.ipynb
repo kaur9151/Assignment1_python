{
  "nbformat": 4,
  "nbformat_minor": 0,
  "metadata": {
    "colab": {
      "provenance": [],
      "authorship_tag": "ABX9TyPG7oNBXukQC8WQvAgmnVjS",
      "include_colab_link": true
    },
    "kernelspec": {
      "name": "python3",
      "display_name": "Python 3"
    },
    "language_info": {
      "name": "python"
    }
  },
  "cells": [
    {
      "cell_type": "markdown",
      "metadata": {
        "id": "view-in-github",
        "colab_type": "text"
      },
      "source": [
        "<a href=\"https://colab.research.google.com/github/kaur9151/Assignment1_python/blob/main/progassmnt13.ipynb\" target=\"_parent\"><img src=\"https://colab.research.google.com/assets/colab-badge.svg\" alt=\"Open In Colab\"/></a>"
      ]
    },
    {
      "cell_type": "markdown",
      "source": [
        "Question 1:\n",
        "Write a program that calculates and prints the value according to the given formula:\n",
        "Q = Square root of [(2 * C * D)/H]\n",
        "Following are the fixed values of C and H:\n",
        "C is 50. H is 30.\n",
        "D is the variable whose values should be input to your program in a comma-separated\n",
        "sequence.\n",
        "Example\n",
        "Let us assume the following comma separated input sequence is given to the program:\n",
        "100,150,180\n",
        "The output of the program should be:\n",
        "18,22,24"
      ],
      "metadata": {
        "id": "b5YXcI0oB6Cc"
      }
    },
    {
      "cell_type": "code",
      "source": [
        "#Q=((2*C*D)/H)**1/2\n",
        "#C=50 ,H=30\n",
        "#del str\n",
        "D=input().split(\",\")\n",
        "#print(D)\n",
        "C,H=50,30\n",
        "result=[]\n",
        "for i in D:\n",
        "  i=int(i)\n",
        "  Q=((2*C*i)/H)**(1/2)\n",
        "  result.append(int(Q))\n",
        "#print(result)\n",
        "string=''\n",
        "for j in range(0,len(result)):\n",
        "  str1=str(result[j])\n",
        "  #print(str1)\n",
        "  string=string+str1\n",
        "  if j<len(result)-1:\n",
        "    string=string+','\n",
        "print(string)"
      ],
      "metadata": {
        "colab": {
          "base_uri": "https://localhost:8080/"
        },
        "id": "LC8badZACFUx",
        "outputId": "6ad75657-a4bf-4062-bd01-2b0cdbf341bc"
      },
      "execution_count": null,
      "outputs": [
        {
          "output_type": "stream",
          "name": "stdout",
          "text": [
            "100,150,180\n",
            "18,22,24\n"
          ]
        }
      ]
    },
    {
      "cell_type": "code",
      "source": [
        "\"\"\"Write a program which takes 2 digits, X,Y as input and generates a 2-dimensional array. The\n",
        "element value in the i-th row and j-th column of the array should be i*j.\n",
        "Note: i=0,1.., X-1; j=0,1,¡Y-1.\n",
        "Example\n",
        "Suppose the following inputs are given to the program:\n",
        "3,5\n",
        "Then, the output of the program should be:\n",
        "[[0, 0, 0, 0, 0], --row0\n",
        " [0, 1, 2, 3, 4],\n",
        " [0, 2, 4, 6, 8]]\"\"\"\n",
        "rowx=int(input(\"Enter X: \"))\n",
        "columny=int(input(\"Enter Y: \"))\n",
        "list1=[]\n",
        "list2=[]\n",
        "for j in range(0,rowx):\n",
        "  list1=[]\n",
        "  for i in range(0,columny):\n",
        "    list1.append(i*j)\n",
        "    #print(list1)\n",
        "  #print(list1)\n",
        "  list2.append(list1)\n",
        "print(list2)"
      ],
      "metadata": {
        "id": "AvjUZQgOWz71",
        "colab": {
          "base_uri": "https://localhost:8080/"
        },
        "outputId": "db5e9be1-9451-429c-d0f9-275308693765"
      },
      "execution_count": null,
      "outputs": [
        {
          "output_type": "stream",
          "name": "stdout",
          "text": [
            "Enter X: 3\n",
            "Enter Y: 5\n",
            "[[0, 0, 0, 0, 0], [0, 1, 2, 3, 4], [0, 2, 4, 6, 8]]\n"
          ]
        }
      ]
    },
    {
      "cell_type": "code",
      "source": [
        "\"\"\"Question 3:\n",
        "Write a program that accepts a comma separated sequence of words as input and prints the\n",
        "words in a comma-separated sequence after sorting them alphabetically.\n",
        "Suppose the following input is supplied to the program:\n",
        "without,hello,bag,world\n",
        "Then, the output should be:\n",
        "bag,hello,without,world\"\"\"\n",
        "string=input().split(',')\n",
        "#print(string)\n",
        "string.sort()\n",
        "string=','.join(string)\n",
        "print(string)"
      ],
      "metadata": {
        "colab": {
          "base_uri": "https://localhost:8080/"
        },
        "id": "O7N5WnvfScN9",
        "outputId": "09c9437b-6f8e-4aa3-ffd7-d8981302b663"
      },
      "execution_count": null,
      "outputs": [
        {
          "output_type": "stream",
          "name": "stdout",
          "text": [
            "without,hello,bag,world\n",
            "bag,hello,without,world\n"
          ]
        }
      ]
    },
    {
      "cell_type": "code",
      "source": [
        "\"\"\"Question 4:\n",
        "Write a program that accepts a sequence of whitespace separated words as input and prints\n",
        "the words after removing all duplicate words and sorting them alphanumerically.\n",
        "Suppose the following input is supplied to the program:\n",
        "hello world and practice makes perfect and hello world again\n",
        "Then, the output should be:\n",
        "again and hello makes perfect practice world\"\"\"\n",
        "string=input().split()\n",
        "print(string)\n",
        "string=set(string)\n",
        "string=list(string)\n",
        "string.sort()\n",
        "print(string)\n",
        "\" \".join(string)"
      ],
      "metadata": {
        "colab": {
          "base_uri": "https://localhost:8080/",
          "height": 88
        },
        "id": "iRIcGywhis0q",
        "outputId": "08cda8ac-bd2a-4757-d3a4-e5dfa0115ae8"
      },
      "execution_count": 5,
      "outputs": [
        {
          "output_type": "stream",
          "name": "stdout",
          "text": [
            "hello world and practice makes perfect and hello world again\n",
            "['hello', 'world', 'and', 'practice', 'makes', 'perfect', 'and', 'hello', 'world', 'again']\n",
            "['again', 'and', 'hello', 'makes', 'perfect', 'practice', 'world']\n"
          ]
        },
        {
          "output_type": "execute_result",
          "data": {
            "text/plain": [
              "'again and hello makes perfect practice world'"
            ],
            "application/vnd.google.colaboratory.intrinsic+json": {
              "type": "string"
            }
          },
          "metadata": {},
          "execution_count": 5
        }
      ]
    },
    {
      "cell_type": "code",
      "source": [
        "\"\"\"Write a program that accepts a sentence and calculate the number of letters and digits.\n",
        "Suppose the following input is supplied to the program:\n",
        "hello world! 123\n",
        "Then, the output should be:\n",
        "LETTERS 10\n",
        "\n",
        "DIGITS 3\"\"\"\n",
        "#spechar=[!,\",#,$,%,&,',(,),*,+,,,-,./:;<=>?@[\\]^_`{|}~\"\n",
        "spe=\" ! \\\"#$%&'()*+,-./:;<=>?@[\\]^_`{|}~\"\n",
        "string=input()\n",
        "string=' '.join(string)\n",
        "string=string.split()\n",
        "#print(string)\n",
        "letters=0\n",
        "digits=0\n",
        "for i in range(0,len(string)):\n",
        "  for j in spe:\n",
        "    if string[i]==j:\n",
        "      #print(f\"J{j}\")\n",
        "      i=i+1\n",
        "      continue\n",
        "  try:\n",
        "    int(string[i])\n",
        "    #print(f\"D{string[i]}\")\n",
        "  except ValueError:\n",
        "    letters=letters+1\n",
        "  else:\n",
        "      digits=digits+1\n",
        "digits=digits-1\n",
        "print(f\"LETTERS:{letters}\")\n",
        "print(f\"DIGITS:{digits}\")"
      ],
      "metadata": {
        "colab": {
          "base_uri": "https://localhost:8080/"
        },
        "id": "XeqCzriOWVFa",
        "outputId": "028777cd-c85b-435f-dd41-8a3279886dfe"
      },
      "execution_count": null,
      "outputs": [
        {
          "output_type": "stream",
          "name": "stdout",
          "text": [
            "hello world! 123\n",
            "LETTERS:10\n",
            "DIGITS:3\n"
          ]
        }
      ]
    },
    {
      "cell_type": "code",
      "source": [
        "\"\"\"A website requires the users to input username and password to register. Write a program to\n",
        "check the validity of password input by users.\n",
        "Following are the criteria for checking the password:\n",
        "1. At least 1 letter between [a-z]\n",
        "2. At least 1 number between [0-9]\n",
        "1. At least 1 letter between [A-Z]\n",
        "3. At least 1 character from [$#@]\n",
        "4. Minimum length of transaction password: 6\n",
        "5. Maximum length of transaction password: 12\n",
        "Your program should accept a sequence of comma separated passwords and will check them\n",
        "according to the above criteria. Passwords that match the criteria are to be printed, each\n",
        "separated by a comma.\n",
        "Example\n",
        "If the following passwords are given as input to the program:\n",
        "ABd1234@1,a F1#,2w3E*,2We3345\n",
        "Then, the output of the program should be:\n",
        "ABd1234@1\"\"\"\n",
        "u,l,d,s,le=0,0,0,0,0\n",
        "password=input(\"Enter passwords: \").split(',')\n",
        "for pas in password:\n",
        "  u,l,d,s,le=0,0,0,0,0\n",
        "  for i in pas:\n",
        "    if i.isupper():\n",
        "      u+=1\n",
        "    elif i.islower():\n",
        "      l+=1\n",
        "    elif i.isdigit():\n",
        "      d+=1\n",
        "    elif i==\"@\" or i==\"$\" or i==\"#\":\n",
        "      s+=1\n",
        "  if len(pas)>=6 and len(pas)<=12:\n",
        "      le+=1\n",
        "  if u>=1 and l>=1 and d>=1 and s>=1 and le>=1:\n",
        "    print(pas)"
      ],
      "metadata": {
        "colab": {
          "base_uri": "https://localhost:8080/"
        },
        "id": "zcOBLcAsXw2w",
        "outputId": "92ffefd9-20ca-4522-c7b2-3625dabc38d9"
      },
      "execution_count": null,
      "outputs": [
        {
          "output_type": "stream",
          "name": "stdout",
          "text": [
            "Enter passwords: 123,fF@234,6786,kfjghdfjkghdkfj\n",
            "fF@234\n"
          ]
        }
      ]
    }
  ]
}