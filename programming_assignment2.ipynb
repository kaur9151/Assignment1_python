{
  "nbformat": 4,
  "nbformat_minor": 0,
  "metadata": {
    "colab": {
      "provenance": [],
      "collapsed_sections": [],
      "authorship_tag": "ABX9TyMjXw6KqWqE7d8Toyr4mYWC",
      "include_colab_link": true
    },
    "kernelspec": {
      "name": "python3",
      "display_name": "Python 3"
    },
    "language_info": {
      "name": "python"
    }
  },
  "cells": [
    {
      "cell_type": "markdown",
      "metadata": {
        "id": "view-in-github",
        "colab_type": "text"
      },
      "source": [
        "<a href=\"https://colab.research.google.com/github/kaur9151/Assignment1_python/blob/main/programming_assignment2.ipynb\" target=\"_parent\"><img src=\"https://colab.research.google.com/assets/colab-badge.svg\" alt=\"Open In Colab\"/></a>"
      ]
    },
    {
      "cell_type": "code",
      "execution_count": null,
      "metadata": {
        "id": "XBG1MYTfbY8p"
      },
      "outputs": [],
      "source": []
    },
    {
      "cell_type": "markdown",
      "source": [
        "1. Write a Python program to convert kilometers to miles?\n",
        "2. Write a Python program to convert Celsius to Fahrenheit?\n",
        "3. Write a Python program to display calendar?\n",
        "4. Write a Python program to solve quadratic equation?\n",
        "5. Write a Python program to swap two variables without temp variable?"
      ],
      "metadata": {
        "id": "pV1vG7iHbaGU"
      }
    },
    {
      "cell_type": "code",
      "source": [
        "km=float(input(\"Enter your kilometers: \"))\n",
        "miles=0.6214*km\n",
        "print(f\"You entered {miles} miles\")"
      ],
      "metadata": {
        "colab": {
          "base_uri": "https://localhost:8080/"
        },
        "id": "yA6ifOkablED",
        "outputId": "8c3fc90f-b9c4-47b7-c30e-467a411e1040"
      },
      "execution_count": 1,
      "outputs": [
        {
          "output_type": "stream",
          "name": "stdout",
          "text": [
            "Enter your kilometers: 2\n",
            "You entered 1.2428 miles\n"
          ]
        }
      ]
    },
    {
      "cell_type": "code",
      "source": [
        "celsius=float(input(\"Enter Celsius value: \"))\n",
        "fahr=(celsius*9/5)+32\n",
        "print(f\"Fahrenheit value is {fahr}\")"
      ],
      "metadata": {
        "colab": {
          "base_uri": "https://localhost:8080/"
        },
        "id": "NCN7rDfIbrxc",
        "outputId": "ec8c5383-97c8-4b7b-d424-75872dfebaab"
      },
      "execution_count": 2,
      "outputs": [
        {
          "output_type": "stream",
          "name": "stdout",
          "text": [
            "Enter Celsius value: 45\n",
            "Fahrenheit value is 113.0\n"
          ]
        }
      ]
    },
    {
      "cell_type": "code",
      "source": [
        "import calendar\n",
        "print(calendar.calendar(2022))"
      ],
      "metadata": {
        "colab": {
          "base_uri": "https://localhost:8080/"
        },
        "id": "D5YeByaVca3M",
        "outputId": "75047d33-f6b6-4f8b-82a9-7bbdf45dc96c"
      },
      "execution_count": 4,
      "outputs": [
        {
          "output_type": "stream",
          "name": "stdout",
          "text": [
            "                                  2022\n",
            "\n",
            "      January                   February                   March\n",
            "Mo Tu We Th Fr Sa Su      Mo Tu We Th Fr Sa Su      Mo Tu We Th Fr Sa Su\n",
            "                1  2          1  2  3  4  5  6          1  2  3  4  5  6\n",
            " 3  4  5  6  7  8  9       7  8  9 10 11 12 13       7  8  9 10 11 12 13\n",
            "10 11 12 13 14 15 16      14 15 16 17 18 19 20      14 15 16 17 18 19 20\n",
            "17 18 19 20 21 22 23      21 22 23 24 25 26 27      21 22 23 24 25 26 27\n",
            "24 25 26 27 28 29 30      28                        28 29 30 31\n",
            "31\n",
            "\n",
            "       April                      May                       June\n",
            "Mo Tu We Th Fr Sa Su      Mo Tu We Th Fr Sa Su      Mo Tu We Th Fr Sa Su\n",
            "             1  2  3                         1             1  2  3  4  5\n",
            " 4  5  6  7  8  9 10       2  3  4  5  6  7  8       6  7  8  9 10 11 12\n",
            "11 12 13 14 15 16 17       9 10 11 12 13 14 15      13 14 15 16 17 18 19\n",
            "18 19 20 21 22 23 24      16 17 18 19 20 21 22      20 21 22 23 24 25 26\n",
            "25 26 27 28 29 30         23 24 25 26 27 28 29      27 28 29 30\n",
            "                          30 31\n",
            "\n",
            "        July                     August                  September\n",
            "Mo Tu We Th Fr Sa Su      Mo Tu We Th Fr Sa Su      Mo Tu We Th Fr Sa Su\n",
            "             1  2  3       1  2  3  4  5  6  7                1  2  3  4\n",
            " 4  5  6  7  8  9 10       8  9 10 11 12 13 14       5  6  7  8  9 10 11\n",
            "11 12 13 14 15 16 17      15 16 17 18 19 20 21      12 13 14 15 16 17 18\n",
            "18 19 20 21 22 23 24      22 23 24 25 26 27 28      19 20 21 22 23 24 25\n",
            "25 26 27 28 29 30 31      29 30 31                  26 27 28 29 30\n",
            "\n",
            "      October                   November                  December\n",
            "Mo Tu We Th Fr Sa Su      Mo Tu We Th Fr Sa Su      Mo Tu We Th Fr Sa Su\n",
            "                1  2          1  2  3  4  5  6                1  2  3  4\n",
            " 3  4  5  6  7  8  9       7  8  9 10 11 12 13       5  6  7  8  9 10 11\n",
            "10 11 12 13 14 15 16      14 15 16 17 18 19 20      12 13 14 15 16 17 18\n",
            "17 18 19 20 21 22 23      21 22 23 24 25 26 27      19 20 21 22 23 24 25\n",
            "24 25 26 27 28 29 30      28 29 30                  26 27 28 29 30 31\n",
            "31\n",
            "\n"
          ]
        }
      ]
    },
    {
      "cell_type": "code",
      "source": [
        "print(\"Lets assume your quadratic equation is: ax2+bx+c=0\")\n",
        "a=float(input(\"Enter value of a: \"))\n",
        "b=float(input(\"Enter value of b: \"))\n",
        "c=float(input(\"Enter value of c: \"))\n",
        "print(f\"your equation is {a}x2 +{b}x +{c}\")\n",
        "D=(b**2)-4*a*c\n",
        "if D>=0:\n",
        "  D=D**1/2\n",
        "  e=-b+D\n",
        "  e1=-b-D\n",
        "  A=2*a\n",
        "  d1=e/A\n",
        "  d2=e1/A\n",
        "  print(f\"First value of x={d1} and second value of x={d2}\")\n",
        "else:\n",
        "  print(f\"D is negative {D} therefore, complex roots of the equation.\")"
      ],
      "metadata": {
        "colab": {
          "base_uri": "https://localhost:8080/"
        },
        "id": "beSXRqEcd5IY",
        "outputId": "114d26b3-b46a-4986-d342-20f340dea78d"
      },
      "execution_count": 22,
      "outputs": [
        {
          "output_type": "stream",
          "name": "stdout",
          "text": [
            "Lets assume your quadratic equation is: ax2+bx+c=0\n",
            "Enter value of a: 1\n",
            "Enter value of b: 1\n",
            "Enter value of c: 1\n",
            "your equation is 1.0x2 +1.0x +1.0\n",
            "D is negative -3.0 therefore, complex roots of the equation\n"
          ]
        }
      ]
    },
    {
      "cell_type": "code",
      "source": [
        "a=input(\"Enter anything: \")\n",
        "b=input(\"Enter anything: \")\n",
        "a,b=b,a\n",
        "print(f\"Value of a: {a}, Value of b: {b}\")"
      ],
      "metadata": {
        "colab": {
          "base_uri": "https://localhost:8080/"
        },
        "id": "r5kB50ZBi-fP",
        "outputId": "a3255028-918d-4dd1-862b-b4b00bbb066d"
      },
      "execution_count": 24,
      "outputs": [
        {
          "output_type": "stream",
          "name": "stdout",
          "text": [
            "Enter anything: rt\n",
            "Enter anything: yu\n",
            "Value of a: yu, Value of b: rt\n"
          ]
        }
      ]
    }
  ]
}