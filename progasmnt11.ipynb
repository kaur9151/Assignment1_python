{
  "nbformat": 4,
  "nbformat_minor": 0,
  "metadata": {
    "colab": {
      "provenance": [],
      "collapsed_sections": [],
      "authorship_tag": "ABX9TyNJZE3YLdaYE/UgHxdRpL1P",
      "include_colab_link": true
    },
    "kernelspec": {
      "name": "python3",
      "display_name": "Python 3"
    },
    "language_info": {
      "name": "python"
    }
  },
  "cells": [
    {
      "cell_type": "markdown",
      "metadata": {
        "id": "view-in-github",
        "colab_type": "text"
      },
      "source": [
        "<a href=\"https://colab.research.google.com/github/kaur9151/Assignment1_python/blob/main/progasmnt11.ipynb\" target=\"_parent\"><img src=\"https://colab.research.google.com/assets/colab-badge.svg\" alt=\"Open In Colab\"/></a>"
      ]
    },
    {
      "cell_type": "markdown",
      "source": [
        "1. Write a Python program to find words which are greater than given length k?\n",
        "2. Write a Python program for removing i-th character from a string?\n",
        "3. Write a Python program to split and join a string?\n",
        "4. Write a Python to check if a given string is binary string or not?\n",
        "5. Write a Python program to find uncommon words from two Strings?\n",
        "6. Write a Python to find all duplicate characters in string?\n",
        "7. Write a Python Program to check if a string contains any special character?"
      ],
      "metadata": {
        "id": "bsYf_0AphV5G"
      }
    },
    {
      "cell_type": "code",
      "source": [
        "#Write a Python program to find words which are greater than given length k?\n",
        "list1=[\"python\",\"program\",\"to\",\"find\",\"words\"]\n",
        "k=int(input())\n",
        "for i in list1:\n",
        "  if len(i)>k:\n",
        "    print(i)"
      ],
      "metadata": {
        "colab": {
          "base_uri": "https://localhost:8080/"
        },
        "id": "w1K9H8k-hXIu",
        "outputId": "64c4f781-10d1-4f26-ff15-467787cf113c"
      },
      "execution_count": null,
      "outputs": [
        {
          "output_type": "stream",
          "name": "stdout",
          "text": [
            "3\n",
            "python\n",
            "program\n",
            "find\n",
            "words\n"
          ]
        }
      ]
    },
    {
      "cell_type": "code",
      "source": [
        "#Write a Python program for removing i-th character from a string?\n",
        "string=\"python\"\n",
        "i=int(input())\n",
        "stringlist=list(string)\n",
        "print(stringlist)\n",
        "stringlist.pop(i)\n",
        "string=''.join(stringlist)\n",
        "print(string)\n",
        "#string1=str(stringlist)\n",
        "#print(string1)"
      ],
      "metadata": {
        "colab": {
          "base_uri": "https://localhost:8080/"
        },
        "id": "LoA8_AYkhx1n",
        "outputId": "88df8126-f60e-43ec-89d3-64b40eaef4cf"
      },
      "execution_count": null,
      "outputs": [
        {
          "output_type": "stream",
          "name": "stdout",
          "text": [
            "2\n",
            "['p', 'y', 't', 'h', 'o', 'n']\n",
            "pyhon\n"
          ]
        }
      ]
    },
    {
      "cell_type": "code",
      "source": [
        "#Write a Python program to split and join a string?\n",
        "string=\"I am python\"\n",
        "mystring=string.split()\n",
        "mystring2=' '.join(mystring)\n",
        "print(mystring)\n",
        "print(mystring2)"
      ],
      "metadata": {
        "colab": {
          "base_uri": "https://localhost:8080/"
        },
        "id": "pffNAyt7jhaN",
        "outputId": "21e35c3d-5b7e-46a2-c525-85a897b44df2"
      },
      "execution_count": null,
      "outputs": [
        {
          "output_type": "stream",
          "name": "stdout",
          "text": [
            "['I', 'am', 'python']\n",
            "I am python\n"
          ]
        }
      ]
    },
    {
      "cell_type": "code",
      "source": [
        "#Write a Python to check if a given string is binary string or not?\n",
        "string=input(\"Enter a string: \")\n",
        "for i in range(0,len(string)):\n",
        "  if string[i]==\"0\" or string[i]==\"1\":\n",
        "    result=\"true\"\n",
        "    continue\n",
        "  else:\n",
        "    result=\"false\"\n",
        "    break\n",
        "if result==\"true\":\n",
        "  print(\"You entered a binary string\")\n",
        "else:\n",
        "  print(\"You entered a non binary string\")"
      ],
      "metadata": {
        "colab": {
          "base_uri": "https://localhost:8080/"
        },
        "id": "prbsfSbdkMqI",
        "outputId": "f727367f-c9a1-482c-982b-90b807e40793"
      },
      "execution_count": null,
      "outputs": [
        {
          "output_type": "stream",
          "name": "stdout",
          "text": [
            "Enter a string: 456\n",
            "You entered a nonbinary string\n"
          ]
        }
      ]
    },
    {
      "cell_type": "code",
      "source": [
        "#Write a Python program to find uncommon words from two Strings?\n",
        "string1=\"I am python\"\n",
        "string2=\"I am me\"\n",
        "list1=string1.split()\n",
        "print(list1)\n",
        "list2=string2.split()\n",
        "print(list2)\n",
        "list1.extend(list2)\n",
        "print(list1)\n",
        "counted=0\n",
        "for i in range(0,len(list1)):\n",
        "  counted=list1.count(list1[i])\n",
        "  if counted<2:\n",
        "    print(f\"uncommon word: {list1[i]}\")"
      ],
      "metadata": {
        "colab": {
          "base_uri": "https://localhost:8080/"
        },
        "id": "C7zs2M8ukzNv",
        "outputId": "b2c56a3e-aaeb-4e3c-e862-8bdb87fa4f17"
      },
      "execution_count": 18,
      "outputs": [
        {
          "output_type": "stream",
          "name": "stdout",
          "text": [
            "['I', 'am', 'python']\n",
            "['I', 'am', 'me']\n",
            "['I', 'am', 'python', 'I', 'am', 'me']\n",
            "uncommon word: python\n",
            "uncommon word: me\n"
          ]
        }
      ]
    },
    {
      "cell_type": "code",
      "source": [
        "#Write a Python to find all duplicate characters in string?\n",
        "string=input(\"Enter a string: \")\n",
        "list1=list(string)\n",
        "print(list1)\n",
        "count=0\n",
        "dup=[]\n",
        "for i in list1:\n",
        "  count=list1.count(i)\n",
        "  if count>1:\n",
        "    dup.append(i)\n",
        "    for j in dup:\n",
        "      if dup.count(j)>1:\n",
        "        dup.remove(j)\n",
        "    #print(f\"duplicate character {i}\")\n",
        "print(f\"duplicate characters are: {dup}\")"
      ],
      "metadata": {
        "colab": {
          "base_uri": "https://localhost:8080/"
        },
        "id": "kYKpdCrOn7Db",
        "outputId": "71acd890-b744-4863-9bb5-4ea5d0ed1e36"
      },
      "execution_count": 38,
      "outputs": [
        {
          "output_type": "stream",
          "name": "stdout",
          "text": [
            "Enter a string: Hello world!\n",
            "['H', 'e', 'l', 'l', 'o', ' ', 'w', 'o', 'r', 'l', 'd', '!']\n",
            "duplicate characters are: ['o', 'l']\n"
          ]
        }
      ]
    },
    {
      "cell_type": "code",
      "source": [
        "#Write a Python Program to check if a string contains any special character?\n",
        "special_char=[\" \",\"~\",\"!\",\"@\",\"#\",\"$\",\"%\",\"^\",\"&\",\"*\",\"(\",\")\",\"'\",\"+\",\",\",\"-\",\".\",\"/\",\":\",\";\",\"<\",\">\",\"?\",\"[\",\"]\",\"\\\\\",\"\\\"\",\"_\",\"`\",\"{\",\"}\",\"|\"]\n",
        "string=input(\"Enter a string: \")\n",
        "list1=list(string)\n",
        "#print(list1)\n",
        "for i in list1:\n",
        "  for j in special_char:\n",
        "    if i==j:\n",
        "      print(f\"Your string contains a special character {i}\")"
      ],
      "metadata": {
        "colab": {
          "base_uri": "https://localhost:8080/"
        },
        "id": "6jOm3f6svRSH",
        "outputId": "5eda4fe7-bf52-4049-f7ea-a5fad2b6ced5"
      },
      "execution_count": 41,
      "outputs": [
        {
          "output_type": "stream",
          "name": "stdout",
          "text": [
            "Enter a string: jas@kirat)kaur\n",
            "Your string contains a special character @\n",
            "Your string contains a special character )\n"
          ]
        }
      ]
    }
  ]
}