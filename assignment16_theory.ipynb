{
 "cells": [
  {
   "cell_type": "code",
   "execution_count": 2,
   "id": "cfdf01bc-efc9-4836-9838-c759d1167138",
   "metadata": {},
   "outputs": [],
   "source": [
    "'''\n",
    "Create a list called years_list, starting with the year of your birth, and each year thereafter until\n",
    "the year of your fifth birthday. For example, if you were born in 1980. the list would be years_list =\n",
    "[1980, 1981, 1982, 1983, 1984, 1985].\n",
    "'''\n",
    "years_list=[2002,2003,2004,2005,2006,2007]"
   ]
  },
  {
   "cell_type": "code",
   "execution_count": 3,
   "id": "67f2113f-743a-4dbc-ae78-689b8b149dee",
   "metadata": {},
   "outputs": [
    {
     "data": {
      "text/plain": [
       "2005"
      ]
     },
     "execution_count": 3,
     "metadata": {},
     "output_type": "execute_result"
    }
   ],
   "source": [
    "'''\n",
    "In which year in years_list was your third birthday? Remember, you were 0 years of age for your\n",
    "first year.\n",
    "'''\n",
    "years_list[3]"
   ]
  },
  {
   "cell_type": "code",
   "execution_count": 4,
   "id": "69092bd8-ac4c-46ea-b775-06e6962f16b9",
   "metadata": {},
   "outputs": [
    {
     "data": {
      "text/plain": [
       "2007"
      ]
     },
     "execution_count": 4,
     "metadata": {},
     "output_type": "execute_result"
    }
   ],
   "source": [
    "'''\n",
    "3.In the years list, which year were you the oldest?\n",
    "'''\n",
    "years_list[-1]"
   ]
  },
  {
   "cell_type": "code",
   "execution_count": 5,
   "id": "91f0f1f8-3017-4a00-a296-662236e63659",
   "metadata": {},
   "outputs": [],
   "source": [
    "'''\n",
    "Make a list called things with these three strings as elements: &quot;mozzarella&quot;, &quot;cinderella&quot;,\n",
    "&quot;salmonella&quot;.\n",
    "'''\n",
    "things=[\"mozzarella\", \"cinderella\", \"salmonella\"]"
   ]
  },
  {
   "cell_type": "code",
   "execution_count": 9,
   "id": "1bc26b32-571c-405b-994f-82a03b193e9e",
   "metadata": {},
   "outputs": [
    {
     "name": "stdout",
     "output_type": "stream",
     "text": [
      "['mozzarella', 'cinderella', 'salmonella']\n"
     ]
    }
   ],
   "source": [
    "'''\n",
    "Capitalize the element in things that refers to a person and then print the list. Did it change the\n",
    "element in the list?\n",
    "'''\n",
    "things[1].capitalize()\n",
    "print(things) #No, it didn't change the list."
   ]
  },
  {
   "cell_type": "code",
   "execution_count": 10,
   "id": "b44965fb-86de-493b-9d18-13ff525a2a78",
   "metadata": {},
   "outputs": [],
   "source": [
    "'''\n",
    "Make a surprise list with the elements &quot;Groucho,&quot; &quot;Chico,&quot; and &quot;Harpo.&quot;\n",
    "'''\n",
    "surprise=[\"Groucho\",\"Chico\",\"Harpo\"]"
   ]
  },
  {
   "cell_type": "code",
   "execution_count": 18,
   "id": "95d6fabe-311b-4e17-bc95-d878c3d05337",
   "metadata": {},
   "outputs": [
    {
     "name": "stdout",
     "output_type": "stream",
     "text": [
      "Oprah\n"
     ]
    }
   ],
   "source": [
    "'''\n",
    "Lowercase the last element of the surprise list, reverse it, and then capitalize it.\n",
    "'''\n",
    "last=surprise[-1].lower()\n",
    "last=last[::-1]\n",
    "last=last.capitalize()\n",
    "print(last)"
   ]
  },
  {
   "cell_type": "code",
   "execution_count": 19,
   "id": "31c56ed0-9a12-4d3d-9359-10d329ccc466",
   "metadata": {},
   "outputs": [
    {
     "name": "stdout",
     "output_type": "stream",
     "text": [
      "{'dog': 'chien', 'cat': 'chat', 'walrus': 'morse'}\n"
     ]
    }
   ],
   "source": [
    "'''\n",
    "Make an English-to-French dictionary called e2f and print it. Here are your starter words: dog is\n",
    "chien, cat is chat, and walrus is morse.\n",
    "'''\n",
    "e2f={'dog':'chien','cat':'chat','walrus':'morse'}\n",
    "print(e2f)"
   ]
  },
  {
   "cell_type": "code",
   "execution_count": 20,
   "id": "c49fd880-ccad-466f-a9f0-ca1a34ace42c",
   "metadata": {},
   "outputs": [
    {
     "data": {
      "text/plain": [
       "'morse'"
      ]
     },
     "execution_count": 20,
     "metadata": {},
     "output_type": "execute_result"
    }
   ],
   "source": [
    "'''\n",
    "Write the French word for walrus in your three-word dictionary e2f.\n",
    "'''\n",
    "e2f['walrus']"
   ]
  },
  {
   "cell_type": "code",
   "execution_count": 22,
   "id": "d94c8931-a07b-4b40-8acb-79f9f98876b5",
   "metadata": {},
   "outputs": [
    {
     "name": "stdout",
     "output_type": "stream",
     "text": [
      "{'chien': 'dog', 'chat': 'cat', 'morse': 'walrus'}\n"
     ]
    }
   ],
   "source": [
    "'''\n",
    "Make a French-to-English dictionary called f2e from e2f. Use the items method.\n",
    "'''\n",
    "f2e={}\n",
    "for key,value in e2f.items():\n",
    "    f2e[value]=key\n",
    "print(f2e)"
   ]
  },
  {
   "cell_type": "code",
   "execution_count": 23,
   "id": "9bff38fb-93a4-4b8d-ba43-bf9eb5e7ef42",
   "metadata": {},
   "outputs": [
    {
     "data": {
      "text/plain": [
       "'dog'"
      ]
     },
     "execution_count": 23,
     "metadata": {},
     "output_type": "execute_result"
    }
   ],
   "source": [
    "'''\n",
    "Print the English version of the French word chien using f2e.\n",
    "'''\n",
    "f2e['chien']"
   ]
  },
  {
   "cell_type": "code",
   "execution_count": 25,
   "id": "b4d5a080-d929-44c6-9f55-b89676abde2e",
   "metadata": {},
   "outputs": [
    {
     "name": "stdout",
     "output_type": "stream",
     "text": [
      "{'dog', 'cat', 'walrus'}\n"
     ]
    }
   ],
   "source": [
    "'''\n",
    "Make and print a set of English words from the keys in e2f.\n",
    "'''\n",
    "set1=set()\n",
    "for keys in e2f.keys():\n",
    "    set1.add(keys)\n",
    "print(set1)"
   ]
  },
  {
   "cell_type": "code",
   "execution_count": 27,
   "id": "4197e496-40c5-4c09-81b9-f23d10c97107",
   "metadata": {},
   "outputs": [
    {
     "name": "stdout",
     "output_type": "stream",
     "text": [
      "{'animals': {'cats': ['Henri', 'Grumpy', 'Lucy'], 'octopi': {}, 'emu': {}}, 'plants': {}, 'other': {}}\n"
     ]
    }
   ],
   "source": [
    "'''\n",
    "Make a multilevel dictionary called life. Use these strings for the topmost keys: &#39;animals&#39;, &#39;plants&#39;,\n",
    "and &#39;other&#39;. Make the &#39;animals&#39; key refer to another dictionary with the keys &#39;cats&#39;, &#39;octopi&#39;, and\n",
    "&#39;emus&#39;. Make the &#39;cats&#39; key refer to a list of strings with the values &#39;Henri&#39;, &#39;Grumpy&#39;, and &#39;Lucy&#39;.\n",
    "Make all the other keys refer to empty dictionaries.\n",
    "'''\n",
    "life={'animals':{'cats':['Henri','Grumpy','Lucy'],'octopi':{},'emu':{}}, \n",
    "     'plants':{}, 'other':{}}\n",
    "print(life)"
   ]
  },
  {
   "cell_type": "code",
   "execution_count": 28,
   "id": "3ea59a34-e10b-4f11-8551-0fdb0eed17f8",
   "metadata": {},
   "outputs": [
    {
     "name": "stdout",
     "output_type": "stream",
     "text": [
      "dict_keys(['animals', 'plants', 'other'])\n"
     ]
    }
   ],
   "source": [
    "'''\n",
    "Print the top-level keys of life.\n",
    "'''\n",
    "print(life.keys())"
   ]
  },
  {
   "cell_type": "code",
   "execution_count": 31,
   "id": "4154b823-1e0c-4135-b5f7-61fbc939bdf4",
   "metadata": {},
   "outputs": [
    {
     "name": "stdout",
     "output_type": "stream",
     "text": [
      "dict_keys(['cats', 'octopi', 'emu'])\n"
     ]
    }
   ],
   "source": [
    "'''\n",
    "Print the keys for life[&#39;animals&#39;].\n",
    "'''\n",
    "print(life['animals'].keys())"
   ]
  },
  {
   "cell_type": "code",
   "execution_count": 33,
   "id": "e0c5b0ff-7ee4-468f-81c2-55dffda437c1",
   "metadata": {},
   "outputs": [
    {
     "name": "stdout",
     "output_type": "stream",
     "text": [
      "['Henri', 'Grumpy', 'Lucy']\n"
     ]
    }
   ],
   "source": [
    "'''\n",
    "Print the values for life[&#39;animals&#39;][&#39;cats&#39;]\n",
    "'''\n",
    "print(life['animals']['cats'])"
   ]
  },
  {
   "cell_type": "code",
   "execution_count": null,
   "id": "618abe97-fc9d-4250-a1f1-9d87f16dbc54",
   "metadata": {},
   "outputs": [],
   "source": []
  }
 ],
 "metadata": {
  "kernelspec": {
   "display_name": "Python 3 (ipykernel)",
   "language": "python",
   "name": "python3"
  },
  "language_info": {
   "codemirror_mode": {
    "name": "ipython",
    "version": 3
   },
   "file_extension": ".py",
   "mimetype": "text/x-python",
   "name": "python",
   "nbconvert_exporter": "python",
   "pygments_lexer": "ipython3",
   "version": "3.10.6"
  }
 },
 "nbformat": 4,
 "nbformat_minor": 5
}
