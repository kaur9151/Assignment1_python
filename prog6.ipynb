{
  "nbformat": 4,
  "nbformat_minor": 0,
  "metadata": {
    "colab": {
      "provenance": [],
      "collapsed_sections": [],
      "authorship_tag": "ABX9TyPbGKUB0Djiw29+3ajnlb/O",
      "include_colab_link": true
    },
    "kernelspec": {
      "name": "python3",
      "display_name": "Python 3"
    },
    "language_info": {
      "name": "python"
    }
  },
  "cells": [
    {
      "cell_type": "markdown",
      "metadata": {
        "id": "view-in-github",
        "colab_type": "text"
      },
      "source": [
        "<a href=\"https://colab.research.google.com/github/kaur9151/Assignment1_python/blob/main/prog6.ipynb\" target=\"_parent\"><img src=\"https://colab.research.google.com/assets/colab-badge.svg\" alt=\"Open In Colab\"/></a>"
      ]
    },
    {
      "cell_type": "markdown",
      "source": [
        "1. Write a Python Program to Display Fibonacci Sequence Using Recursion?\n",
        "2. Write a Python Program to Find Factorial of Number Using Recursion?\n",
        "3. Write a Python Program to calculate your Body Mass Index?\n",
        "4. Write a Python Program to calculate the natural logarithm of any number?\n",
        "5. Write a Python Program for cube sum of first n natural numbers?"
      ],
      "metadata": {
        "id": "tGAmjO9f7Dsa"
      }
    },
    {
      "cell_type": "code",
      "source": [
        "def fibonacci_of(n):\n",
        "  if n in {0, 1}:  \n",
        "    return n\n",
        "  return fibonacci_of(n - 1) + fibonacci_of(n - 2)\n",
        "n=int(input(\"Enter number: \"))\n",
        "ans=fibonacci_of(n)\n",
        "for i in range(0,n):\n",
        "  print(fibonacci_of(i))"
      ],
      "metadata": {
        "id": "FYVyQ_L67E1B"
      },
      "execution_count": null,
      "outputs": []
    },
    {
      "cell_type": "code",
      "source": [
        "def fact(n):\n",
        "  if n==1:\n",
        "    return 1\n",
        "  else:\n",
        "    return n*fact(n-1)\n",
        "n=int(input(\"Enter the number: \"))\n",
        "print(fact(n))"
      ],
      "metadata": {
        "colab": {
          "base_uri": "https://localhost:8080/"
        },
        "id": "TjdLpvoP7Ncy",
        "outputId": "40e01e9c-c5f2-4e5e-c6be-feb1f65fd35d"
      },
      "execution_count": null,
      "outputs": [
        {
          "output_type": "stream",
          "name": "stdout",
          "text": [
            "Enter the number: 5\n",
            "120\n"
          ]
        }
      ]
    },
    {
      "cell_type": "code",
      "source": [
        "weight=float(input(\"Enter your body weight: \"))\n",
        "height=float(input(\"Enter your height in meters: \"))\n",
        "bmi=weight/height**2\n",
        "print(f\"BMI is:{bmi}\")"
      ],
      "metadata": {
        "colab": {
          "base_uri": "https://localhost:8080/"
        },
        "id": "l5bN5mW18Mng",
        "outputId": "c18796b2-b51b-4b08-b11f-32d38c1d167b"
      },
      "execution_count": null,
      "outputs": [
        {
          "output_type": "stream",
          "name": "stdout",
          "text": [
            "Enter your body weight: 60\n",
            "Enter your height in meters: 2\n",
            "BMI is:15.0\n"
          ]
        }
      ]
    },
    {
      "cell_type": "code",
      "source": [
        "import math\n",
        "n=float(input(\"Enter any number: \"))\n",
        "print(f\"Natural log of {n} is: {math.log(n)}\")"
      ],
      "metadata": {
        "id": "kWlEkOus80qr",
        "colab": {
          "base_uri": "https://localhost:8080/"
        },
        "outputId": "e5235046-989f-4c9d-ffc7-d7ec8168b7c7"
      },
      "execution_count": 2,
      "outputs": [
        {
          "output_type": "stream",
          "name": "stdout",
          "text": [
            "Enter any number: 10\n",
            "Natural log of 10.0 is: 2.302585092994046\n"
          ]
        }
      ]
    },
    {
      "cell_type": "code",
      "source": [
        "num=int(input(\"Enter n: \"))\n",
        "sum=0\n",
        "for i in range(1,num+1):\n",
        "  cube=i**3\n",
        "  sum=sum+cube\n",
        "print(f\"Cube sum of first {num} natural numbers: {sum}\")"
      ],
      "metadata": {
        "colab": {
          "base_uri": "https://localhost:8080/"
        },
        "id": "iS8gfpvebzsx",
        "outputId": "a1cc55aa-64a2-467a-f633-31e2dd93bd93"
      },
      "execution_count": 7,
      "outputs": [
        {
          "output_type": "stream",
          "name": "stdout",
          "text": [
            "Enter n: 78\n",
            "Cube sum of first 78 natural numbers: 9492561\n"
          ]
        }
      ]
    }
  ]
}