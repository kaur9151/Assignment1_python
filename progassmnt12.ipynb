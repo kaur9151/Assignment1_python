{
  "nbformat": 4,
  "nbformat_minor": 0,
  "metadata": {
    "colab": {
      "provenance": [],
      "collapsed_sections": [],
      "authorship_tag": "ABX9TyMoQQg3K+MoSufZJSXznREp",
      "include_colab_link": true
    },
    "kernelspec": {
      "name": "python3",
      "display_name": "Python 3"
    },
    "language_info": {
      "name": "python"
    }
  },
  "cells": [
    {
      "cell_type": "markdown",
      "metadata": {
        "id": "view-in-github",
        "colab_type": "text"
      },
      "source": [
        "<a href=\"https://colab.research.google.com/github/kaur9151/Assignment1_python/blob/main/progassmnt12.ipynb\" target=\"_parent\"><img src=\"https://colab.research.google.com/assets/colab-badge.svg\" alt=\"Open In Colab\"/></a>"
      ]
    },
    {
      "cell_type": "markdown",
      "source": [
        "1. Write a Python program to Extract Unique values dictionary values?\n",
        "2. Write a Python program to find the sum of all items in a dictionary?\n",
        "3. Write a Python program to Merging two Dictionaries?\n",
        "4. Write a Python program to convert key-values list to flat dictionary?\n",
        "5. Write a Python program to insertion at the beginning in OrderedDict?\n",
        "6. Write a Python program to check order of character in string using OrderedDict()?\n",
        "7. Write a Python program to sort Python Dictionaries by Key or Value?"
      ],
      "metadata": {
        "id": "b1j-Repcz8TL"
      }
    },
    {
      "cell_type": "code",
      "source": [
        "#Write a Python program to Extract Unique values dictionary values?\n",
        "dict_1={\n",
        "    \"brand\":\"Audi\",\n",
        "    \"color\": \"Black\",\n",
        "    \"color2\":\"Black\",\n",
        "    \"Model\":\"A8\",\n",
        "    \"Year\": 2022\n",
        "    #\"Year\":2020\n",
        "}\n",
        "dict1_values= dict_1.values()\n",
        "print(dict1_values)\n",
        "se=set(dict1_values)\n",
        "print(se)"
      ],
      "metadata": {
        "colab": {
          "base_uri": "https://localhost:8080/"
        },
        "id": "oER5eZym02LG",
        "outputId": "3b9171f1-a1b6-4114-e1a2-7d4b1372a2ba"
      },
      "execution_count": null,
      "outputs": [
        {
          "output_type": "stream",
          "name": "stdout",
          "text": [
            "dict_values(['Audi', 'Black', 'Black', 'A8', 2022])\n",
            "{'Black', 'Audi', 2022, 'A8'}\n"
          ]
        }
      ]
    },
    {
      "cell_type": "code",
      "source": [
        "#Write a Python program to find the sum of all items in a dictionary?\n",
        "dict_2={\n",
        "    \"mark1\":89,\n",
        "    \"mark2\":78,\n",
        "    \"mark3\":67,\n",
        "    \"mark4\":87,\n",
        "    \"mark5\":45\n",
        "    }\n",
        "values=sum(dict_2.values())\n",
        "print(values)"
      ],
      "metadata": {
        "colab": {
          "base_uri": "https://localhost:8080/"
        },
        "id": "UBnaaTKI1r-X",
        "outputId": "e288d58c-818d-4287-e924-0a1afe805295"
      },
      "execution_count": null,
      "outputs": [
        {
          "output_type": "stream",
          "name": "stdout",
          "text": [
            "366\n"
          ]
        }
      ]
    },
    {
      "cell_type": "code",
      "source": [
        "#Write a Python program to Merging two Dictionaries?\n",
        "dict_1.update(dict_2)\n",
        "print(dict_1)"
      ],
      "metadata": {
        "colab": {
          "base_uri": "https://localhost:8080/"
        },
        "id": "TjcqdyPO3BEA",
        "outputId": "85aa9e82-b302-454d-c948-289915f4f3e1"
      },
      "execution_count": null,
      "outputs": [
        {
          "output_type": "stream",
          "name": "stdout",
          "text": [
            "{'brand': 'Audi', 'color': 'Black', 'color2': 'Black', 'Model': 'A8', 'Year': 2022, 'mark1': 89, 'mark2': 78, 'mark3': 67, 'mark4': 87, 'mark5': 45}\n"
          ]
        }
      ]
    },
    {
      "cell_type": "code",
      "source": [
        "#Write a Python program to convert key-values list to flat dictionary?\n",
        "import pandas as pan\n",
        "testData = {\n",
        "        'a':1,\n",
        "        'b':2,\n",
        "        'c':{\n",
        "            'aa':11,\n",
        "            'bb':22,\n",
        "            'cc':{\n",
        "                'aaa':111\n",
        "            }\n",
        "        }\n",
        "    }\n",
        "flat=pan.json_normalize(testData, sep='.')\n",
        "print(flat.to_dict(orient='records')[0])\n"
      ],
      "metadata": {
        "colab": {
          "base_uri": "https://localhost:8080/"
        },
        "id": "fhEQE-uf4tnL",
        "outputId": "99bad5b9-5e9b-43b4-9ba5-fa4c08e6673a"
      },
      "execution_count": null,
      "outputs": [
        {
          "output_type": "stream",
          "name": "stdout",
          "text": [
            "{'a': 1, 'b': 2, 'c.aa': 11, 'c.bb': 22, 'c.cc.aaa': 111}\n"
          ]
        }
      ]
    },
    {
      "cell_type": "code",
      "source": [
        "#Write a Python program to insertion at the beginning in OrderedDict?\n",
        "from collections import OrderedDict\n",
        "dict_4={\n",
        "    \"jas\": 100,\n",
        "    \"kirat\": 200,\n",
        "    \"kaur\": 300\n",
        "}\n",
        "dict_5=OrderedDict(dict_4)\n",
        "print(dict_5)\n",
        "dict_5.update({\"Aarin\":500})\n",
        "dict_5.move_to_end(\"Aarin\", last=False)\n",
        "print(dict_5)"
      ],
      "metadata": {
        "colab": {
          "base_uri": "https://localhost:8080/"
        },
        "id": "YjmeFG9J7WkD",
        "outputId": "db256c7f-afb2-4eb3-c623-8526c7e2e85c"
      },
      "execution_count": null,
      "outputs": [
        {
          "output_type": "stream",
          "name": "stdout",
          "text": [
            "OrderedDict([('jas', 100), ('kirat', 200), ('kaur', 300)])\n",
            "OrderedDict([('Aarin', 500), ('jas', 100), ('kirat', 200), ('kaur', 300)])\n"
          ]
        }
      ]
    },
    {
      "cell_type": "code",
      "source": [
        "#Write a Python program to check order of character in string using OrderedDict()?\n",
        "from collections import OrderedDict\n",
        "string=input(\"Enter your string: \")\n",
        "character=input(\"Enter the characters you want to check: \")\n",
        "dict_6=OrderedDict.fromkeys(string)\n",
        "#print(dict_6)\n",
        "i=0\n",
        "for key,value in dict_6.items():\n",
        "  if key==character[i]:\n",
        "    #print(character[i])\n",
        "    i=i+1\n",
        "    #print(\"Yes\")\n",
        "  if i==len(character):\n",
        "    #print(\"orderd\")\n",
        "    result=\"orderd\"\n",
        "    break\n",
        "  else:\n",
        "   # print(\"not ordered\")\n",
        "   result=\"Not ordered\"\n",
        "print(result)\n"
      ],
      "metadata": {
        "id": "aMFpx3Ue-k7l",
        "colab": {
          "base_uri": "https://localhost:8080/"
        },
        "outputId": "9ac8c71f-7dfa-42e9-93a7-57b03521f4a0"
      },
      "execution_count": 21,
      "outputs": [
        {
          "output_type": "stream",
          "name": "stdout",
          "text": [
            "Enter your string: my name\n",
            "Enter the characters you want to check: na\n",
            "orderd\n"
          ]
        }
      ]
    },
    {
      "cell_type": "code",
      "source": [
        "#Write a Python program to sort Python Dictionaries by Key or Value?\n",
        "dict_7={\n",
        "    \"a\":\"jas\",\n",
        "    \"b\":\"kirat\",\n",
        "    \"d\":\"kaur\",\n",
        "    \"c\":\"ash\",\n",
        "    \"e\":\"preet\"\n",
        "}\n",
        "print(f\"Sorting by key: {sorted(dict_7.items())}\")\n",
        "print(f\"Sorting by value: {sorted(dict_7.items(), key=lambda item:item[1])}\")"
      ],
      "metadata": {
        "colab": {
          "base_uri": "https://localhost:8080/"
        },
        "id": "gOJ2zhu3KnNu",
        "outputId": "130a953c-c2db-4da6-bbf0-9a44421e2ded"
      },
      "execution_count": 24,
      "outputs": [
        {
          "output_type": "stream",
          "name": "stdout",
          "text": [
            "Sorting by key: [('a', 'jas'), ('b', 'kirat'), ('c', 'ash'), ('d', 'kaur'), ('e', 'preet')]\n",
            "Sorting by value: [('c', 'ash'), ('a', 'jas'), ('d', 'kaur'), ('b', 'kirat'), ('e', 'preet')]\n"
          ]
        }
      ]
    },
    {
      "cell_type": "code",
      "source": [],
      "metadata": {
        "id": "c9GaI4JGUA56"
      },
      "execution_count": null,
      "outputs": []
    }
  ]
}