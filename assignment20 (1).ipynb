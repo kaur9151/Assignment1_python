{
 "cells": [
  {
   "cell_type": "code",
   "execution_count": 3,
   "id": "8fbd3a97-fac7-42eb-a854-80a5edf9276d",
   "metadata": {},
   "outputs": [
    {
     "name": "stdout",
     "output_type": "stream",
     "text": [
      "[1, 2, 3, 4]\n",
      "[0, 1729]\n",
      "[]\n"
     ]
    }
   ],
   "source": [
    "'''\n",
    "Create a function that takes a list of strings and integers, and filters out the list so that it\n",
    "returns a list of integers only.\n",
    "Examples\n",
    "filter_list([1, 2, 3, \"a\", \"b\", 4]) ➞ [1, 2, 3, 4]\n",
    "filter_list([\"A\", 0, \"Edabit\", 1729, \"Python\", \"1729\"]) ➞ [0, 1729]\n",
    "filter_list([\"Nothing\", \"here\"]) ➞ []\n",
    "'''\n",
    "def filter_list(list1):\n",
    "    list2=[]\n",
    "    for i in list1:\n",
    "        if type(i)==int:\n",
    "            list2.append(i)\n",
    "    return list2\n",
    "print(filter_list([1,2,3,\"a\",\"b\",4]))\n",
    "print(filter_list([\"A\", 0, \"Edabit\", 1729, \"Python\", \"1729\"]))\n",
    "print(filter_list([\"Nothing\", \"here\"]))"
   ]
  },
  {
   "cell_type": "code",
   "execution_count": 6,
   "id": "5cfa2baa-ec1a-4a2f-aff0-1bc4ca8eb3d8",
   "metadata": {},
   "outputs": [
    {
     "name": "stdout",
     "output_type": "stream",
     "text": [
      "[0, 1, 2, 3, 4]\n",
      "[1, 3, 5, 7, 9]\n",
      "[5, 5, 5, 5, 5]\n"
     ]
    }
   ],
   "source": [
    "'''\n",
    "Given a list of numbers, create a function which returns the list but with each element&#39;s\n",
    "index in the list added to itself. This means you add 0 to the number at index 0, add 1 to the\n",
    "number at index 1, etc...\n",
    "Examples\n",
    "add_indexes([0, 0, 0, 0, 0]) ➞ [0, 1, 2, 3, 4]\n",
    "add_indexes([1, 2, 3, 4, 5]) ➞ [1, 3, 5, 7, 9]\n",
    "add_indexes([5, 4, 3, 2, 1]) ➞ [5, 5, 5, 5, 5]\n",
    "'''\n",
    "def add_indexes(list1):\n",
    "    list2=[]\n",
    "    for i in range(0,len(list1)):\n",
    "        sum=0\n",
    "        sum=i+list1[i]\n",
    "        list2.append(sum)\n",
    "    return list2\n",
    "print(add_indexes([0,0,0,0,0]))\n",
    "print(add_indexes([1, 2, 3, 4, 5]))\n",
    "print(add_indexes([5, 4, 3, 2, 1]))"
   ]
  },
  {
   "cell_type": "code",
   "execution_count": 10,
   "id": "1ed9ab46-f8ff-4797-95bc-b22a55caee9d",
   "metadata": {},
   "outputs": [
    {
     "name": "stdout",
     "output_type": "stream",
     "text": [
      "12.57\n",
      "565.71\n",
      "0.0\n"
     ]
    }
   ],
   "source": [
    "'''\n",
    "Create a function that takes the height and radius of a cone as arguments and returns the\n",
    "volume of the cone rounded to the nearest hundredth. See the resources tab for the formula.\n",
    "\n",
    "Examples\n",
    "cone_volume(3, 2) ➞ 12.57\n",
    "\n",
    "cone_volume(15, 6) ➞ 565.49\n",
    "cone_volume(18, 0) ➞ 0\n",
    "'''\n",
    "#vol=(pi*r**2*h)/3\n",
    "def cone_volume(h,r):\n",
    "    vol=((22/7)*(r**2)*h)/3\n",
    "    vol=round(vol,2)\n",
    "    return vol\n",
    "print(cone_volume(3,2))\n",
    "print(cone_volume(15, 6))\n",
    "print(cone_volume(18, 0))"
   ]
  },
  {
   "cell_type": "code",
   "execution_count": 16,
   "id": "5797588b-acf3-4806-8c04-072906b972fc",
   "metadata": {},
   "outputs": [
    {
     "name": "stdout",
     "output_type": "stream",
     "text": [
      "1\n",
      "21\n",
      "23220\n"
     ]
    }
   ],
   "source": [
    "'''\n",
    "This Triangular Number Sequence is generated from a pattern of dots that form a triangle.\n",
    "The first 5 numbers of the sequence, or dots, are:\n",
    "1, 3, 6, 10, 15\n",
    "This means that the first triangle has just one dot, the second one has three dots, the third one\n",
    "has 6 dots and so on.\n",
    "Write a function that gives the number of dots with its corresponding triangle number of the\n",
    "sequence.\n",
    "Examples\n",
    "triangle(1) ➞ 1\n",
    "triangle(6) ➞ 21\n",
    "triangle(215) ➞ 23220\n",
    "'''\n",
    "def triangle(n):\n",
    "    no=(n*(n+1))/2\n",
    "    return int(no)\n",
    "print(triangle(1))\n",
    "print(triangle(6))\n",
    "print(triangle(215))"
   ]
  },
  {
   "cell_type": "code",
   "execution_count": 33,
   "id": "3ff5f942-b071-4a80-9736-6c294aa192fd",
   "metadata": {},
   "outputs": [
    {
     "name": "stdout",
     "output_type": "stream",
     "text": [
      "[1, 2, 3, 4, 6, 7, 8, 9, 10]\n",
      "5\n",
      "[1, 2, 3, 4, 5, 6, 7, 8, 9]\n",
      "10\n",
      "[1, 2, 3, 4, 5, 6, 8, 9, 10]\n",
      "7\n"
     ]
    }
   ],
   "source": [
    "'''\n",
    "Create a function that takes a list of numbers between 1 and 10 (excluding one number) and\n",
    "returns the missing number.\n",
    "Examples\n",
    "missing_num([1, 2, 3, 4, 6, 7, 8, 9, 10]) ➞ 5\n",
    "missing_num([7, 2, 3, 6, 5, 9, 1, 4, 8]) ➞ 10\n",
    "missing_num([10, 5, 1, 2, 4, 6, 8, 3, 9]) ➞ 7\n",
    "'''\n",
    "def missing_num(list1):\n",
    "    list1.sort()\n",
    "    print(list1)\n",
    "    count=1\n",
    "    for i in range(0,len(list1)):\n",
    "        if count!=list1[i]:\n",
    "            return count\n",
    "        count+=1\n",
    "    return 10\n",
    "print(missing_num([1, 2, 3, 4, 6, 7, 8, 9, 10]))\n",
    "print(missing_num([7, 2, 3, 6, 5, 9, 1, 4, 8]))\n",
    "print(missing_num([10, 5, 1, 2, 4, 6, 8, 3, 9]))"
   ]
  },
  {
   "cell_type": "code",
   "execution_count": null,
   "id": "9943ec9c-c543-4daa-915f-ee29db24efc6",
   "metadata": {},
   "outputs": [],
   "source": []
  }
 ],
 "metadata": {
  "kernelspec": {
   "display_name": "Python 3 (ipykernel)",
   "language": "python",
   "name": "python3"
  },
  "language_info": {
   "codemirror_mode": {
    "name": "ipython",
    "version": 3
   },
   "file_extension": ".py",
   "mimetype": "text/x-python",
   "name": "python",
   "nbconvert_exporter": "python",
   "pygments_lexer": "ipython3",
   "version": "3.10.6"
  }
 },
 "nbformat": 4,
 "nbformat_minor": 5
}
