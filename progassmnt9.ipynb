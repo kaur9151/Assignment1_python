{
  "nbformat": 4,
  "nbformat_minor": 0,
  "metadata": {
    "colab": {
      "provenance": [],
      "collapsed_sections": [],
      "authorship_tag": "ABX9TyNj614AsCy2az5x1vq8N3qm",
      "include_colab_link": true
    },
    "kernelspec": {
      "name": "python3",
      "display_name": "Python 3"
    },
    "language_info": {
      "name": "python"
    }
  },
  "cells": [
    {
      "cell_type": "markdown",
      "metadata": {
        "id": "view-in-github",
        "colab_type": "text"
      },
      "source": [
        "<a href=\"https://colab.research.google.com/github/kaur9151/Assignment1_python/blob/main/progassmnt9.ipynb\" target=\"_parent\"><img src=\"https://colab.research.google.com/assets/colab-badge.svg\" alt=\"Open In Colab\"/></a>"
      ]
    },
    {
      "cell_type": "markdown",
      "source": [
        "1. Write a Python program to check if the given number is a Disarium Number?\n",
        "2. Write a Python program to print all disarium numbers between 1 to 100?\n",
        "3. Write a Python program to check if the given number is Happy Number?\n",
        "4. Write a Python program to print all happy numbers between 1 and 100?\n",
        "5. Write a Python program to determine whether the given number is a Harshad Number?\n",
        "6. Write a Python program to print all pronic numbers between 1 and 100?"
      ],
      "metadata": {
        "id": "Pd6XoMW9K1Hq"
      }
    },
    {
      "cell_type": "code",
      "source": [
        "num1=int(input(\"Enter a number:\"))\n",
        "nums=str(num1)\n",
        "#print(nums)\n",
        "length=len(nums)\n",
        "#print(length)\n",
        "par=0\n",
        "sum=0\n",
        "temp=num1\n",
        "for i in range(0, length):\n",
        "  par=temp%10\n",
        "  #print(f\"modulus: {par}\")\n",
        "  sum=sum+par**(length)\n",
        "  #print(f\"sum: {sum}\")\n",
        "  temp=temp//10\n",
        "  length=length-1\n",
        "#print(sum)\n",
        "if sum==num1:\n",
        "  print(\"You entered a disarium number\")\n",
        "else:\n",
        "  print(\"Not a disarium number\")"
      ],
      "metadata": {
        "colab": {
          "base_uri": "https://localhost:8080/"
        },
        "id": "cjOcKVObK5l9",
        "outputId": "c8cc33d9-4b19-4b46-c48e-6051a7b9fe81"
      },
      "execution_count": 35,
      "outputs": [
        {
          "output_type": "stream",
          "name": "stdout",
          "text": [
            "Enter a number:2\n",
            "You entered a disarium number\n"
          ]
        }
      ]
    },
    {
      "cell_type": "code",
      "source": [
        "#num1=int(input(\"Enter a number:\"))\n",
        "for j in range(1,101):\n",
        "  j1=str(j)\n",
        "  #print(j)\n",
        "  length=len(j1)\n",
        "#print(length)\n",
        "  par=0\n",
        "  sum=0\n",
        "  temp=j\n",
        "  for i in range(0, length):\n",
        "    par=temp%10\n",
        "    #print(f\"modulus: {par}\")\n",
        "    sum=sum+par**(length)\n",
        "    #print(f\"sum: {sum}\")\n",
        "    temp=temp//10\n",
        "    length=length-1\n",
        "  #print(sum)\n",
        "  if sum==j:\n",
        "    print(f\"{j} is a disarium number\")\n",
        "  #else:\n",
        "   # print(\"Not a disarium number\")"
      ],
      "metadata": {
        "colab": {
          "base_uri": "https://localhost:8080/"
        },
        "id": "QNA4IAt1Qoxa",
        "outputId": "d94d1d2a-e794-4c51-c137-41a3a753d930"
      },
      "execution_count": 34,
      "outputs": [
        {
          "output_type": "stream",
          "name": "stdout",
          "text": [
            "1 is a disarium number\n",
            "2 is a disarium number\n",
            "3 is a disarium number\n",
            "4 is a disarium number\n",
            "5 is a disarium number\n",
            "6 is a disarium number\n",
            "7 is a disarium number\n",
            "8 is a disarium number\n",
            "9 is a disarium number\n",
            "89 is a disarium number\n"
          ]
        }
      ]
    },
    {
      "cell_type": "code",
      "source": [
        "num=int(input(\"Enter a number: \"))\n",
        "\n",
        "def happy_num(num):\n",
        "  stri=str(num)\n",
        "  length=len(stri)\n",
        "  sum=0\n",
        "  par=0\n",
        "  for i in range(length):\n",
        "    par=num%10\n",
        "    #print(f\"par:{par}\")\n",
        "    sum=sum+par**2\n",
        "    #print(f\"sum: {sum}\")\n",
        "    num=num//10\n",
        "  \n",
        "  if sum!=1:\n",
        "    num=sum\n",
        "    return happy_num(num)\n",
        "  else:\n",
        "    return sum\n",
        "if happy_num(num)==1:\n",
        "  print(\"You entered a happy number\")"
      ],
      "metadata": {
        "colab": {
          "base_uri": "https://localhost:8080/"
        },
        "id": "w-Gr2VxiTn4N",
        "outputId": "d6ea2ac5-9734-42b6-bc9e-2801481e6eeb"
      },
      "execution_count": 52,
      "outputs": [
        {
          "output_type": "stream",
          "name": "stdout",
          "text": [
            "Enter a number: 13\n",
            "You entered a happy number\n"
          ]
        }
      ]
    },
    {
      "cell_type": "code",
      "source": [
        "for j in range(1,101):\n",
        "  def happy_num(j):\n",
        "    stri=str(j)\n",
        "    length=len(stri)\n",
        "    sum=0\n",
        "    par=0\n",
        "    for i in range(length):\n",
        "      par=j%10\n",
        "    #print(f\"par:{par}\")\n",
        "      sum=sum+par**2\n",
        "    #print(f\"sum: {sum}\")\n",
        "      j=j//10\n",
        "  \n",
        "    if sum!=1:\n",
        "      num=sum\n",
        "      try:\n",
        "        return happy_num(num)\n",
        "      except RecursionError as re:\n",
        "        return\n",
        "        \n",
        "    else:\n",
        "      return sum\n",
        "  if happy_num(j)==1:\n",
        "    print( f\"{j} is a happy number\")"
      ],
      "metadata": {
        "colab": {
          "base_uri": "https://localhost:8080/"
        },
        "id": "za1VujvVYSC1",
        "outputId": "0b19d4b8-aea0-4316-ae99-66516ad302a9"
      },
      "execution_count": 59,
      "outputs": [
        {
          "output_type": "stream",
          "name": "stdout",
          "text": [
            "1 is a happy number\n",
            "7 is a happy number\n",
            "10 is a happy number\n",
            "13 is a happy number\n",
            "19 is a happy number\n",
            "23 is a happy number\n",
            "28 is a happy number\n",
            "31 is a happy number\n",
            "32 is a happy number\n",
            "44 is a happy number\n",
            "49 is a happy number\n",
            "68 is a happy number\n",
            "70 is a happy number\n",
            "79 is a happy number\n",
            "82 is a happy number\n",
            "86 is a happy number\n",
            "91 is a happy number\n",
            "94 is a happy number\n",
            "97 is a happy number\n",
            "100 is a happy number\n"
          ]
        }
      ]
    },
    {
      "cell_type": "code",
      "source": [
        "num=int(input(\"Enter number: \"))\n",
        "nums=str(num)\n",
        "sum=0\n",
        "for i in nums:\n",
        "  #print(i)\n",
        "  i=int(i)\n",
        "  sum=sum+i\n",
        "#print(sum)\n",
        "if num%sum==0:\n",
        "  print(\"You entered a harshad number\")\n",
        "else:\n",
        "  print(\"It is a non harshad number\")"
      ],
      "metadata": {
        "colab": {
          "base_uri": "https://localhost:8080/"
        },
        "id": "Aa3MLrjZonO8",
        "outputId": "2bbd8b8a-afdf-4aa6-a2fc-99f789c362b7"
      },
      "execution_count": 67,
      "outputs": [
        {
          "output_type": "stream",
          "name": "stdout",
          "text": [
            "Enter number: 1\n",
            "You entered a harshad number\n"
          ]
        }
      ]
    },
    {
      "cell_type": "code",
      "source": [
        "\n",
        "for j in range(0,101):\n",
        "  for i in range(1,j+1):\n",
        "    if i*(i+1)==j:\n",
        "        print(f\"{j} is a pronic number\")\n",
        "        break"
      ],
      "metadata": {
        "colab": {
          "base_uri": "https://localhost:8080/"
        },
        "id": "qnyc4rvqtv64",
        "outputId": "80bc536f-29eb-4844-c02b-eca60f198d5f"
      },
      "execution_count": 89,
      "outputs": [
        {
          "output_type": "stream",
          "name": "stdout",
          "text": [
            "2 is a pronic number\n",
            "6 is a pronic number\n",
            "12 is a pronic number\n",
            "20 is a pronic number\n",
            "30 is a pronic number\n",
            "42 is a pronic number\n",
            "56 is a pronic number\n",
            "72 is a pronic number\n",
            "90 is a pronic number\n"
          ]
        }
      ]
    }
  ]
}