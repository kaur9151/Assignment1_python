{
 "cells": [
  {
   "cell_type": "code",
   "execution_count": 6,
   "id": "3ab75762-00db-4798-affd-49c5f93685df",
   "metadata": {},
   "outputs": [
    {
     "data": {
      "text/plain": [
       "18"
      ]
     },
     "execution_count": 6,
     "metadata": {},
     "output_type": "execute_result"
    }
   ],
   "source": [
    "'''\n",
    "Create a function that takes three arguments a, b, c and returns the sum of the\n",
    "numbers that are evenly divided by c from the range a, b inclusive.\n",
    "Examples\n",
    "evenly_divisible(1, 10, 20) ➞ 0\n",
    "# No number between 1 and 10 can be evenly divided by 20.\n",
    "evenly_divisible(1, 10, 2) ➞ 30\n",
    "# 2 + 4 + 6 + 8 + 10 = 30\n",
    "evenly_divisible(1, 10, 3) ➞ 18\n",
    "# 3 + 6 + 9 = 18\n",
    "'''\n",
    "def evenly_divisible(a,b,c):\n",
    "    sum=0\n",
    "    for i in range(a,b+1):\n",
    "        if i%c==0:\n",
    "            sum+=i\n",
    "    return sum\n",
    "evenly_divisible(1, 10, 3)"
   ]
  },
  {
   "cell_type": "code",
   "execution_count": 99,
   "id": "f7ba075c-376e-4589-8485-66f9578b53dc",
   "metadata": {},
   "outputs": [
    {
     "name": "stdout",
     "output_type": "stream",
     "text": [
      "['13', '>', '44', '>', '33', '>', '1']\n",
      "False\n"
     ]
    }
   ],
   "source": [
    "'''\n",
    "Question2. Create a function that returns True if a given inequality expression is correct and\n",
    "False otherwise.\n",
    "Examples\n",
    "correct_signs(\"3 < 7 < 11\") ➞ True\n",
    "correct_signs(\"13 > 44 > 33 > 1\") ➞ False\n",
    "correct_signs(\"1 < 2 < 6 < 9 > 3\") ➞ True\n",
    "'''\n",
    "def correct_signs(stri):\n",
    "    liststr=stri.split()\n",
    "    print(liststr)\n",
    "    #print(len(liststr))\n",
    "    count=0\n",
    "    for i in range(0,len(liststr)-2):\n",
    "        if liststr[i].isdigit() and liststr[i+2].isdigit:\n",
    "            num1,num2=int(liststr[i]),int(liststr[i+2])\n",
    "            if num1<num2 and liststr[i+1]=='<':\n",
    "                #print(count)\n",
    "                count=1\n",
    "                #print(count)\n",
    "            elif num1>num2 and liststr[i+1]=='>':\n",
    "                count=1\n",
    "                #print(count)\n",
    "            else:\n",
    "                count=0\n",
    "                break\n",
    "    return count\n",
    "    #return count         \n",
    "x=correct_signs(\"13 > 44 > 33 > 1\")\n",
    "if x:\n",
    "    print(\"True\")\n",
    "else:\n",
    "    print(\"False\")"
   ]
  },
  {
   "cell_type": "code",
   "execution_count": 119,
   "id": "d6271558-5c09-4f83-8a64-ad9bf817dbaf",
   "metadata": {},
   "outputs": [
    {
     "name": "stdout",
     "output_type": "stream",
     "text": [
      "j*sk*r*t k**r\n"
     ]
    }
   ],
   "source": [
    "'''\n",
    "Create a function that replaces all the vowels in a string with a specified character.\n",
    "Examples\n",
    "replace_vowels(\"the aardvark\", \"#\") ➞ \"th# ##rdv#rk\"\n",
    "replace_vowels(\"minnie mouse\", \"?\") ➞ \"m?nn?? m??s?\"\n",
    "replace_vowels(\"shakespeare\", \"*\") ➞ \"sh*k*sp**r*\"\n",
    "'''\n",
    "def replace_vowels(stri, char):\n",
    "    vowels='aeiou'\n",
    "    stri=list(stri)\n",
    "    #print(stri)\n",
    "    #print(char)\n",
    "    for i in range(0,len(stri)):\n",
    "        for j in vowels:\n",
    "            if stri[i]==j:\n",
    "               # print(i)\n",
    "                stri[i]=char\n",
    "    stri=''.join(stri)\n",
    "    print(stri)\n",
    "replace_vowels(\"jaskirat kaur\",\"*\")"
   ]
  },
  {
   "cell_type": "code",
   "execution_count": 123,
   "id": "3bdbc2a4-debd-4ef4-b97e-8793ea746f0e",
   "metadata": {},
   "outputs": [
    {
     "name": "stdout",
     "output_type": "stream",
     "text": [
      "6\n"
     ]
    }
   ],
   "source": [
    "'''\n",
    "Write a function that calculates the factorial of a number recursively.\n",
    "Examples\n",
    "factorial(5) ➞ 120\n",
    "factorial(3) ➞ 6\n",
    "factorial(1) ➞ 1\n",
    "factorial(0) ➞ 1\n",
    "'''\n",
    "def factorial(num):\n",
    "    if num==0:\n",
    "        return 1\n",
    "    else:\n",
    "        return num*factorial(num-1)\n",
    "x=factorial(3)\n",
    "print(x)\n",
    "        \n",
    "    "
   ]
  },
  {
   "cell_type": "code",
   "execution_count": 128,
   "id": "653e3a9c-22e7-46de-8c74-b72ec3af5a71",
   "metadata": {},
   "outputs": [
    {
     "name": "stdout",
     "output_type": "stream",
     "text": [
      "1\n"
     ]
    }
   ],
   "source": [
    "'''\n",
    "Hamming distance is the number of characters that differ between two strings.\n",
    "To illustrate:\n",
    "String1: \"abcbba\"\n",
    "String2: \"abcbda\"\n",
    "Hamming Distance: 1 - \"b\" vs. \"d\" is the only difference.\n",
    "Create a function that computes the hamming distance between two strings.\n",
    "Examples\n",
    "hamming_distance(\"abcde\", \"bcdef\") ➞ 5\n",
    "hamming_distance(\"abcde\", \"abcde\") ➞ 0\n",
    "hamming_distance(\"strong\", \"strung\") ➞ 1\n",
    "'''\n",
    "def hamming_distance(stri,stri2):\n",
    "    ham=0\n",
    "    for i in range(0,len(stri)):\n",
    "        if stri[i]!=stri2[i]:\n",
    "            ham=ham+1\n",
    "    return ham\n",
    "x=hamming_distance(\"strong\", \"strung\")\n",
    "print(x)\n",
    "        "
   ]
  },
  {
   "cell_type": "code",
   "execution_count": null,
   "id": "1b8a6a72-6faa-4b64-8ad1-f3fc704afcc9",
   "metadata": {},
   "outputs": [],
   "source": []
  }
 ],
 "metadata": {
  "kernelspec": {
   "display_name": "Python 3 (ipykernel)",
   "language": "python",
   "name": "python3"
  },
  "language_info": {
   "codemirror_mode": {
    "name": "ipython",
    "version": 3
   },
   "file_extension": ".py",
   "mimetype": "text/x-python",
   "name": "python",
   "nbconvert_exporter": "python",
   "pygments_lexer": "ipython3",
   "version": "3.10.6"
  }
 },
 "nbformat": 4,
 "nbformat_minor": 5
}
