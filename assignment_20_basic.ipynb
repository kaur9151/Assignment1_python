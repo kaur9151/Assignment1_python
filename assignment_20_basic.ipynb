{
 "cells": [
  {
   "cell_type": "code",
   "execution_count": 4,
   "id": "1bc95b38-c03d-4fb5-b5cb-d377ff638601",
   "metadata": {},
   "outputs": [],
   "source": [
    "'''\n",
    "Set the variable test1 to the string &#39;This is a test of the emergency text system,&#39; and save test1 to a\n",
    "file named test.txt.\n",
    "'''\n",
    "test1='This is a test of the emergency test system'\n",
    "f=open('test.txt','w')\n",
    "f.write(test1)\n",
    "f.close()"
   ]
  },
  {
   "cell_type": "code",
   "execution_count": 11,
   "id": "10b85e4e-318b-4a3c-884e-613522d97b19",
   "metadata": {},
   "outputs": [
    {
     "name": "stdout",
     "output_type": "stream",
     "text": [
      "This is a test of the emergency test system\n"
     ]
    }
   ],
   "source": [
    "'''\n",
    "Read the contents of the file test.txt into the variable test2. Is there a difference between test 1\n",
    "and test 2?\n",
    "'''\n",
    "f=open('test.txt','r')\n",
    "test2=f.read()\n",
    "print(test2)\n",
    "#print(type(test2))\n",
    "f.close()\n",
    "#There is no difference between test1 and test2."
   ]
  },
  {
   "cell_type": "code",
   "execution_count": 14,
   "id": "3fc52411-a600-4bf9-a751-935642f69cfc",
   "metadata": {},
   "outputs": [],
   "source": [
    "'''\n",
    "Create a CSV file called books.csv by using these lines:\n",
    "title,author,year\n",
    "The Weirdstone of Brisingamen,Alan Garner,1960\n",
    "Perdido Street Station,China Miéville,2000\n",
    "Thud!,Terry Pratchett,2005\n",
    "The Spellman Files,Lisa Lutz,2007\n",
    "Small Gods,Terry Pratchett,1992\n",
    "'''\n",
    "import csv\n",
    "header=['title','author','year']\n",
    "data=[\n",
    "    ['The Weirdstone of Brisingamen','Alan Garner',1960],\n",
    "    ['Perdido Street Station','China Miéville',2000],\n",
    "    ['Thud!','Terry Pratchett',2005],\n",
    "    ['The Spellman Files','Lisa Lutz',2007],\n",
    "    ['Small Gods','Terry Pratchett',1992]]\n",
    "#f=open('books.csv','w')\n",
    "with open('books.csv','w',encoding='UTF8',newline='') as f:\n",
    "    writer=csv.writer(f)\n",
    "    writer.writerow(header)\n",
    "    writer.writerows(data)"
   ]
  },
  {
   "cell_type": "code",
   "execution_count": 10,
   "id": "982b47fc-0e33-4ee9-a16a-5b47503a9109",
   "metadata": {},
   "outputs": [
    {
     "data": {
      "text/plain": [
       "<sqlite3.Cursor at 0x7f61005e97c0>"
      ]
     },
     "execution_count": 10,
     "metadata": {},
     "output_type": "execute_result"
    }
   ],
   "source": [
    "'''\n",
    "Use the sqlite3 module to create a SQLite database called books.db, and a table called books with\n",
    "these fields: title (text), author (text), and year (integer).\n",
    "'''\n",
    "import sqlite3\n",
    "db=sqlite3.connect('books.db')\n",
    "db.execute(\"DROP TABLE BOOKS\")\n",
    "cursor=db.cursor()\n",
    "create_table='''CREATE TABLE BOOKS \n",
    "             (TITLE TEXT NOT NULL,\n",
    "             AUTHOR TEXT NOT NULL,\n",
    "             YEAR INT NOT NULL);'''\n",
    "cursor.execute(create_table)\n"
   ]
  },
  {
   "cell_type": "code",
   "execution_count": 11,
   "id": "318365de-36e5-4c68-af4a-381c6ead04c3",
   "metadata": {},
   "outputs": [
    {
     "name": "stdout",
     "output_type": "stream",
     "text": [
      "('title', 'author', 'year')\n",
      "('The Weirdstone of Brisingamen', 'Alan Garner', 1960)\n",
      "('Perdido Street Station', 'China Miéville', 2000)\n",
      "('Thud!', 'Terry Pratchett', 2005)\n",
      "('The Spellman Files', 'Lisa Lutz', 2007)\n",
      "('Small Gods', 'Terry Pratchett', 1992)\n"
     ]
    }
   ],
   "source": [
    "'''\n",
    "Read books.csv and insert its data into the book table.\n",
    "'''\n",
    "import csv\n",
    "f=open('books.csv')\n",
    "data=csv.reader(f)\n",
    "insert=\"INSERT INTO BOOKS (TITLE, AUTHOR, YEAR) VALUES(?,?,?)\"\n",
    "cursor.executemany(insert,data)\n",
    "select_all=\"SELECT * FROM BOOKS\"\n",
    "rows=cursor.execute(select_all).fetchall()\n",
    "for r in rows:\n",
    "    print(r)\n",
    "#db.commit()\n",
    "#db.close()"
   ]
  },
  {
   "cell_type": "code",
   "execution_count": 13,
   "id": "6bcb39ea-cd38-4443-9891-725b67104ad4",
   "metadata": {},
   "outputs": [
    {
     "name": "stdout",
     "output_type": "stream",
     "text": [
      "('Perdido Street Station',)\n",
      "('Small Gods',)\n",
      "('The Spellman Files',)\n",
      "('The Weirdstone of Brisingamen',)\n",
      "('Thud!',)\n",
      "('title',)\n"
     ]
    }
   ],
   "source": [
    "'''\n",
    "Select and print the title column from the book table in alphabetical order.\n",
    "'''\n",
    "cursor.execute(\"SELECT TITLE FROM BOOKS ORDER BY TITLE\")\n",
    "result=cursor.fetchall()\n",
    "for x in result:\n",
    "    print(x)"
   ]
  },
  {
   "cell_type": "code",
   "execution_count": 19,
   "id": "ce3039f7-684f-40c3-9b86-a0d852710125",
   "metadata": {},
   "outputs": [
    {
     "name": "stdout",
     "output_type": "stream",
     "text": [
      "('The Weirdstone of Brisingamen', 'Alan Garner', 1960)\n",
      "('Small Gods', 'Terry Pratchett', 1992)\n",
      "('Perdido Street Station', 'China Miéville', 2000)\n",
      "('Thud!', 'Terry Pratchett', 2005)\n",
      "('The Spellman Files', 'Lisa Lutz', 2007)\n",
      "('title', 'author', 'year')\n"
     ]
    }
   ],
   "source": [
    "'''\n",
    "From the book table, select and print all columns in the order of publication.\n",
    "'''\n",
    "cursor.execute(\"SELECT * FROM BOOKS ORDER BY YEAR\")\n",
    "result=cursor.fetchall()\n",
    "for x in result:\n",
    "    print(x)\n",
    "db.commit()\n",
    "db.close()"
   ]
  },
  {
   "cell_type": "code",
   "execution_count": 16,
   "id": "74a8102e-7300-4743-bb18-859cddfbf535",
   "metadata": {},
   "outputs": [],
   "source": [
    "'''\n",
    "Use the sqlalchemy module to connect to the sqlite3 database books.db that you just made in\n",
    "exercise 6.\n",
    "'''\n",
    "import sqlalchemy\n",
    "engine=sqlalchemy.create_engine(f'sqlite:///books.db')"
   ]
  },
  {
   "cell_type": "code",
   "execution_count": 21,
   "id": "1c5f1430-3c58-4bf4-85be-feba3da08d26",
   "metadata": {},
   "outputs": [
    {
     "name": "stdout",
     "output_type": "stream",
     "text": [
      "Collecting redis\n",
      "  Downloading redis-4.4.0-py3-none-any.whl (236 kB)\n",
      "\u001b[2K     \u001b[90m━━━━━━━━━━━━━━━━━━━━━━━━━━━━━━━━━━━━━━\u001b[0m \u001b[32m236.4/236.4 kB\u001b[0m \u001b[31m20.3 MB/s\u001b[0m eta \u001b[36m0:00:00\u001b[0m\n",
      "\u001b[?25hCollecting async-timeout>=4.0.2\n",
      "  Downloading async_timeout-4.0.2-py3-none-any.whl (5.8 kB)\n",
      "Installing collected packages: async-timeout, redis\n",
      "Successfully installed async-timeout-4.0.2 redis-4.4.0\n"
     ]
    }
   ],
   "source": [
    "'''\n",
    "Install the Redis server and the Python redis library (pip install redis) on your computer. Create a\n",
    "Redis hash called test with the fields count (1) and name ('Fester Bestertester'). Print all the fields for\n",
    "test.\n",
    "'''\n",
    "!pip install redis"
   ]
  },
  {
   "cell_type": "code",
   "execution_count": null,
   "id": "c267725f-b424-44dd-bce6-d521b86b4adf",
   "metadata": {},
   "outputs": [],
   "source": []
  }
 ],
 "metadata": {
  "kernelspec": {
   "display_name": "Python 3 (ipykernel)",
   "language": "python",
   "name": "python3"
  },
  "language_info": {
   "codemirror_mode": {
    "name": "ipython",
    "version": 3
   },
   "file_extension": ".py",
   "mimetype": "text/x-python",
   "name": "python",
   "nbconvert_exporter": "python",
   "pygments_lexer": "ipython3",
   "version": "3.10.6"
  }
 },
 "nbformat": 4,
 "nbformat_minor": 5
}
