{
  "nbformat": 4,
  "nbformat_minor": 0,
  "metadata": {
    "colab": {
      "provenance": [],
      "collapsed_sections": [],
      "authorship_tag": "ABX9TyMu9+tI2nzv9XqdaovLH6wy",
      "include_colab_link": true
    },
    "kernelspec": {
      "name": "python3",
      "display_name": "Python 3"
    },
    "language_info": {
      "name": "python"
    }
  },
  "cells": [
    {
      "cell_type": "markdown",
      "metadata": {
        "id": "view-in-github",
        "colab_type": "text"
      },
      "source": [
        "<a href=\"https://colab.research.google.com/github/kaur9151/Assignment1_python/blob/main/prog5.ipynb\" target=\"_parent\"><img src=\"https://colab.research.google.com/assets/colab-badge.svg\" alt=\"Open In Colab\"/></a>"
      ]
    },
    {
      "cell_type": "markdown",
      "source": [
        "1. Write a Python Program to Find LCM?\n",
        "2. Write a Python Program to Find HCF?\n",
        "3. Write a Python Program to Convert Decimal to Binary, Octal and Hexadecimal?\n",
        "4. Write a Python Program To Find ASCII value of a character?\n",
        "5. Write a Python Program to Make a Simple Calculator with 4 basic mathematical operations?"
      ],
      "metadata": {
        "id": "vsKtlFbvm7Fe"
      }
    },
    {
      "cell_type": "code",
      "source": [
        "num1=int(input(\"Enter first number: \"))\n",
        "num2=int(input(\"Enter second number: \"))\n",
        "greater=0\n",
        "if num1>num2:\n",
        "  greater=num1\n",
        "else:\n",
        "  greater=num2\n",
        "while(True):\n",
        "  if (greater%num1==0) and (greater%num2==0):\n",
        "    lcm=greater\n",
        "    break\n",
        "  greater=greater+1\n",
        "print(f\"Lcm of the two numbers is: {lcm}\")"
      ],
      "metadata": {
        "colab": {
          "base_uri": "https://localhost:8080/"
        },
        "id": "HGMIu5gAm-SR",
        "outputId": "69b2cd91-054a-4f38-c112-2ebadf524925"
      },
      "execution_count": null,
      "outputs": [
        {
          "output_type": "stream",
          "name": "stdout",
          "text": [
            "Enter first number: 3\n",
            "Enter second number: 2\n",
            "Lcm of the two numbers is: 6\n"
          ]
        }
      ]
    },
    {
      "cell_type": "code",
      "source": [
        "num1=int(input(\"Enter first number:\"))\n",
        "num2=int(input(\"Enter second number:\"))\n",
        "if num1>num2:\n",
        "  smallest=num2\n",
        "else:\n",
        "  smallest=num1\n",
        "for i in range(1,smallest+1):\n",
        "  if (num1%i==0) and (num2%i==0):\n",
        "    hcf=i\n",
        "print(f\"Hcf of the two numbers is: {hcf}\")"
      ],
      "metadata": {
        "colab": {
          "base_uri": "https://localhost:8080/"
        },
        "id": "2Tg_Vd6YtbZX",
        "outputId": "d20548ea-b239-438e-d73e-c7c0c264cdb7"
      },
      "execution_count": null,
      "outputs": [
        {
          "output_type": "stream",
          "name": "stdout",
          "text": [
            "Enter first number:90\n",
            "Enter second number:45\n",
            "Hcf of the two numbers is: 45\n"
          ]
        }
      ]
    },
    {
      "cell_type": "code",
      "source": [
        "\n",
        "num=int(input(\"Enter any decimal number: \"))\n",
        "binary=bin(num)\n",
        "print(f\"Binary no. is: {binary}, Octal no. is: {oct(num)}, Hexadecimal no. is: {hex(num)}\")"
      ],
      "metadata": {
        "colab": {
          "base_uri": "https://localhost:8080/"
        },
        "id": "5dfsSqy4wdkG",
        "outputId": "e94b3022-f905-4240-9d4d-62eb161ca7db"
      },
      "execution_count": 13,
      "outputs": [
        {
          "output_type": "stream",
          "name": "stdout",
          "text": [
            "Enter any decimal number: 96\n",
            "Binary no. is: 0b1100000, Octal no. is: 0o140, Hexadecimal no. is: 0x60\n"
          ]
        }
      ]
    },
    {
      "cell_type": "code",
      "source": [
        "char=input(\"Enter any character: \")\n",
        "print(f\"ASCII value of the entered character is: {ord(char)}\")"
      ],
      "metadata": {
        "colab": {
          "base_uri": "https://localhost:8080/"
        },
        "id": "PjIBQKFu-CIb",
        "outputId": "661bf89c-0e8e-40a3-84f6-af7bacae4730"
      },
      "execution_count": 3,
      "outputs": [
        {
          "output_type": "stream",
          "name": "stdout",
          "text": [
            "Enter any character: A\n",
            "ASCII value of the entered character is: 65\n"
          ]
        }
      ]
    },
    {
      "cell_type": "code",
      "source": [
        "num1=float(input(\"Enter your first number: \"))\n",
        "num2=float(input(\"Enter your second number: \"))\n",
        "func=input(\"Enter the operation you want to perform on the numbers (+,-,*,/): \")\n",
        "if func==\"+\":\n",
        "  print(f\"{num1}+{num2}={num1+num2}\")\n",
        "elif func==\"-\":\n",
        "  print(f\"{num1}-{num2}={num1-num2}\")\n",
        "elif func==\"*\":\n",
        "  print(f\"{num1}*{num2}={num1*num2}\")\n",
        "elif func==\"/\":\n",
        "  print(f\"{num1}/{num2}={num1/num2}\")\n",
        "else:\n",
        "  print(\"Enter a valid operation.\")\n"
      ],
      "metadata": {
        "colab": {
          "base_uri": "https://localhost:8080/"
        },
        "id": "Gx_IPthM-6jR",
        "outputId": "7fafbfe4-914c-4356-c86f-5a762a95a471"
      },
      "execution_count": 7,
      "outputs": [
        {
          "output_type": "stream",
          "name": "stdout",
          "text": [
            "Enter your first number: 56\n",
            "Enter your second number: 9\n",
            "Enter the operation you want to perform on the numbers (+,-,*,/): %\n",
            "Enter a valid operation\n"
          ]
        }
      ]
    }
  ]
}