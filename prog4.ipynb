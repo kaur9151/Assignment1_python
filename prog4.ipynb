{
  "nbformat": 4,
  "nbformat_minor": 0,
  "metadata": {
    "colab": {
      "provenance": [],
      "collapsed_sections": [],
      "authorship_tag": "ABX9TyOgssislPCEKg2dTQRFctIn",
      "include_colab_link": true
    },
    "kernelspec": {
      "name": "python3",
      "display_name": "Python 3"
    },
    "language_info": {
      "name": "python"
    }
  },
  "cells": [
    {
      "cell_type": "markdown",
      "metadata": {
        "id": "view-in-github",
        "colab_type": "text"
      },
      "source": [
        "<a href=\"https://colab.research.google.com/github/kaur9151/Assignment1_python/blob/main/prog4.ipynb\" target=\"_parent\"><img src=\"https://colab.research.google.com/assets/colab-badge.svg\" alt=\"Open In Colab\"/></a>"
      ]
    },
    {
      "cell_type": "code",
      "execution_count": null,
      "metadata": {
        "id": "sR5JVHtRPV0r"
      },
      "outputs": [],
      "source": []
    },
    {
      "cell_type": "markdown",
      "source": [
        "1. Write a Python Program to Find the Factorial of a Number?\n",
        "2. Write a Python Program to Display the multiplication Table?\n",
        "3. Write a Python Program to Print the Fibonacci sequence?\n",
        "4. Write a Python Program to Check Armstrong Number?\n",
        "5. Write a Python Program to Find Armstrong Number in an Interval?\n",
        "6. Write a Python Program to Find the Sum of Natural Numbers?"
      ],
      "metadata": {
        "id": "57jrv1z5PXQu"
      }
    },
    {
      "cell_type": "code",
      "source": [
        "num=int(input(\"Enter any number: \"))\n",
        "factorial=1\n",
        "for i in range(1,num+1):\n",
        "  factorial=factorial*i\n",
        "print(f\"Factorial of {num} is:{factorial}\")"
      ],
      "metadata": {
        "colab": {
          "base_uri": "https://localhost:8080/"
        },
        "id": "OGIEv8bRPe9T",
        "outputId": "4ed4552f-63b4-453e-ba24-4b90aae1c74d"
      },
      "execution_count": null,
      "outputs": [
        {
          "output_type": "stream",
          "name": "stdout",
          "text": [
            "Enter any number: 5\n",
            "Factorial of 5 is:120\n"
          ]
        }
      ]
    },
    {
      "cell_type": "code",
      "source": [
        "num=int(input(\"Enter any number: \"))\n",
        "for i in range(0,11):\n",
        "  print(f\"{num}*{i}={num*i}\")"
      ],
      "metadata": {
        "colab": {
          "base_uri": "https://localhost:8080/"
        },
        "id": "7Iu9O_VrRnPb",
        "outputId": "90cd54bc-4715-413c-e540-085247d32a4e"
      },
      "execution_count": null,
      "outputs": [
        {
          "output_type": "stream",
          "name": "stdout",
          "text": [
            "Enter any number: 2\n",
            "2*0=0\n",
            "2*1=2\n",
            "2*2=4\n",
            "2*3=6\n",
            "2*4=8\n",
            "2*5=10\n",
            "2*6=12\n",
            "2*7=14\n",
            "2*8=16\n",
            "2*9=18\n",
            "2*10=20\n"
          ]
        }
      ]
    },
    {
      "cell_type": "code",
      "source": [
        "n1,n2=0,1\n",
        "length=int(input(\"Enter the length of your fabonacci series: \"))\n",
        "print(n1)\n",
        "print(n2)\n",
        "length=length-2\n",
        "while length>0:\n",
        "  print(n1+n2)\n",
        "  temp=n2\n",
        "  n2=n1+n2\n",
        "  n1=temp\n",
        "  length=length-1"
      ],
      "metadata": {
        "colab": {
          "base_uri": "https://localhost:8080/"
        },
        "id": "j17UMnPsGwld",
        "outputId": "64366206-b739-4385-a138-0a09449eba85"
      },
      "execution_count": null,
      "outputs": [
        {
          "output_type": "stream",
          "name": "stdout",
          "text": [
            "Enter the length of your fabonacci series: 10\n",
            "0\n",
            "1\n",
            "1\n",
            "2\n",
            "3\n",
            "5\n",
            "8\n",
            "13\n",
            "21\n",
            "34\n"
          ]
        }
      ]
    },
    {
      "cell_type": "code",
      "source": [
        "num=int(input(\"Enter any number: \"))\n",
        "\n",
        "sum=0\n",
        "num1=num\n",
        "while num1>0:\n",
        "  n=num1%10\n",
        "  print(f\"Digit value: {n}\")\n",
        "  sum+=n**3\n",
        "  print(f\"Sum:{sum}\")\n",
        "  num1=num1//10\n",
        "  \n",
        "if num==sum:\n",
        "  print(\"You entered an Armstrong Number\")\n",
        "else:\n",
        "  print(\"You entered a non Armstrong Number\")"
      ],
      "metadata": {
        "id": "t2tJRF5yNF8u",
        "colab": {
          "base_uri": "https://localhost:8080/"
        },
        "outputId": "1a56ae15-93a4-4039-de8a-dfe8a82cec54"
      },
      "execution_count": 32,
      "outputs": [
        {
          "output_type": "stream",
          "name": "stdout",
          "text": [
            "Enter any number: 371\n",
            "Digit value: 1\n",
            "Sum:1\n",
            "Digit value: 7\n",
            "Sum:344\n",
            "Digit value: 3\n",
            "Sum:371\n",
            "You entered an Armstrong Number\n"
          ]
        }
      ]
    },
    {
      "cell_type": "code",
      "source": [
        "\n",
        "for num in range(0,1000):\n",
        "  num1=num\n",
        "  sum=0\n",
        "  while num1>0:\n",
        "    n=num1%10\n",
        "    sum+=n**3\n",
        "    num1=num1//10\n",
        "  if num==sum:\n",
        "    print(f\"Armstrong Number: {num}\") "
      ],
      "metadata": {
        "colab": {
          "base_uri": "https://localhost:8080/"
        },
        "id": "p13fEeCDW_WE",
        "outputId": "7cca4eba-1dac-4532-8220-cea5774a676f"
      },
      "execution_count": 20,
      "outputs": [
        {
          "output_type": "stream",
          "name": "stdout",
          "text": [
            "Armstrong Number: 0\n",
            "Armstrong Number: 1\n",
            "Armstrong Number: 153\n",
            "Armstrong Number: 370\n",
            "Armstrong Number: 371\n",
            "Armstrong Number: 407\n"
          ]
        }
      ]
    },
    {
      "cell_type": "code",
      "source": [
        "num=int(input(\"Enter any natural number to find sum at that point: \"))\n",
        "sum=0\n",
        "for num1 in range(1,num+1):\n",
        "  sum=sum+num1\n",
        "print(f\"Your sum is: {sum}\")"
      ],
      "metadata": {
        "colab": {
          "base_uri": "https://localhost:8080/"
        },
        "id": "Rp4sPJkPa5ZP",
        "outputId": "1bff4b7a-6a50-430b-b211-68058307e3e0"
      },
      "execution_count": 31,
      "outputs": [
        {
          "output_type": "stream",
          "name": "stdout",
          "text": [
            "Enter any natural number to find sum at that point: 16\n",
            "Your sum is: 136\n"
          ]
        }
      ]
    }
  ]
}