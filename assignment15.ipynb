{
 "cells": [
  {
   "cell_type": "code",
   "execution_count": 3,
   "id": "9c576202-e7c4-4472-9da5-cad2be92f6e6",
   "metadata": {},
   "outputs": [
    {
     "data": {
      "text/plain": [
       "3600.0"
      ]
     },
     "execution_count": 3,
     "metadata": {},
     "output_type": "execute_result"
    }
   ],
   "source": [
    "'''\n",
    "1.How many seconds are in an hour? Use the interactive interpreter as a calculator and multiply the\n",
    "number of seconds in a minute (60) by the number of minutes in an hour (also 60).\n",
    "sol. 60\n",
    "'''\n",
    "import datetime\n",
    "delta=datetime.timedelta(hours=1)\n",
    "delta.total_seconds()"
   ]
  },
  {
   "cell_type": "code",
   "execution_count": 19,
   "id": "0aeda06b-b3cc-4748-ba35-2e894f341cf5",
   "metadata": {},
   "outputs": [],
   "source": [
    "'''\n",
    "2. Assign the result from the previous task (seconds in an hour) to a variable called\n",
    "seconds_per_hour.\n",
    "'''\n",
    "seconds_per_hour=delta.total_seconds()"
   ]
  },
  {
   "cell_type": "code",
   "execution_count": 22,
   "id": "f082353e-591a-4207-950f-a39159ad291a",
   "metadata": {},
   "outputs": [
    {
     "name": "stdout",
     "output_type": "stream",
     "text": [
      "86400.0\n",
      "86400.0\n"
     ]
    }
   ],
   "source": [
    "'''\n",
    "How many seconds do you think there are in a day? Make use of the variables seconds per hour\n",
    "and minutes per hour.\n",
    "'''\n",
    "minutes_per_hour=60\n",
    "delta2=datetime.timedelta(days=1)\n",
    "seconds_per_day=delta2.total_seconds()\n",
    "print(seconds_per_day)\n",
    "seconds_per_day2=24*seconds_per_hour\n",
    "print(seconds_per_day2)"
   ]
  },
  {
   "cell_type": "code",
   "execution_count": 23,
   "id": "7eeb35d6-5337-451d-b6e0-01af3e3212cb",
   "metadata": {},
   "outputs": [
    {
     "name": "stdout",
     "output_type": "stream",
     "text": [
      "86400.0\n"
     ]
    }
   ],
   "source": [
    "'''\n",
    "4. Calculate seconds per day again, but this time save the result in a variable called seconds_per_day\n",
    "'''\n",
    "seconds_per_day=delta2.total_seconds()\n",
    "print(seconds_per_day)"
   ]
  },
  {
   "cell_type": "code",
   "execution_count": 24,
   "id": "febcd6dd-11ce-45b8-a7ea-1119a9c26e03",
   "metadata": {},
   "outputs": [
    {
     "data": {
      "text/plain": [
       "24.0"
      ]
     },
     "execution_count": 24,
     "metadata": {},
     "output_type": "execute_result"
    }
   ],
   "source": [
    "'''\n",
    "Divide seconds_per_day by seconds_per_hour. Use floating-point (/) division.\n",
    "'''\n",
    "seconds_per_day/seconds_per_hour"
   ]
  },
  {
   "cell_type": "code",
   "execution_count": 26,
   "id": "930e262a-1f1f-4c8b-8431-ee9423bbc813",
   "metadata": {},
   "outputs": [
    {
     "data": {
      "text/plain": [
       "24.0"
      ]
     },
     "execution_count": 26,
     "metadata": {},
     "output_type": "execute_result"
    }
   ],
   "source": [
    "'''\n",
    "Divide seconds_per_day by seconds_per_hour, using integer (//) division. Did this number agree\n",
    "with the floating-point value from the previous question, aside from the final .0?\n",
    "'''\n",
    "seconds_per_day//seconds_per_hour\n",
    "#Yes both the previous and this value are same."
   ]
  },
  {
   "cell_type": "code",
   "execution_count": 29,
   "id": "0df24c33-24d5-4fc7-a062-1eeb82a93a90",
   "metadata": {},
   "outputs": [
    {
     "name": "stdout",
     "output_type": "stream",
     "text": [
      "{2}\n",
      "{2, 3}\n",
      "{2, 3, 5}\n"
     ]
    },
    {
     "data": {
      "text/plain": [
       "5"
      ]
     },
     "execution_count": 29,
     "metadata": {},
     "output_type": "execute_result"
    }
   ],
   "source": [
    "'''\n",
    "Write a generator, genPrimes, that returns the sequence of prime numbers on successive calls to\n",
    "its next() method: 2, 3, 5, 7, 11, ...\n",
    "'''\n",
    "def genPrimes():\n",
    "    n = 2\n",
    "    primes = set()\n",
    "    while True:\n",
    "        for p in primes:\n",
    "            if n % p == 0:\n",
    "                break\n",
    "        else:\n",
    "            primes.add(n)\n",
    "            print(primes)\n",
    "            yield n\n",
    "        n += 1\n",
    "a=genPrimes()\n",
    "next(a)\n",
    "next(a)\n",
    "next(a)\n"
   ]
  },
  {
   "cell_type": "code",
   "execution_count": null,
   "id": "eafb9f14-8937-4754-a52c-29cb52527828",
   "metadata": {},
   "outputs": [],
   "source": []
  }
 ],
 "metadata": {
  "kernelspec": {
   "display_name": "Python 3 (ipykernel)",
   "language": "python",
   "name": "python3"
  },
  "language_info": {
   "codemirror_mode": {
    "name": "ipython",
    "version": 3
   },
   "file_extension": ".py",
   "mimetype": "text/x-python",
   "name": "python",
   "nbconvert_exporter": "python",
   "pygments_lexer": "ipython3",
   "version": "3.10.6"
  }
 },
 "nbformat": 4,
 "nbformat_minor": 5
}
