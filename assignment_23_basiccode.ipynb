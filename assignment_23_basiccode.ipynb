{
 "cells": [
  {
   "cell_type": "code",
   "execution_count": 5,
   "id": "3ec11da9-c86e-473d-b900-776a21e50c99",
   "metadata": {},
   "outputs": [
    {
     "data": {
      "text/plain": [
       "True"
      ]
     },
     "execution_count": 5,
     "metadata": {},
     "output_type": "execute_result"
    }
   ],
   "source": [
    "'''\n",
    "Create a function that takes a number as an argument and returns True or False depending\n",
    "on whether the number is symmetrical or not. A number is symmetrical when it is the same as\n",
    "its reverse.\n",
    "Examples\n",
    "is_symmetrical(7227) ➞ True\n",
    "is_symmetrical(12567) ➞ False\n",
    "is_symmetrical(44444444) ➞ True\n",
    "is_symmetrical(9939) ➞ False\n",
    "is_symmetrical(1112111) ➞ True\n",
    "'''\n",
    "def is_symmetrical(num):\n",
    "    strnum=str(num)\n",
    "    reverse=strnum[::-1]\n",
    "    if strnum==reverse:\n",
    "        return True\n",
    "    else:\n",
    "        return False\n",
    "is_symmetrical(7227)\n",
    "is_symmetrical(12567)\n",
    "is_symmetrical(44444444)\n",
    "is_symmetrical(9939)\n",
    "is_symmetrical(1112111)"
   ]
  },
  {
   "cell_type": "code",
   "execution_count": 13,
   "id": "a3497c7a-fcf1-4690-a230-af213df0d397",
   "metadata": {},
   "outputs": [
    {
     "data": {
      "text/plain": [
       "-20"
      ]
     },
     "execution_count": 13,
     "metadata": {},
     "output_type": "execute_result"
    }
   ],
   "source": [
    "'''\n",
    "Given a string of numbers separated by a comma and space, return the product of the \n",
    "numbers. \n",
    "Examples \n",
    "multiply_nums(\"2, 3\") ➞ 6 \n",
    "multiply_nums(\"1, 2, 3, 4\") ➞ 24 \n",
    "multiply_nums(\"54, 75, 453, 0\") ➞ 0 \n",
    "multiply_nums(\"10, -2\") ➞ -20 \n",
    "'''\n",
    "def multiply_nums(stri):\n",
    "    list1=stri.split(',')\n",
    "    mult=1\n",
    "    for i in list1:\n",
    "        mult*=int(i)\n",
    "    return mult\n",
    "    #print(list1)\n",
    "multiply_nums(\"2, 3\") \n",
    "multiply_nums(\"1, 2, 3, 4\")\n",
    "multiply_nums(\"54, 75, 453, 0\")\n",
    "multiply_nums(\"10, -2\")"
   ]
  },
  {
   "cell_type": "code",
   "execution_count": 18,
   "id": "36e2c692-e953-43ea-ab85-0348db6eda0b",
   "metadata": {},
   "outputs": [
    {
     "data": {
      "text/plain": [
       "9414"
      ]
     },
     "execution_count": 18,
     "metadata": {},
     "output_type": "execute_result"
    }
   ],
   "source": [
    "'''\n",
    "Create a function that squares every digit of a number.\n",
    "Examples\n",
    "square_digits(9119) ➞ 811181\n",
    "square_digits(2483) ➞ 416649\n",
    "square_digits(3212) ➞ 9414\n",
    "Notes\n",
    "The function receives an integer and must return an integer.\n",
    "'''\n",
    "def square_digits(num):\n",
    "    strnum=str(num)\n",
    "    strr=''\n",
    "    for i in strnum:\n",
    "        j=int(i)**2\n",
    "        strr+=str(j)\n",
    "    return int(strr)\n",
    "square_digits(9119)\n",
    "square_digits(2483)\n",
    "square_digits(3212)"
   ]
  },
  {
   "cell_type": "code",
   "execution_count": 23,
   "id": "ab89605c-75c8-44b8-b01d-0ed55e17a5e7",
   "metadata": {},
   "outputs": [
    {
     "data": {
      "text/plain": [
       "[1, 2, 3]"
      ]
     },
     "execution_count": 23,
     "metadata": {},
     "output_type": "execute_result"
    }
   ],
   "source": [
    "'''\n",
    "Create a function that sorts a list and removes all duplicate items from it.\n",
    "Examples\n",
    "setify([1, 3, 3, 5, 5]) ➞ [1, 3, 5]\n",
    "setify([4, 4, 4, 4]) ➞ [4]\n",
    "setify([5, 7, 8, 9, 10, 15]) ➞ [5, 7, 8, 9, 10, 15]\n",
    "setify([3, 3, 3, 2, 1]) ➞ [1, 2, 3]\n",
    "'''\n",
    "def setify(list1):\n",
    "    set1=set(list1)\n",
    "    return list(set1)\n",
    "setify([1, 3, 3, 5, 5])\n",
    "setify([4, 4, 4, 4])\n",
    "setify([5, 7, 8, 9, 10, 15])\n",
    "setify([3, 3, 3, 2, 1])"
   ]
  },
  {
   "cell_type": "code",
   "execution_count": 27,
   "id": "0a52cc54-eb4b-4420-a974-0a79db3dd2a0",
   "metadata": {},
   "outputs": [
    {
     "data": {
      "text/plain": [
       "6"
      ]
     },
     "execution_count": 27,
     "metadata": {},
     "output_type": "execute_result"
    }
   ],
   "source": [
    "'''\n",
    "Create a function that returns the mean of all digits.\n",
    "Examples\n",
    "mean(42) ➞ 3\n",
    "mean(12345) ➞ 3\n",
    "mean(666) ➞ 6\n",
    "Notes\n",
    " The mean of all digits is the sum of digits / how many digits there are (e.g. mean of digits in\n",
    "512 is (5+1+2)/3(number of digits) = 8/3=2).\n",
    " The mean will always be an integer.\n",
    "'''\n",
    "def mean(num):\n",
    "    strnum=str(num)\n",
    "    sum=0\n",
    "    length=len(strnum)\n",
    "    for i in strnum:\n",
    "        sum+=int(i)\n",
    "    return int(sum/length)\n",
    "mean(42)\n",
    "mean(12345)\n",
    "mean(666) "
   ]
  },
  {
   "cell_type": "code",
   "execution_count": null,
   "id": "f9f93b6c-8e26-4358-a821-641d785fab3d",
   "metadata": {},
   "outputs": [],
   "source": []
  }
 ],
 "metadata": {
  "kernelspec": {
   "display_name": "Python 3 (ipykernel)",
   "language": "python",
   "name": "python3"
  },
  "language_info": {
   "codemirror_mode": {
    "name": "ipython",
    "version": 3
   },
   "file_extension": ".py",
   "mimetype": "text/x-python",
   "name": "python",
   "nbconvert_exporter": "python",
   "pygments_lexer": "ipython3",
   "version": "3.10.6"
  }
 },
 "nbformat": 4,
 "nbformat_minor": 5
}
